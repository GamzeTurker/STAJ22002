{
 "cells": [
  {
   "cell_type": "markdown",
   "id": "9b4e23a5",
   "metadata": {
    "papermill": {
     "duration": 0.037116,
     "end_time": "2024-09-15T22:28:19.128933",
     "exception": false,
     "start_time": "2024-09-15T22:28:19.091817",
     "status": "completed"
    },
    "tags": []
   },
   "source": [
    "#Introduction\n",
    "The sinking of Titanic is one of the most notorious shipwrecks in the history.In 1912,during her voyage, the Titanic sank after colliding with an iceberg,killing 1502 out of 2224 passengers and crew.\n",
    "\n",
    "<font color=\"blue\">\n",
    "Content:\n",
    "    \n",
    "1. [Load and Chech Data](#1)\n",
    "1. [Variable Description](#2)\n",
    "    *  [Univariate Variable Analysis](#3) \n",
    "        *  [Categorical Variable Analysis](#4)\n",
    "        *  [Numerical Variable Analysis](#5) \n",
    "    \n",
    "1. [Basic Data Analysis](#6)    \n",
    "1. [Outlier Detection](#7)    \n",
    "1. [Missing Value](#8)       \n",
    "    *  [Find Missing Value](#9) \n",
    "    *  [Fill Missing Value](#10)\n",
    "1. [Visualization](#11) \n",
    "    * [Correlation Between SibSp -- Parch -- Age -- Fare -- Survived](#12)    \n",
    "    * [SibSp -- Survived](#13)\n",
    "    * [Parch -- Survived](#14)\n",
    "    * [Pclass-- Survived](#15)\n",
    "    * [Age-- Survived](#16)\n",
    "    * [Pclass -- Age -- Survived](#17)\n",
    "    * [Embarked -- Sex -- Pclass --  Survived](#18)\n",
    "    * [Embarked -- Sex --  Fare -- Survived](#19)\n",
    "    * [Fill Missing; Age Feature](#20)\n",
    "1. [Feature Engineering](#21)\n",
    "    * [Name -- Title](#22)\n",
    "    * [Family Size](#23)\n",
    "    * [Embarked](#24)\n",
    "    * [Ticket](#25)\n",
    "    * [Pclass](#26)\n",
    "    * [Sex](#27)\n",
    "    * [Drop Passenger ID and Cabin](#28)\n",
    "1. [Modeling](#29)\n",
    "    * [Train - Test Split ](#30)\n",
    "    * [Simple Logistic Regression ](#31)\n",
    "    * [Hyperparameter Tuning -- Grid Search -- Cross Validation](#32)\n",
    "    * [Ensemble Modeling](#33)\n",
    "    * [Prediction and Submission](#34)"
   ]
  },
  {
   "cell_type": "code",
   "execution_count": 1,
   "id": "198c3c89",
   "metadata": {
    "_cell_guid": "b1076dfc-b9ad-4769-8c92-a6c4dae69d19",
    "_uuid": "8f2839f25d086af736a60e9eeb907d3b93b6e0e5",
    "execution": {
     "iopub.execute_input": "2024-09-15T22:28:19.202995Z",
     "iopub.status.busy": "2024-09-15T22:28:19.202505Z",
     "iopub.status.idle": "2024-09-15T22:28:21.934312Z",
     "shell.execute_reply": "2024-09-15T22:28:21.932879Z"
    },
    "papermill": {
     "duration": 2.771753,
     "end_time": "2024-09-15T22:28:21.937496",
     "exception": false,
     "start_time": "2024-09-15T22:28:19.165743",
     "status": "completed"
    },
    "tags": []
   },
   "outputs": [
    {
     "name": "stderr",
     "output_type": "stream",
     "text": [
      "/tmp/ipykernel_18/3680041419.py:8: MatplotlibDeprecationWarning: The seaborn styles shipped by Matplotlib are deprecated since 3.6, as they no longer correspond to the styles shipped by seaborn. However, they will remain available as 'seaborn-v0_8-<style>'. Alternatively, directly use the seaborn API instead.\n",
      "  plt.style.use(\"seaborn-whitegrid\")\n"
     ]
    },
    {
     "name": "stdout",
     "output_type": "stream",
     "text": [
      "/kaggle/input/titanic/train.csv\n",
      "/kaggle/input/titanic/test.csv\n",
      "/kaggle/input/titanic/gender_submission.csv\n"
     ]
    }
   ],
   "source": [
    "# This Python 3 environment comes with many helpful analytics libraries installed\n",
    "# It is defined by the kaggle/python Docker image: https://github.com/kaggle/docker-python\n",
    "# For example, here's several helpful packages to load\n",
    "\n",
    "import numpy as np # linear algebra\n",
    "import pandas as pd # data processing, CSV file I/O (e.g. pd.read_csv)\n",
    "import matplotlib.pyplot as plt\n",
    "plt.style.use(\"seaborn-whitegrid\")\n",
    "import seaborn as sns\n",
    "from collections import Counter\n",
    "import warnings\n",
    "warnings.filterwarnings(\"ignore\")\n",
    "# Input data files are available in the read-only \"../input/\" directory\n",
    "# For example, running this (by clicking run or pressing Shift+Enter) will list all files under the input directory\n",
    "\n",
    "import os\n",
    "for dirname, _, filenames in os.walk('/kaggle/input'):\n",
    "    for filename in filenames:\n",
    "        print(os.path.join(dirname, filename))\n",
    "\n",
    "# You can write up to 20GB to the current directory (/kaggle/working/) that gets preserved as output when you create a version using \"Save & Run All\" \n",
    "# You can also write temporary files to /kaggle/temp/, but they won't be saved outside of the current session"
   ]
  },
  {
   "cell_type": "markdown",
   "id": "66f2aa75",
   "metadata": {
    "papermill": {
     "duration": 0.035268,
     "end_time": "2024-09-15T22:28:22.008369",
     "exception": false,
     "start_time": "2024-09-15T22:28:21.973101",
     "status": "completed"
    },
    "tags": []
   },
   "source": [
    "<a id=\"1\"></a><br>\n",
    "# Load and Chech Data"
   ]
  },
  {
   "cell_type": "code",
   "execution_count": 2,
   "id": "30e0651b",
   "metadata": {
    "execution": {
     "iopub.execute_input": "2024-09-15T22:28:22.082028Z",
     "iopub.status.busy": "2024-09-15T22:28:22.081396Z",
     "iopub.status.idle": "2024-09-15T22:28:22.121528Z",
     "shell.execute_reply": "2024-09-15T22:28:22.120182Z"
    },
    "papermill": {
     "duration": 0.080897,
     "end_time": "2024-09-15T22:28:22.124496",
     "exception": false,
     "start_time": "2024-09-15T22:28:22.043599",
     "status": "completed"
    },
    "tags": []
   },
   "outputs": [],
   "source": [
    "train_df=pd.read_csv(\"/kaggle/input/titanic/train.csv\")\n",
    "test_df=pd.read_csv(\"/kaggle/input/titanic/test.csv\")\n",
    "test_PassengerId=test_df[\"PassengerId\"]"
   ]
  },
  {
   "cell_type": "code",
   "execution_count": 3,
   "id": "bb223cbe",
   "metadata": {
    "execution": {
     "iopub.execute_input": "2024-09-15T22:28:22.197303Z",
     "iopub.status.busy": "2024-09-15T22:28:22.196899Z",
     "iopub.status.idle": "2024-09-15T22:28:22.206608Z",
     "shell.execute_reply": "2024-09-15T22:28:22.205483Z"
    },
    "papermill": {
     "duration": 0.049706,
     "end_time": "2024-09-15T22:28:22.209444",
     "exception": false,
     "start_time": "2024-09-15T22:28:22.159738",
     "status": "completed"
    },
    "tags": []
   },
   "outputs": [
    {
     "data": {
      "text/plain": [
       "Index(['PassengerId', 'Survived', 'Pclass', 'Name', 'Sex', 'Age', 'SibSp',\n",
       "       'Parch', 'Ticket', 'Fare', 'Cabin', 'Embarked'],\n",
       "      dtype='object')"
      ]
     },
     "execution_count": 3,
     "metadata": {},
     "output_type": "execute_result"
    }
   ],
   "source": [
    "train_df.columns"
   ]
  },
  {
   "cell_type": "code",
   "execution_count": 4,
   "id": "96875f08",
   "metadata": {
    "execution": {
     "iopub.execute_input": "2024-09-15T22:28:22.281622Z",
     "iopub.status.busy": "2024-09-15T22:28:22.281211Z",
     "iopub.status.idle": "2024-09-15T22:28:22.305372Z",
     "shell.execute_reply": "2024-09-15T22:28:22.304118Z"
    },
    "papermill": {
     "duration": 0.06346,
     "end_time": "2024-09-15T22:28:22.308009",
     "exception": false,
     "start_time": "2024-09-15T22:28:22.244549",
     "status": "completed"
    },
    "tags": []
   },
   "outputs": [
    {
     "data": {
      "text/html": [
       "<div>\n",
       "<style scoped>\n",
       "    .dataframe tbody tr th:only-of-type {\n",
       "        vertical-align: middle;\n",
       "    }\n",
       "\n",
       "    .dataframe tbody tr th {\n",
       "        vertical-align: top;\n",
       "    }\n",
       "\n",
       "    .dataframe thead th {\n",
       "        text-align: right;\n",
       "    }\n",
       "</style>\n",
       "<table border=\"1\" class=\"dataframe\">\n",
       "  <thead>\n",
       "    <tr style=\"text-align: right;\">\n",
       "      <th></th>\n",
       "      <th>PassengerId</th>\n",
       "      <th>Survived</th>\n",
       "      <th>Pclass</th>\n",
       "      <th>Name</th>\n",
       "      <th>Sex</th>\n",
       "      <th>Age</th>\n",
       "      <th>SibSp</th>\n",
       "      <th>Parch</th>\n",
       "      <th>Ticket</th>\n",
       "      <th>Fare</th>\n",
       "      <th>Cabin</th>\n",
       "      <th>Embarked</th>\n",
       "    </tr>\n",
       "  </thead>\n",
       "  <tbody>\n",
       "    <tr>\n",
       "      <th>0</th>\n",
       "      <td>1</td>\n",
       "      <td>0</td>\n",
       "      <td>3</td>\n",
       "      <td>Braund, Mr. Owen Harris</td>\n",
       "      <td>male</td>\n",
       "      <td>22.0</td>\n",
       "      <td>1</td>\n",
       "      <td>0</td>\n",
       "      <td>A/5 21171</td>\n",
       "      <td>7.2500</td>\n",
       "      <td>NaN</td>\n",
       "      <td>S</td>\n",
       "    </tr>\n",
       "    <tr>\n",
       "      <th>1</th>\n",
       "      <td>2</td>\n",
       "      <td>1</td>\n",
       "      <td>1</td>\n",
       "      <td>Cumings, Mrs. John Bradley (Florence Briggs Th...</td>\n",
       "      <td>female</td>\n",
       "      <td>38.0</td>\n",
       "      <td>1</td>\n",
       "      <td>0</td>\n",
       "      <td>PC 17599</td>\n",
       "      <td>71.2833</td>\n",
       "      <td>C85</td>\n",
       "      <td>C</td>\n",
       "    </tr>\n",
       "    <tr>\n",
       "      <th>2</th>\n",
       "      <td>3</td>\n",
       "      <td>1</td>\n",
       "      <td>3</td>\n",
       "      <td>Heikkinen, Miss. Laina</td>\n",
       "      <td>female</td>\n",
       "      <td>26.0</td>\n",
       "      <td>0</td>\n",
       "      <td>0</td>\n",
       "      <td>STON/O2. 3101282</td>\n",
       "      <td>7.9250</td>\n",
       "      <td>NaN</td>\n",
       "      <td>S</td>\n",
       "    </tr>\n",
       "    <tr>\n",
       "      <th>3</th>\n",
       "      <td>4</td>\n",
       "      <td>1</td>\n",
       "      <td>1</td>\n",
       "      <td>Futrelle, Mrs. Jacques Heath (Lily May Peel)</td>\n",
       "      <td>female</td>\n",
       "      <td>35.0</td>\n",
       "      <td>1</td>\n",
       "      <td>0</td>\n",
       "      <td>113803</td>\n",
       "      <td>53.1000</td>\n",
       "      <td>C123</td>\n",
       "      <td>S</td>\n",
       "    </tr>\n",
       "    <tr>\n",
       "      <th>4</th>\n",
       "      <td>5</td>\n",
       "      <td>0</td>\n",
       "      <td>3</td>\n",
       "      <td>Allen, Mr. William Henry</td>\n",
       "      <td>male</td>\n",
       "      <td>35.0</td>\n",
       "      <td>0</td>\n",
       "      <td>0</td>\n",
       "      <td>373450</td>\n",
       "      <td>8.0500</td>\n",
       "      <td>NaN</td>\n",
       "      <td>S</td>\n",
       "    </tr>\n",
       "  </tbody>\n",
       "</table>\n",
       "</div>"
      ],
      "text/plain": [
       "   PassengerId  Survived  Pclass  \\\n",
       "0            1         0       3   \n",
       "1            2         1       1   \n",
       "2            3         1       3   \n",
       "3            4         1       1   \n",
       "4            5         0       3   \n",
       "\n",
       "                                                Name     Sex   Age  SibSp  \\\n",
       "0                            Braund, Mr. Owen Harris    male  22.0      1   \n",
       "1  Cumings, Mrs. John Bradley (Florence Briggs Th...  female  38.0      1   \n",
       "2                             Heikkinen, Miss. Laina  female  26.0      0   \n",
       "3       Futrelle, Mrs. Jacques Heath (Lily May Peel)  female  35.0      1   \n",
       "4                           Allen, Mr. William Henry    male  35.0      0   \n",
       "\n",
       "   Parch            Ticket     Fare Cabin Embarked  \n",
       "0      0         A/5 21171   7.2500   NaN        S  \n",
       "1      0          PC 17599  71.2833   C85        C  \n",
       "2      0  STON/O2. 3101282   7.9250   NaN        S  \n",
       "3      0            113803  53.1000  C123        S  \n",
       "4      0            373450   8.0500   NaN        S  "
      ]
     },
     "execution_count": 4,
     "metadata": {},
     "output_type": "execute_result"
    }
   ],
   "source": [
    "train_df.head()"
   ]
  },
  {
   "cell_type": "code",
   "execution_count": 5,
   "id": "a4c5a359",
   "metadata": {
    "execution": {
     "iopub.execute_input": "2024-09-15T22:28:22.382389Z",
     "iopub.status.busy": "2024-09-15T22:28:22.381935Z",
     "iopub.status.idle": "2024-09-15T22:28:22.417019Z",
     "shell.execute_reply": "2024-09-15T22:28:22.415796Z"
    },
    "papermill": {
     "duration": 0.074647,
     "end_time": "2024-09-15T22:28:22.419539",
     "exception": false,
     "start_time": "2024-09-15T22:28:22.344892",
     "status": "completed"
    },
    "tags": []
   },
   "outputs": [
    {
     "data": {
      "text/html": [
       "<div>\n",
       "<style scoped>\n",
       "    .dataframe tbody tr th:only-of-type {\n",
       "        vertical-align: middle;\n",
       "    }\n",
       "\n",
       "    .dataframe tbody tr th {\n",
       "        vertical-align: top;\n",
       "    }\n",
       "\n",
       "    .dataframe thead th {\n",
       "        text-align: right;\n",
       "    }\n",
       "</style>\n",
       "<table border=\"1\" class=\"dataframe\">\n",
       "  <thead>\n",
       "    <tr style=\"text-align: right;\">\n",
       "      <th></th>\n",
       "      <th>PassengerId</th>\n",
       "      <th>Survived</th>\n",
       "      <th>Pclass</th>\n",
       "      <th>Age</th>\n",
       "      <th>SibSp</th>\n",
       "      <th>Parch</th>\n",
       "      <th>Fare</th>\n",
       "    </tr>\n",
       "  </thead>\n",
       "  <tbody>\n",
       "    <tr>\n",
       "      <th>count</th>\n",
       "      <td>891.000000</td>\n",
       "      <td>891.000000</td>\n",
       "      <td>891.000000</td>\n",
       "      <td>714.000000</td>\n",
       "      <td>891.000000</td>\n",
       "      <td>891.000000</td>\n",
       "      <td>891.000000</td>\n",
       "    </tr>\n",
       "    <tr>\n",
       "      <th>mean</th>\n",
       "      <td>446.000000</td>\n",
       "      <td>0.383838</td>\n",
       "      <td>2.308642</td>\n",
       "      <td>29.699118</td>\n",
       "      <td>0.523008</td>\n",
       "      <td>0.381594</td>\n",
       "      <td>32.204208</td>\n",
       "    </tr>\n",
       "    <tr>\n",
       "      <th>std</th>\n",
       "      <td>257.353842</td>\n",
       "      <td>0.486592</td>\n",
       "      <td>0.836071</td>\n",
       "      <td>14.526497</td>\n",
       "      <td>1.102743</td>\n",
       "      <td>0.806057</td>\n",
       "      <td>49.693429</td>\n",
       "    </tr>\n",
       "    <tr>\n",
       "      <th>min</th>\n",
       "      <td>1.000000</td>\n",
       "      <td>0.000000</td>\n",
       "      <td>1.000000</td>\n",
       "      <td>0.420000</td>\n",
       "      <td>0.000000</td>\n",
       "      <td>0.000000</td>\n",
       "      <td>0.000000</td>\n",
       "    </tr>\n",
       "    <tr>\n",
       "      <th>25%</th>\n",
       "      <td>223.500000</td>\n",
       "      <td>0.000000</td>\n",
       "      <td>2.000000</td>\n",
       "      <td>20.125000</td>\n",
       "      <td>0.000000</td>\n",
       "      <td>0.000000</td>\n",
       "      <td>7.910400</td>\n",
       "    </tr>\n",
       "    <tr>\n",
       "      <th>50%</th>\n",
       "      <td>446.000000</td>\n",
       "      <td>0.000000</td>\n",
       "      <td>3.000000</td>\n",
       "      <td>28.000000</td>\n",
       "      <td>0.000000</td>\n",
       "      <td>0.000000</td>\n",
       "      <td>14.454200</td>\n",
       "    </tr>\n",
       "    <tr>\n",
       "      <th>75%</th>\n",
       "      <td>668.500000</td>\n",
       "      <td>1.000000</td>\n",
       "      <td>3.000000</td>\n",
       "      <td>38.000000</td>\n",
       "      <td>1.000000</td>\n",
       "      <td>0.000000</td>\n",
       "      <td>31.000000</td>\n",
       "    </tr>\n",
       "    <tr>\n",
       "      <th>max</th>\n",
       "      <td>891.000000</td>\n",
       "      <td>1.000000</td>\n",
       "      <td>3.000000</td>\n",
       "      <td>80.000000</td>\n",
       "      <td>8.000000</td>\n",
       "      <td>6.000000</td>\n",
       "      <td>512.329200</td>\n",
       "    </tr>\n",
       "  </tbody>\n",
       "</table>\n",
       "</div>"
      ],
      "text/plain": [
       "       PassengerId    Survived      Pclass         Age       SibSp  \\\n",
       "count   891.000000  891.000000  891.000000  714.000000  891.000000   \n",
       "mean    446.000000    0.383838    2.308642   29.699118    0.523008   \n",
       "std     257.353842    0.486592    0.836071   14.526497    1.102743   \n",
       "min       1.000000    0.000000    1.000000    0.420000    0.000000   \n",
       "25%     223.500000    0.000000    2.000000   20.125000    0.000000   \n",
       "50%     446.000000    0.000000    3.000000   28.000000    0.000000   \n",
       "75%     668.500000    1.000000    3.000000   38.000000    1.000000   \n",
       "max     891.000000    1.000000    3.000000   80.000000    8.000000   \n",
       "\n",
       "            Parch        Fare  \n",
       "count  891.000000  891.000000  \n",
       "mean     0.381594   32.204208  \n",
       "std      0.806057   49.693429  \n",
       "min      0.000000    0.000000  \n",
       "25%      0.000000    7.910400  \n",
       "50%      0.000000   14.454200  \n",
       "75%      0.000000   31.000000  \n",
       "max      6.000000  512.329200  "
      ]
     },
     "execution_count": 5,
     "metadata": {},
     "output_type": "execute_result"
    }
   ],
   "source": [
    "train_df.describe()"
   ]
  },
  {
   "cell_type": "markdown",
   "id": "e7f3edac",
   "metadata": {
    "papermill": {
     "duration": 0.035711,
     "end_time": "2024-09-15T22:28:22.491491",
     "exception": false,
     "start_time": "2024-09-15T22:28:22.455780",
     "status": "completed"
    },
    "tags": []
   },
   "source": [
    "<a id=\"2\"></a><br>\n",
    "# Variable Description\n",
    "1. PassengerId :unique id number to eachb passenger\n",
    "2. Survived : passenger survive(1) or died(0)\n",
    "3. Pclass : passenger class\n",
    "4. Name : name\n",
    "5. Sex : gender of passenger\n",
    "6. Age : age of passenger\n",
    "7. SibSp : number of siblings/spouses\n",
    "8. Parch : number of parents/children\n",
    "9. Ticket : ticket number\n",
    "10. Fare : amount of money spent on ticket\n",
    "11. Cabin : cabin category\n",
    "12. Embarked : port where passenger embarked(C= Cherbourg , Q=Queenstown,S=Southampton)"
   ]
  },
  {
   "cell_type": "code",
   "execution_count": 6,
   "id": "cb6f0797",
   "metadata": {
    "execution": {
     "iopub.execute_input": "2024-09-15T22:28:22.565435Z",
     "iopub.status.busy": "2024-09-15T22:28:22.565013Z",
     "iopub.status.idle": "2024-09-15T22:28:22.587394Z",
     "shell.execute_reply": "2024-09-15T22:28:22.585947Z"
    },
    "papermill": {
     "duration": 0.062338,
     "end_time": "2024-09-15T22:28:22.590135",
     "exception": false,
     "start_time": "2024-09-15T22:28:22.527797",
     "status": "completed"
    },
    "tags": []
   },
   "outputs": [
    {
     "name": "stdout",
     "output_type": "stream",
     "text": [
      "<class 'pandas.core.frame.DataFrame'>\n",
      "RangeIndex: 891 entries, 0 to 890\n",
      "Data columns (total 12 columns):\n",
      " #   Column       Non-Null Count  Dtype  \n",
      "---  ------       --------------  -----  \n",
      " 0   PassengerId  891 non-null    int64  \n",
      " 1   Survived     891 non-null    int64  \n",
      " 2   Pclass       891 non-null    int64  \n",
      " 3   Name         891 non-null    object \n",
      " 4   Sex          891 non-null    object \n",
      " 5   Age          714 non-null    float64\n",
      " 6   SibSp        891 non-null    int64  \n",
      " 7   Parch        891 non-null    int64  \n",
      " 8   Ticket       891 non-null    object \n",
      " 9   Fare         891 non-null    float64\n",
      " 10  Cabin        204 non-null    object \n",
      " 11  Embarked     889 non-null    object \n",
      "dtypes: float64(2), int64(5), object(5)\n",
      "memory usage: 83.7+ KB\n"
     ]
    }
   ],
   "source": [
    "train_df.info()"
   ]
  },
  {
   "cell_type": "markdown",
   "id": "2d84d3c9",
   "metadata": {
    "papermill": {
     "duration": 0.094438,
     "end_time": "2024-09-15T22:28:22.720922",
     "exception": false,
     "start_time": "2024-09-15T22:28:22.626484",
     "status": "completed"
    },
    "tags": []
   },
   "source": [
    "* float64(2) : Fare and Age\n",
    "* int64(5) : Pclass, sibsp , parch ,passengerId and survived\n",
    "* object(5) :Cabin , embarked ,ticket name and sex"
   ]
  },
  {
   "cell_type": "markdown",
   "id": "2fc714e7",
   "metadata": {
    "papermill": {
     "duration": 0.035814,
     "end_time": "2024-09-15T22:28:22.792914",
     "exception": false,
     "start_time": "2024-09-15T22:28:22.757100",
     "status": "completed"
    },
    "tags": []
   },
   "source": [
    "<a id=\"3\"></a><br>\n",
    "\n",
    "# Univariate Variable Analysis\n",
    "* Categorical Variable Analysis :Survived ,Sex ,Pclass ,Embarked, Cabin ,Name , Ticket , Sibsp and Parch\n",
    "* Numerical Variable Analysis : Age , Fare and PassengerId"
   ]
  },
  {
   "cell_type": "markdown",
   "id": "a2a83bb2",
   "metadata": {
    "papermill": {
     "duration": 0.040572,
     "end_time": "2024-09-15T22:28:22.871686",
     "exception": false,
     "start_time": "2024-09-15T22:28:22.831114",
     "status": "completed"
    },
    "tags": []
   },
   "source": [
    "<a id=\"4\"></a><br>\n",
    "\n",
    "## Categorical Variable Analysis"
   ]
  },
  {
   "cell_type": "code",
   "execution_count": 7,
   "id": "d14e7e48",
   "metadata": {
    "execution": {
     "iopub.execute_input": "2024-09-15T22:28:22.946090Z",
     "iopub.status.busy": "2024-09-15T22:28:22.945677Z",
     "iopub.status.idle": "2024-09-15T22:28:22.954047Z",
     "shell.execute_reply": "2024-09-15T22:28:22.952868Z"
    },
    "papermill": {
     "duration": 0.048756,
     "end_time": "2024-09-15T22:28:22.956689",
     "exception": false,
     "start_time": "2024-09-15T22:28:22.907933",
     "status": "completed"
    },
    "tags": []
   },
   "outputs": [],
   "source": [
    "def bar_plot(variable):\n",
    "    \"\"\"\n",
    "        input :variable ex :\"Sex\"\n",
    "        output: bar plot & value count\n",
    "    \n",
    "    \"\"\"\n",
    "    #get feature\n",
    "    var=train_df[variable]\n",
    "    #count number of categorical variable(value/sample)\n",
    "    varValue=var.value_counts()\n",
    "    \n",
    "    #visualize\n",
    "    plt.figure(figsize=(9,3))\n",
    "    plt.bar(varValue.index, varValue)\n",
    "    plt.xticks(varValue.index,varValue.index.values)\n",
    "    plt.ylabel(\"Frequency\")\n",
    "    plt.title(variable)\n",
    "    plt.show()\n",
    "    print(\"{}: \\n {} \".format(variable,varValue))"
   ]
  },
  {
   "cell_type": "code",
   "execution_count": 8,
   "id": "aebf8f49",
   "metadata": {
    "execution": {
     "iopub.execute_input": "2024-09-15T22:28:23.032498Z",
     "iopub.status.busy": "2024-09-15T22:28:23.032101Z",
     "iopub.status.idle": "2024-09-15T22:28:24.434717Z",
     "shell.execute_reply": "2024-09-15T22:28:24.433472Z"
    },
    "papermill": {
     "duration": 1.445264,
     "end_time": "2024-09-15T22:28:24.438337",
     "exception": false,
     "start_time": "2024-09-15T22:28:22.993073",
     "status": "completed"
    },
    "tags": []
   },
   "outputs": [
    {
     "data": {
      "image/png": "[encoded data removed]",
      "text/plain": [
       "<Figure size 900x300 with 1 Axes>"
      ]
     },
     "metadata": {},
     "output_type": "display_data"
    },
    {
     "name": "stdout",
     "output_type": "stream",
     "text": [
      "Survived: \n",
      " Survived\n",
      "0    549\n",
      "1    342\n",
      "Name: count, dtype: int64 \n"
     ]
    },
    {
     "data": {
      "image/png": "[encoded data removed]",
      "text/plain": [
       "<Figure size 900x300 with 1 Axes>"
      ]
     },
     "metadata": {},
     "output_type": "display_data"
    },
    {
     "name": "stdout",
     "output_type": "stream",
     "text": [
      "Sex: \n",
      " Sex\n",
      "male      577\n",
      "female    314\n",
      "Name: count, dtype: int64 \n"
     ]
    },
    {
     "data": {
      "image/png": "[encoded data removed]",
      "text/plain": [
       "<Figure size 900x300 with 1 Axes>"
      ]
     },
     "metadata": {},
     "output_type": "display_data"
    },
    {
     "name": "stdout",
     "output_type": "stream",
     "text": [
      "Pclass: \n",
      " Pclass\n",
      "3    491\n",
      "1    216\n",
      "2    184\n",
      "Name: count, dtype: int64 \n"
     ]
    },
    {
     "data": {
      "image/png": "[encoded data removed]",
      "text/plain": [
       "<Figure size 900x300 with 1 Axes>"
      ]
     },
     "metadata": {},
     "output_type": "display_data"
    },
    {
     "name": "stdout",
     "output_type": "stream",
     "text": [
      "Embarked: \n",
      " Embarked\n",
      "S    644\n",
      "C    168\n",
      "Q     77\n",
      "Name: count, dtype: int64 \n"
     ]
    },
    {
     "data": {
      "image/png": "[encoded data removed]",
      "text/plain": [
       "<Figure size 900x300 with 1 Axes>"
      ]
     },
     "metadata": {},
     "output_type": "display_data"
    },
    {
     "name": "stdout",
     "output_type": "stream",
     "text": [
      "SibSp: \n",
      " SibSp\n",
      "0    608\n",
      "1    209\n",
      "2     28\n",
      "4     18\n",
      "3     16\n",
      "8      7\n",
      "5      5\n",
      "Name: count, dtype: int64 \n"
     ]
    },
    {
     "data": {
      "image/png": "[encoded data removed]",
      "text/plain": [
       "<Figure size 900x300 with 1 Axes>"
      ]
     },
     "metadata": {},
     "output_type": "display_data"
    },
    {
     "name": "stdout",
     "output_type": "stream",
     "text": [
      "Parch: \n",
      " Parch\n",
      "0    678\n",
      "1    118\n",
      "2     80\n",
      "5      5\n",
      "3      5\n",
      "4      4\n",
      "6      1\n",
      "Name: count, dtype: int64 \n"
     ]
    }
   ],
   "source": [
    "category1=[\"Survived\",\"Sex\",\"Pclass\",\"Embarked\",\"SibSp\",\"Parch\"]\n",
    "for i in category1:\n",
    "    bar_plot(i)"
   ]
  },
  {
   "cell_type": "code",
   "execution_count": 9,
   "id": "4e4d7d8f",
   "metadata": {
    "execution": {
     "iopub.execute_input": "2024-09-15T22:28:24.517877Z",
     "iopub.status.busy": "2024-09-15T22:28:24.517449Z",
     "iopub.status.idle": "2024-09-15T22:28:24.530719Z",
     "shell.execute_reply": "2024-09-15T22:28:24.529480Z"
    },
    "papermill": {
     "duration": 0.056193,
     "end_time": "2024-09-15T22:28:24.533352",
     "exception": false,
     "start_time": "2024-09-15T22:28:24.477159",
     "status": "completed"
    },
    "tags": []
   },
   "outputs": [
    {
     "name": "stdout",
     "output_type": "stream",
     "text": [
      "Cabin\n",
      "B96 B98        4\n",
      "G6             4\n",
      "C23 C25 C27    4\n",
      "C22 C26        3\n",
      "F33            3\n",
      "              ..\n",
      "E34            1\n",
      "C7             1\n",
      "C54            1\n",
      "E36            1\n",
      "C148           1\n",
      "Name: count, Length: 147, dtype: int64 \n",
      "\n",
      "Name\n",
      "Braund, Mr. Owen Harris                     1\n",
      "Boulos, Mr. Hanna                           1\n",
      "Frolicher-Stehli, Mr. Maxmillian            1\n",
      "Gilinski, Mr. Eliezer                       1\n",
      "Murdlin, Mr. Joseph                         1\n",
      "                                           ..\n",
      "Kelly, Miss. Anna Katherine \"Annie Kate\"    1\n",
      "McCoy, Mr. Bernard                          1\n",
      "Johnson, Mr. William Cahoone Jr             1\n",
      "Keane, Miss. Nora A                         1\n",
      "Dooley, Mr. Patrick                         1\n",
      "Name: count, Length: 891, dtype: int64 \n",
      "\n",
      "Ticket\n",
      "347082      7\n",
      "CA. 2343    7\n",
      "1601        7\n",
      "3101295     6\n",
      "CA 2144     6\n",
      "           ..\n",
      "9234        1\n",
      "19988       1\n",
      "2693        1\n",
      "PC 17612    1\n",
      "370376      1\n",
      "Name: count, Length: 681, dtype: int64 \n",
      "\n"
     ]
    }
   ],
   "source": [
    "category2=[\"Cabin\",\"Name\",\"Ticket\"]\n",
    "for c in category2:\n",
    "    print(\"{} \\n\".format(train_df[c].value_counts()))"
   ]
  },
  {
   "cell_type": "markdown",
   "id": "3ec30f72",
   "metadata": {
    "papermill": {
     "duration": 0.038655,
     "end_time": "2024-09-15T22:28:24.611609",
     "exception": false,
     "start_time": "2024-09-15T22:28:24.572954",
     "status": "completed"
    },
    "tags": []
   },
   "source": [
    "<a id=\"5\"></a><br>\n",
    "\n",
    "## Numerical Variable Analysis"
   ]
  },
  {
   "cell_type": "code",
   "execution_count": 10,
   "id": "d1e3434f",
   "metadata": {
    "execution": {
     "iopub.execute_input": "2024-09-15T22:28:24.693509Z",
     "iopub.status.busy": "2024-09-15T22:28:24.693074Z",
     "iopub.status.idle": "2024-09-15T22:28:24.700315Z",
     "shell.execute_reply": "2024-09-15T22:28:24.699034Z"
    },
    "papermill": {
     "duration": 0.050574,
     "end_time": "2024-09-15T22:28:24.702900",
     "exception": false,
     "start_time": "2024-09-15T22:28:24.652326",
     "status": "completed"
    },
    "tags": []
   },
   "outputs": [],
   "source": [
    "def plot_hist(variable):\n",
    "    plt.figure(figsize=(9,3))\n",
    "    plt.hist(train_df[variable],bins=50)\n",
    "    plt.xlabel(variable)\n",
    "    plt.ylabel(\"Frequency\")\n",
    "    plt.title(\"{} distribution with hist\".format(variable))\n",
    "    plt.show()"
   ]
  },
  {
   "cell_type": "code",
   "execution_count": 11,
   "id": "01345835",
   "metadata": {
    "execution": {
     "iopub.execute_input": "2024-09-15T22:28:24.783118Z",
     "iopub.status.busy": "2024-09-15T22:28:24.782699Z",
     "iopub.status.idle": "2024-09-15T22:28:25.881247Z",
     "shell.execute_reply": "2024-09-15T22:28:25.880036Z"
    },
    "papermill": {
     "duration": 1.141954,
     "end_time": "2024-09-15T22:28:25.884038",
     "exception": false,
     "start_time": "2024-09-15T22:28:24.742084",
     "status": "completed"
    },
    "tags": []
   },
   "outputs": [
    {
     "data": {
      "image/png": "[encoded data removed]",
      "text/plain": [
       "<Figure size 900x300 with 1 Axes>"
      ]
     },
     "metadata": {},
     "output_type": "display_data"
    },
    {
     "data": {
      "image/png": "[encoded data removed]",
      "text/plain": [
       "<Figure size 900x300 with 1 Axes>"
      ]
     },
     "metadata": {},
     "output_type": "display_data"
    },
    {
     "data": {
      "image/png": "[encoded data removed]",
      "text/plain": [
       "<Figure size 900x300 with 1 Axes>"
      ]
     },
     "metadata": {},
     "output_type": "display_data"
    }
   ],
   "source": [
    "numericVar=[\"Fare\",\"Age\",\"PassengerId\"]\n",
    "for n in numericVar:\n",
    "    plot_hist(n)"
   ]
  },
  {
   "cell_type": "markdown",
   "id": "6db91959",
   "metadata": {
    "papermill": {
     "duration": 0.040342,
     "end_time": "2024-09-15T22:28:25.964801",
     "exception": false,
     "start_time": "2024-09-15T22:28:25.924459",
     "status": "completed"
    },
    "tags": []
   },
   "source": [
    "<a id=\"6\"></a><br>\n",
    "# Basic Data Analysis\n",
    "* Pclass - Survived\n",
    "* Sex - Survived\n",
    "* SibSp - Survived\n",
    "* Parch - Survived"
   ]
  },
  {
   "cell_type": "code",
   "execution_count": 12,
   "id": "ec0d4e32",
   "metadata": {
    "execution": {
     "iopub.execute_input": "2024-09-15T22:28:26.060159Z",
     "iopub.status.busy": "2024-09-15T22:28:26.059745Z",
     "iopub.status.idle": "2024-09-15T22:28:26.079539Z",
     "shell.execute_reply": "2024-09-15T22:28:26.078202Z"
    },
    "papermill": {
     "duration": 0.073428,
     "end_time": "2024-09-15T22:28:26.083216",
     "exception": false,
     "start_time": "2024-09-15T22:28:26.009788",
     "status": "completed"
    },
    "tags": []
   },
   "outputs": [
    {
     "data": {
      "text/html": [
       "<div>\n",
       "<style scoped>\n",
       "    .dataframe tbody tr th:only-of-type {\n",
       "        vertical-align: middle;\n",
       "    }\n",
       "\n",
       "    .dataframe tbody tr th {\n",
       "        vertical-align: top;\n",
       "    }\n",
       "\n",
       "    .dataframe thead th {\n",
       "        text-align: right;\n",
       "    }\n",
       "</style>\n",
       "<table border=\"1\" class=\"dataframe\">\n",
       "  <thead>\n",
       "    <tr style=\"text-align: right;\">\n",
       "      <th></th>\n",
       "      <th>Pclass</th>\n",
       "      <th>Survived</th>\n",
       "    </tr>\n",
       "  </thead>\n",
       "  <tbody>\n",
       "    <tr>\n",
       "      <th>0</th>\n",
       "      <td>1</td>\n",
       "      <td>0.629630</td>\n",
       "    </tr>\n",
       "    <tr>\n",
       "      <th>1</th>\n",
       "      <td>2</td>\n",
       "      <td>0.472826</td>\n",
       "    </tr>\n",
       "    <tr>\n",
       "      <th>2</th>\n",
       "      <td>3</td>\n",
       "      <td>0.242363</td>\n",
       "    </tr>\n",
       "  </tbody>\n",
       "</table>\n",
       "</div>"
      ],
      "text/plain": [
       "   Pclass  Survived\n",
       "0       1  0.629630\n",
       "1       2  0.472826\n",
       "2       3  0.242363"
      ]
     },
     "execution_count": 12,
     "metadata": {},
     "output_type": "execute_result"
    }
   ],
   "source": [
    "train_df[[\"Pclass\",\"Survived\"]].groupby([\"Pclass\"],as_index=False).mean()"
   ]
  },
  {
   "cell_type": "code",
   "execution_count": 13,
   "id": "6415d4a8",
   "metadata": {
    "execution": {
     "iopub.execute_input": "2024-09-15T22:28:26.180278Z",
     "iopub.status.busy": "2024-09-15T22:28:26.179761Z",
     "iopub.status.idle": "2024-09-15T22:28:26.196931Z",
     "shell.execute_reply": "2024-09-15T22:28:26.195722Z"
    },
    "papermill": {
     "duration": 0.065833,
     "end_time": "2024-09-15T22:28:26.199601",
     "exception": false,
     "start_time": "2024-09-15T22:28:26.133768",
     "status": "completed"
    },
    "tags": []
   },
   "outputs": [
    {
     "data": {
      "text/html": [
       "<div>\n",
       "<style scoped>\n",
       "    .dataframe tbody tr th:only-of-type {\n",
       "        vertical-align: middle;\n",
       "    }\n",
       "\n",
       "    .dataframe tbody tr th {\n",
       "        vertical-align: top;\n",
       "    }\n",
       "\n",
       "    .dataframe thead th {\n",
       "        text-align: right;\n",
       "    }\n",
       "</style>\n",
       "<table border=\"1\" class=\"dataframe\">\n",
       "  <thead>\n",
       "    <tr style=\"text-align: right;\">\n",
       "      <th></th>\n",
       "      <th>Pclass</th>\n",
       "      <th>Survived</th>\n",
       "    </tr>\n",
       "  </thead>\n",
       "  <tbody>\n",
       "    <tr>\n",
       "      <th>0</th>\n",
       "      <td>1</td>\n",
       "      <td>0.629630</td>\n",
       "    </tr>\n",
       "    <tr>\n",
       "      <th>1</th>\n",
       "      <td>2</td>\n",
       "      <td>0.472826</td>\n",
       "    </tr>\n",
       "    <tr>\n",
       "      <th>2</th>\n",
       "      <td>3</td>\n",
       "      <td>0.242363</td>\n",
       "    </tr>\n",
       "  </tbody>\n",
       "</table>\n",
       "</div>"
      ],
      "text/plain": [
       "   Pclass  Survived\n",
       "0       1  0.629630\n",
       "1       2  0.472826\n",
       "2       3  0.242363"
      ]
     },
     "execution_count": 13,
     "metadata": {},
     "output_type": "execute_result"
    }
   ],
   "source": [
    "#Pclass vs Survived\n",
    "train_df[[\"Pclass\",\"Survived\"]].groupby([\"Pclass\"], as_index=False).mean().sort_values(by=\"Survived\",ascending=False)"
   ]
  },
  {
   "cell_type": "code",
   "execution_count": 14,
   "id": "b13306e6",
   "metadata": {
    "execution": {
     "iopub.execute_input": "2024-09-15T22:28:26.286303Z",
     "iopub.status.busy": "2024-09-15T22:28:26.285025Z",
     "iopub.status.idle": "2024-09-15T22:28:26.309504Z",
     "shell.execute_reply": "2024-09-15T22:28:26.308378Z"
    },
    "papermill": {
     "duration": 0.07082,
     "end_time": "2024-09-15T22:28:26.312562",
     "exception": false,
     "start_time": "2024-09-15T22:28:26.241742",
     "status": "completed"
    },
    "tags": []
   },
   "outputs": [
    {
     "data": {
      "text/html": [
       "<div>\n",
       "<style scoped>\n",
       "    .dataframe tbody tr th:only-of-type {\n",
       "        vertical-align: middle;\n",
       "    }\n",
       "\n",
       "    .dataframe tbody tr th {\n",
       "        vertical-align: top;\n",
       "    }\n",
       "\n",
       "    .dataframe thead th {\n",
       "        text-align: right;\n",
       "    }\n",
       "</style>\n",
       "<table border=\"1\" class=\"dataframe\">\n",
       "  <thead>\n",
       "    <tr style=\"text-align: right;\">\n",
       "      <th></th>\n",
       "      <th>Sex</th>\n",
       "      <th>Survived</th>\n",
       "    </tr>\n",
       "  </thead>\n",
       "  <tbody>\n",
       "    <tr>\n",
       "      <th>0</th>\n",
       "      <td>female</td>\n",
       "      <td>0.742038</td>\n",
       "    </tr>\n",
       "    <tr>\n",
       "      <th>1</th>\n",
       "      <td>male</td>\n",
       "      <td>0.188908</td>\n",
       "    </tr>\n",
       "  </tbody>\n",
       "</table>\n",
       "</div>"
      ],
      "text/plain": [
       "      Sex  Survived\n",
       "0  female  0.742038\n",
       "1    male  0.188908"
      ]
     },
     "execution_count": 14,
     "metadata": {},
     "output_type": "execute_result"
    }
   ],
   "source": [
    "#Sex vs Survived\n",
    "train_df[[\"Sex\",\"Survived\"]].groupby([\"Sex\"], as_index=False).mean().sort_values(by=\"Survived\",ascending=False)"
   ]
  },
  {
   "cell_type": "code",
   "execution_count": 15,
   "id": "10b7368e",
   "metadata": {
    "execution": {
     "iopub.execute_input": "2024-09-15T22:28:26.432726Z",
     "iopub.status.busy": "2024-09-15T22:28:26.432247Z",
     "iopub.status.idle": "2024-09-15T22:28:26.448945Z",
     "shell.execute_reply": "2024-09-15T22:28:26.447784Z"
    },
    "papermill": {
     "duration": 0.080447,
     "end_time": "2024-09-15T22:28:26.452170",
     "exception": false,
     "start_time": "2024-09-15T22:28:26.371723",
     "status": "completed"
    },
    "tags": []
   },
   "outputs": [
    {
     "data": {
      "text/html": [
       "<div>\n",
       "<style scoped>\n",
       "    .dataframe tbody tr th:only-of-type {\n",
       "        vertical-align: middle;\n",
       "    }\n",
       "\n",
       "    .dataframe tbody tr th {\n",
       "        vertical-align: top;\n",
       "    }\n",
       "\n",
       "    .dataframe thead th {\n",
       "        text-align: right;\n",
       "    }\n",
       "</style>\n",
       "<table border=\"1\" class=\"dataframe\">\n",
       "  <thead>\n",
       "    <tr style=\"text-align: right;\">\n",
       "      <th></th>\n",
       "      <th>SibSp</th>\n",
       "      <th>Survived</th>\n",
       "    </tr>\n",
       "  </thead>\n",
       "  <tbody>\n",
       "    <tr>\n",
       "      <th>1</th>\n",
       "      <td>1</td>\n",
       "      <td>0.535885</td>\n",
       "    </tr>\n",
       "    <tr>\n",
       "      <th>2</th>\n",
       "      <td>2</td>\n",
       "      <td>0.464286</td>\n",
       "    </tr>\n",
       "    <tr>\n",
       "      <th>0</th>\n",
       "      <td>0</td>\n",
       "      <td>0.345395</td>\n",
       "    </tr>\n",
       "    <tr>\n",
       "      <th>3</th>\n",
       "      <td>3</td>\n",
       "      <td>0.250000</td>\n",
       "    </tr>\n",
       "    <tr>\n",
       "      <th>4</th>\n",
       "      <td>4</td>\n",
       "      <td>0.166667</td>\n",
       "    </tr>\n",
       "    <tr>\n",
       "      <th>5</th>\n",
       "      <td>5</td>\n",
       "      <td>0.000000</td>\n",
       "    </tr>\n",
       "    <tr>\n",
       "      <th>6</th>\n",
       "      <td>8</td>\n",
       "      <td>0.000000</td>\n",
       "    </tr>\n",
       "  </tbody>\n",
       "</table>\n",
       "</div>"
      ],
      "text/plain": [
       "   SibSp  Survived\n",
       "1      1  0.535885\n",
       "2      2  0.464286\n",
       "0      0  0.345395\n",
       "3      3  0.250000\n",
       "4      4  0.166667\n",
       "5      5  0.000000\n",
       "6      8  0.000000"
      ]
     },
     "execution_count": 15,
     "metadata": {},
     "output_type": "execute_result"
    }
   ],
   "source": [
    "#SibSp vs Survived\n",
    "train_df[[\"SibSp\",\"Survived\"]].groupby([\"SibSp\"], as_index=False).mean().sort_values(by=\"Survived\",ascending=False)"
   ]
  },
  {
   "cell_type": "code",
   "execution_count": 16,
   "id": "ef35807c",
   "metadata": {
    "execution": {
     "iopub.execute_input": "2024-09-15T22:28:26.545439Z",
     "iopub.status.busy": "2024-09-15T22:28:26.544642Z",
     "iopub.status.idle": "2024-09-15T22:28:26.565463Z",
     "shell.execute_reply": "2024-09-15T22:28:26.564138Z"
    },
    "papermill": {
     "duration": 0.06873,
     "end_time": "2024-09-15T22:28:26.569326",
     "exception": false,
     "start_time": "2024-09-15T22:28:26.500596",
     "status": "completed"
    },
    "tags": []
   },
   "outputs": [
    {
     "data": {
      "text/html": [
       "<div>\n",
       "<style scoped>\n",
       "    .dataframe tbody tr th:only-of-type {\n",
       "        vertical-align: middle;\n",
       "    }\n",
       "\n",
       "    .dataframe tbody tr th {\n",
       "        vertical-align: top;\n",
       "    }\n",
       "\n",
       "    .dataframe thead th {\n",
       "        text-align: right;\n",
       "    }\n",
       "</style>\n",
       "<table border=\"1\" class=\"dataframe\">\n",
       "  <thead>\n",
       "    <tr style=\"text-align: right;\">\n",
       "      <th></th>\n",
       "      <th>Parch</th>\n",
       "      <th>Survived</th>\n",
       "    </tr>\n",
       "  </thead>\n",
       "  <tbody>\n",
       "    <tr>\n",
       "      <th>3</th>\n",
       "      <td>3</td>\n",
       "      <td>0.600000</td>\n",
       "    </tr>\n",
       "    <tr>\n",
       "      <th>1</th>\n",
       "      <td>1</td>\n",
       "      <td>0.550847</td>\n",
       "    </tr>\n",
       "    <tr>\n",
       "      <th>2</th>\n",
       "      <td>2</td>\n",
       "      <td>0.500000</td>\n",
       "    </tr>\n",
       "    <tr>\n",
       "      <th>0</th>\n",
       "      <td>0</td>\n",
       "      <td>0.343658</td>\n",
       "    </tr>\n",
       "    <tr>\n",
       "      <th>5</th>\n",
       "      <td>5</td>\n",
       "      <td>0.200000</td>\n",
       "    </tr>\n",
       "    <tr>\n",
       "      <th>4</th>\n",
       "      <td>4</td>\n",
       "      <td>0.000000</td>\n",
       "    </tr>\n",
       "    <tr>\n",
       "      <th>6</th>\n",
       "      <td>6</td>\n",
       "      <td>0.000000</td>\n",
       "    </tr>\n",
       "  </tbody>\n",
       "</table>\n",
       "</div>"
      ],
      "text/plain": [
       "   Parch  Survived\n",
       "3      3  0.600000\n",
       "1      1  0.550847\n",
       "2      2  0.500000\n",
       "0      0  0.343658\n",
       "5      5  0.200000\n",
       "4      4  0.000000\n",
       "6      6  0.000000"
      ]
     },
     "execution_count": 16,
     "metadata": {},
     "output_type": "execute_result"
    }
   ],
   "source": [
    "#Parch vs Survived\n",
    "train_df[[\"Parch\",\"Survived\"]].groupby([\"Parch\"], as_index=False).mean().sort_values(by=\"Survived\",ascending=False)"
   ]
  },
  {
   "cell_type": "markdown",
   "id": "48c291b3",
   "metadata": {
    "papermill": {
     "duration": 0.042415,
     "end_time": "2024-09-15T22:28:26.657796",
     "exception": false,
     "start_time": "2024-09-15T22:28:26.615381",
     "status": "completed"
    },
    "tags": []
   },
   "source": [
    "<a id=\"7\"></a><br>\n",
    "# Outlier Detection"
   ]
  },
  {
   "cell_type": "code",
   "execution_count": 17,
   "id": "e567170a",
   "metadata": {
    "execution": {
     "iopub.execute_input": "2024-09-15T22:28:26.742859Z",
     "iopub.status.busy": "2024-09-15T22:28:26.742479Z",
     "iopub.status.idle": "2024-09-15T22:28:26.751077Z",
     "shell.execute_reply": "2024-09-15T22:28:26.749760Z"
    },
    "papermill": {
     "duration": 0.054592,
     "end_time": "2024-09-15T22:28:26.754002",
     "exception": false,
     "start_time": "2024-09-15T22:28:26.699410",
     "status": "completed"
    },
    "tags": []
   },
   "outputs": [],
   "source": [
    "def detect_outliers(df,features):\n",
    "    outlier_indices=[]\n",
    "    for c in features:\n",
    "        #1st quartile\n",
    "        Q1=np.percentile(df[c],25)\n",
    "        #3rd quartile\n",
    "        Q3=np.percentile(df[c],75)\n",
    "        #IQR\n",
    "        IQR=Q3-Q1\n",
    "        #Outlier step\n",
    "        outlier_step=IQR*1.5\n",
    "        #detect outlier and their indeces\n",
    "        outier_list_col=df[(df[c]<Q1) | (df[c]>Q3 + outlier_step)].index\n",
    "    \n",
    "        #store indeces\n",
    "        outlier_indices.extend(outier_list_col)\n",
    "    outlier_indices=Counter(outlier_indices)   \n",
    "    multiple_outliers=list(1 for i,v in outlier_indices.items() if v>2 ) \n",
    "    return multiple_outliers"
   ]
  },
  {
   "cell_type": "code",
   "execution_count": 18,
   "id": "6d0c300b",
   "metadata": {
    "execution": {
     "iopub.execute_input": "2024-09-15T22:28:26.839778Z",
     "iopub.status.busy": "2024-09-15T22:28:26.839112Z",
     "iopub.status.idle": "2024-09-15T22:28:26.868692Z",
     "shell.execute_reply": "2024-09-15T22:28:26.867504Z"
    },
    "papermill": {
     "duration": 0.075317,
     "end_time": "2024-09-15T22:28:26.871584",
     "exception": false,
     "start_time": "2024-09-15T22:28:26.796267",
     "status": "completed"
    },
    "tags": []
   },
   "outputs": [
    {
     "data": {
      "text/html": [
       "<div>\n",
       "<style scoped>\n",
       "    .dataframe tbody tr th:only-of-type {\n",
       "        vertical-align: middle;\n",
       "    }\n",
       "\n",
       "    .dataframe tbody tr th {\n",
       "        vertical-align: top;\n",
       "    }\n",
       "\n",
       "    .dataframe thead th {\n",
       "        text-align: right;\n",
       "    }\n",
       "</style>\n",
       "<table border=\"1\" class=\"dataframe\">\n",
       "  <thead>\n",
       "    <tr style=\"text-align: right;\">\n",
       "      <th></th>\n",
       "      <th>PassengerId</th>\n",
       "      <th>Survived</th>\n",
       "      <th>Pclass</th>\n",
       "      <th>Name</th>\n",
       "      <th>Sex</th>\n",
       "      <th>Age</th>\n",
       "      <th>SibSp</th>\n",
       "      <th>Parch</th>\n",
       "      <th>Ticket</th>\n",
       "      <th>Fare</th>\n",
       "      <th>Cabin</th>\n",
       "      <th>Embarked</th>\n",
       "    </tr>\n",
       "  </thead>\n",
       "  <tbody>\n",
       "    <tr>\n",
       "      <th>1</th>\n",
       "      <td>2</td>\n",
       "      <td>1</td>\n",
       "      <td>1</td>\n",
       "      <td>Cumings, Mrs. John Bradley (Florence Briggs Th...</td>\n",
       "      <td>female</td>\n",
       "      <td>38.0</td>\n",
       "      <td>1</td>\n",
       "      <td>0</td>\n",
       "      <td>PC 17599</td>\n",
       "      <td>71.2833</td>\n",
       "      <td>C85</td>\n",
       "      <td>C</td>\n",
       "    </tr>\n",
       "    <tr>\n",
       "      <th>1</th>\n",
       "      <td>2</td>\n",
       "      <td>1</td>\n",
       "      <td>1</td>\n",
       "      <td>Cumings, Mrs. John Bradley (Florence Briggs Th...</td>\n",
       "      <td>female</td>\n",
       "      <td>38.0</td>\n",
       "      <td>1</td>\n",
       "      <td>0</td>\n",
       "      <td>PC 17599</td>\n",
       "      <td>71.2833</td>\n",
       "      <td>C85</td>\n",
       "      <td>C</td>\n",
       "    </tr>\n",
       "    <tr>\n",
       "      <th>1</th>\n",
       "      <td>2</td>\n",
       "      <td>1</td>\n",
       "      <td>1</td>\n",
       "      <td>Cumings, Mrs. John Bradley (Florence Briggs Th...</td>\n",
       "      <td>female</td>\n",
       "      <td>38.0</td>\n",
       "      <td>1</td>\n",
       "      <td>0</td>\n",
       "      <td>PC 17599</td>\n",
       "      <td>71.2833</td>\n",
       "      <td>C85</td>\n",
       "      <td>C</td>\n",
       "    </tr>\n",
       "    <tr>\n",
       "      <th>1</th>\n",
       "      <td>2</td>\n",
       "      <td>1</td>\n",
       "      <td>1</td>\n",
       "      <td>Cumings, Mrs. John Bradley (Florence Briggs Th...</td>\n",
       "      <td>female</td>\n",
       "      <td>38.0</td>\n",
       "      <td>1</td>\n",
       "      <td>0</td>\n",
       "      <td>PC 17599</td>\n",
       "      <td>71.2833</td>\n",
       "      <td>C85</td>\n",
       "      <td>C</td>\n",
       "    </tr>\n",
       "    <tr>\n",
       "      <th>1</th>\n",
       "      <td>2</td>\n",
       "      <td>1</td>\n",
       "      <td>1</td>\n",
       "      <td>Cumings, Mrs. John Bradley (Florence Briggs Th...</td>\n",
       "      <td>female</td>\n",
       "      <td>38.0</td>\n",
       "      <td>1</td>\n",
       "      <td>0</td>\n",
       "      <td>PC 17599</td>\n",
       "      <td>71.2833</td>\n",
       "      <td>C85</td>\n",
       "      <td>C</td>\n",
       "    </tr>\n",
       "    <tr>\n",
       "      <th>1</th>\n",
       "      <td>2</td>\n",
       "      <td>1</td>\n",
       "      <td>1</td>\n",
       "      <td>Cumings, Mrs. John Bradley (Florence Briggs Th...</td>\n",
       "      <td>female</td>\n",
       "      <td>38.0</td>\n",
       "      <td>1</td>\n",
       "      <td>0</td>\n",
       "      <td>PC 17599</td>\n",
       "      <td>71.2833</td>\n",
       "      <td>C85</td>\n",
       "      <td>C</td>\n",
       "    </tr>\n",
       "    <tr>\n",
       "      <th>1</th>\n",
       "      <td>2</td>\n",
       "      <td>1</td>\n",
       "      <td>1</td>\n",
       "      <td>Cumings, Mrs. John Bradley (Florence Briggs Th...</td>\n",
       "      <td>female</td>\n",
       "      <td>38.0</td>\n",
       "      <td>1</td>\n",
       "      <td>0</td>\n",
       "      <td>PC 17599</td>\n",
       "      <td>71.2833</td>\n",
       "      <td>C85</td>\n",
       "      <td>C</td>\n",
       "    </tr>\n",
       "    <tr>\n",
       "      <th>1</th>\n",
       "      <td>2</td>\n",
       "      <td>1</td>\n",
       "      <td>1</td>\n",
       "      <td>Cumings, Mrs. John Bradley (Florence Briggs Th...</td>\n",
       "      <td>female</td>\n",
       "      <td>38.0</td>\n",
       "      <td>1</td>\n",
       "      <td>0</td>\n",
       "      <td>PC 17599</td>\n",
       "      <td>71.2833</td>\n",
       "      <td>C85</td>\n",
       "      <td>C</td>\n",
       "    </tr>\n",
       "    <tr>\n",
       "      <th>1</th>\n",
       "      <td>2</td>\n",
       "      <td>1</td>\n",
       "      <td>1</td>\n",
       "      <td>Cumings, Mrs. John Bradley (Florence Briggs Th...</td>\n",
       "      <td>female</td>\n",
       "      <td>38.0</td>\n",
       "      <td>1</td>\n",
       "      <td>0</td>\n",
       "      <td>PC 17599</td>\n",
       "      <td>71.2833</td>\n",
       "      <td>C85</td>\n",
       "      <td>C</td>\n",
       "    </tr>\n",
       "    <tr>\n",
       "      <th>1</th>\n",
       "      <td>2</td>\n",
       "      <td>1</td>\n",
       "      <td>1</td>\n",
       "      <td>Cumings, Mrs. John Bradley (Florence Briggs Th...</td>\n",
       "      <td>female</td>\n",
       "      <td>38.0</td>\n",
       "      <td>1</td>\n",
       "      <td>0</td>\n",
       "      <td>PC 17599</td>\n",
       "      <td>71.2833</td>\n",
       "      <td>C85</td>\n",
       "      <td>C</td>\n",
       "    </tr>\n",
       "  </tbody>\n",
       "</table>\n",
       "</div>"
      ],
      "text/plain": [
       "   PassengerId  Survived  Pclass  \\\n",
       "1            2         1       1   \n",
       "1            2         1       1   \n",
       "1            2         1       1   \n",
       "1            2         1       1   \n",
       "1            2         1       1   \n",
       "1            2         1       1   \n",
       "1            2         1       1   \n",
       "1            2         1       1   \n",
       "1            2         1       1   \n",
       "1            2         1       1   \n",
       "\n",
       "                                                Name     Sex   Age  SibSp  \\\n",
       "1  Cumings, Mrs. John Bradley (Florence Briggs Th...  female  38.0      1   \n",
       "1  Cumings, Mrs. John Bradley (Florence Briggs Th...  female  38.0      1   \n",
       "1  Cumings, Mrs. John Bradley (Florence Briggs Th...  female  38.0      1   \n",
       "1  Cumings, Mrs. John Bradley (Florence Briggs Th...  female  38.0      1   \n",
       "1  Cumings, Mrs. John Bradley (Florence Briggs Th...  female  38.0      1   \n",
       "1  Cumings, Mrs. John Bradley (Florence Briggs Th...  female  38.0      1   \n",
       "1  Cumings, Mrs. John Bradley (Florence Briggs Th...  female  38.0      1   \n",
       "1  Cumings, Mrs. John Bradley (Florence Briggs Th...  female  38.0      1   \n",
       "1  Cumings, Mrs. John Bradley (Florence Briggs Th...  female  38.0      1   \n",
       "1  Cumings, Mrs. John Bradley (Florence Briggs Th...  female  38.0      1   \n",
       "\n",
       "   Parch    Ticket     Fare Cabin Embarked  \n",
       "1      0  PC 17599  71.2833   C85        C  \n",
       "1      0  PC 17599  71.2833   C85        C  \n",
       "1      0  PC 17599  71.2833   C85        C  \n",
       "1      0  PC 17599  71.2833   C85        C  \n",
       "1      0  PC 17599  71.2833   C85        C  \n",
       "1      0  PC 17599  71.2833   C85        C  \n",
       "1      0  PC 17599  71.2833   C85        C  \n",
       "1      0  PC 17599  71.2833   C85        C  \n",
       "1      0  PC 17599  71.2833   C85        C  \n",
       "1      0  PC 17599  71.2833   C85        C  "
      ]
     },
     "execution_count": 18,
     "metadata": {},
     "output_type": "execute_result"
    }
   ],
   "source": [
    "train_df.loc[detect_outliers(train_df,[\"Age\",\"SibSp\",\"Parch\",\"Fare\"])]"
   ]
  },
  {
   "cell_type": "code",
   "execution_count": 19,
   "id": "53c0f51e",
   "metadata": {
    "execution": {
     "iopub.execute_input": "2024-09-15T22:28:26.959623Z",
     "iopub.status.busy": "2024-09-15T22:28:26.959196Z",
     "iopub.status.idle": "2024-09-15T22:28:26.973373Z",
     "shell.execute_reply": "2024-09-15T22:28:26.972207Z"
    },
    "papermill": {
     "duration": 0.060273,
     "end_time": "2024-09-15T22:28:26.976222",
     "exception": false,
     "start_time": "2024-09-15T22:28:26.915949",
     "status": "completed"
    },
    "tags": []
   },
   "outputs": [],
   "source": [
    "#drop outliers\n",
    "train_df=train_df.drop(detect_outliers(train_df,[\"Age\",\"SibSp\",\"Parch\",\"Fare\"]),axis=0).reset_index(drop=True)"
   ]
  },
  {
   "cell_type": "markdown",
   "id": "a143503b",
   "metadata": {
    "papermill": {
     "duration": 0.043049,
     "end_time": "2024-09-15T22:28:27.063030",
     "exception": false,
     "start_time": "2024-09-15T22:28:27.019981",
     "status": "completed"
    },
    "tags": []
   },
   "source": [
    "<a id=\"8\"></a><br>\n",
    "# Missing Value\n",
    "\n",
    "* Find Missing Value\n",
    "* Fill Missing Value"
   ]
  },
  {
   "cell_type": "code",
   "execution_count": 20,
   "id": "a2b91052",
   "metadata": {
    "execution": {
     "iopub.execute_input": "2024-09-15T22:28:27.153740Z",
     "iopub.status.busy": "2024-09-15T22:28:27.152925Z",
     "iopub.status.idle": "2024-09-15T22:28:27.163412Z",
     "shell.execute_reply": "2024-09-15T22:28:27.162160Z"
    },
    "papermill": {
     "duration": 0.059499,
     "end_time": "2024-09-15T22:28:27.166034",
     "exception": false,
     "start_time": "2024-09-15T22:28:27.106535",
     "status": "completed"
    },
    "tags": []
   },
   "outputs": [],
   "source": [
    "train_df_len=len(train_df)\n",
    "train_df=pd.concat([train_df,test_df],axis=0).reset_index(drop=True)\n"
   ]
  },
  {
   "cell_type": "code",
   "execution_count": 21,
   "id": "0100ee6b",
   "metadata": {
    "execution": {
     "iopub.execute_input": "2024-09-15T22:28:27.255166Z",
     "iopub.status.busy": "2024-09-15T22:28:27.254671Z",
     "iopub.status.idle": "2024-09-15T22:28:27.278923Z",
     "shell.execute_reply": "2024-09-15T22:28:27.277628Z"
    },
    "papermill": {
     "duration": 0.072107,
     "end_time": "2024-09-15T22:28:27.281638",
     "exception": false,
     "start_time": "2024-09-15T22:28:27.209531",
     "status": "completed"
    },
    "tags": []
   },
   "outputs": [
    {
     "data": {
      "text/html": [
       "<div>\n",
       "<style scoped>\n",
       "    .dataframe tbody tr th:only-of-type {\n",
       "        vertical-align: middle;\n",
       "    }\n",
       "\n",
       "    .dataframe tbody tr th {\n",
       "        vertical-align: top;\n",
       "    }\n",
       "\n",
       "    .dataframe thead th {\n",
       "        text-align: right;\n",
       "    }\n",
       "</style>\n",
       "<table border=\"1\" class=\"dataframe\">\n",
       "  <thead>\n",
       "    <tr style=\"text-align: right;\">\n",
       "      <th></th>\n",
       "      <th>PassengerId</th>\n",
       "      <th>Survived</th>\n",
       "      <th>Pclass</th>\n",
       "      <th>Name</th>\n",
       "      <th>Sex</th>\n",
       "      <th>Age</th>\n",
       "      <th>SibSp</th>\n",
       "      <th>Parch</th>\n",
       "      <th>Ticket</th>\n",
       "      <th>Fare</th>\n",
       "      <th>Cabin</th>\n",
       "      <th>Embarked</th>\n",
       "    </tr>\n",
       "  </thead>\n",
       "  <tbody>\n",
       "    <tr>\n",
       "      <th>0</th>\n",
       "      <td>1</td>\n",
       "      <td>0.0</td>\n",
       "      <td>3</td>\n",
       "      <td>Braund, Mr. Owen Harris</td>\n",
       "      <td>male</td>\n",
       "      <td>22.0</td>\n",
       "      <td>1</td>\n",
       "      <td>0</td>\n",
       "      <td>A/5 21171</td>\n",
       "      <td>7.2500</td>\n",
       "      <td>NaN</td>\n",
       "      <td>S</td>\n",
       "    </tr>\n",
       "    <tr>\n",
       "      <th>1</th>\n",
       "      <td>3</td>\n",
       "      <td>1.0</td>\n",
       "      <td>3</td>\n",
       "      <td>Heikkinen, Miss. Laina</td>\n",
       "      <td>female</td>\n",
       "      <td>26.0</td>\n",
       "      <td>0</td>\n",
       "      <td>0</td>\n",
       "      <td>STON/O2. 3101282</td>\n",
       "      <td>7.9250</td>\n",
       "      <td>NaN</td>\n",
       "      <td>S</td>\n",
       "    </tr>\n",
       "    <tr>\n",
       "      <th>2</th>\n",
       "      <td>4</td>\n",
       "      <td>1.0</td>\n",
       "      <td>1</td>\n",
       "      <td>Futrelle, Mrs. Jacques Heath (Lily May Peel)</td>\n",
       "      <td>female</td>\n",
       "      <td>35.0</td>\n",
       "      <td>1</td>\n",
       "      <td>0</td>\n",
       "      <td>113803</td>\n",
       "      <td>53.1000</td>\n",
       "      <td>C123</td>\n",
       "      <td>S</td>\n",
       "    </tr>\n",
       "    <tr>\n",
       "      <th>3</th>\n",
       "      <td>5</td>\n",
       "      <td>0.0</td>\n",
       "      <td>3</td>\n",
       "      <td>Allen, Mr. William Henry</td>\n",
       "      <td>male</td>\n",
       "      <td>35.0</td>\n",
       "      <td>0</td>\n",
       "      <td>0</td>\n",
       "      <td>373450</td>\n",
       "      <td>8.0500</td>\n",
       "      <td>NaN</td>\n",
       "      <td>S</td>\n",
       "    </tr>\n",
       "    <tr>\n",
       "      <th>4</th>\n",
       "      <td>6</td>\n",
       "      <td>0.0</td>\n",
       "      <td>3</td>\n",
       "      <td>Moran, Mr. James</td>\n",
       "      <td>male</td>\n",
       "      <td>NaN</td>\n",
       "      <td>0</td>\n",
       "      <td>0</td>\n",
       "      <td>330877</td>\n",
       "      <td>8.4583</td>\n",
       "      <td>NaN</td>\n",
       "      <td>Q</td>\n",
       "    </tr>\n",
       "  </tbody>\n",
       "</table>\n",
       "</div>"
      ],
      "text/plain": [
       "   PassengerId  Survived  Pclass  \\\n",
       "0            1       0.0       3   \n",
       "1            3       1.0       3   \n",
       "2            4       1.0       1   \n",
       "3            5       0.0       3   \n",
       "4            6       0.0       3   \n",
       "\n",
       "                                           Name     Sex   Age  SibSp  Parch  \\\n",
       "0                       Braund, Mr. Owen Harris    male  22.0      1      0   \n",
       "1                        Heikkinen, Miss. Laina  female  26.0      0      0   \n",
       "2  Futrelle, Mrs. Jacques Heath (Lily May Peel)  female  35.0      1      0   \n",
       "3                      Allen, Mr. William Henry    male  35.0      0      0   \n",
       "4                              Moran, Mr. James    male   NaN      0      0   \n",
       "\n",
       "             Ticket     Fare Cabin Embarked  \n",
       "0         A/5 21171   7.2500   NaN        S  \n",
       "1  STON/O2. 3101282   7.9250   NaN        S  \n",
       "2            113803  53.1000  C123        S  \n",
       "3            373450   8.0500   NaN        S  \n",
       "4            330877   8.4583   NaN        Q  "
      ]
     },
     "execution_count": 21,
     "metadata": {},
     "output_type": "execute_result"
    }
   ],
   "source": [
    "train_df.head()"
   ]
  },
  {
   "cell_type": "markdown",
   "id": "7a098c3b",
   "metadata": {
    "papermill": {
     "duration": 0.042375,
     "end_time": "2024-09-15T22:28:27.366419",
     "exception": false,
     "start_time": "2024-09-15T22:28:27.324044",
     "status": "completed"
    },
    "tags": []
   },
   "source": [
    "<a id=\"9\"></a><br>\n",
    "## Find Missing Value"
   ]
  },
  {
   "cell_type": "code",
   "execution_count": 22,
   "id": "fc307689",
   "metadata": {
    "execution": {
     "iopub.execute_input": "2024-09-15T22:28:27.454436Z",
     "iopub.status.busy": "2024-09-15T22:28:27.453388Z",
     "iopub.status.idle": "2024-09-15T22:28:27.464461Z",
     "shell.execute_reply": "2024-09-15T22:28:27.463184Z"
    },
    "papermill": {
     "duration": 0.057734,
     "end_time": "2024-09-15T22:28:27.466969",
     "exception": false,
     "start_time": "2024-09-15T22:28:27.409235",
     "status": "completed"
    },
    "tags": []
   },
   "outputs": [
    {
     "data": {
      "text/plain": [
       "Index(['Survived', 'Age', 'Fare', 'Cabin', 'Embarked'], dtype='object')"
      ]
     },
     "execution_count": 22,
     "metadata": {},
     "output_type": "execute_result"
    }
   ],
   "source": [
    "train_df.columns[train_df.isnull().any()] #hangi kolonlarda boş değerler olduğunu buluruz"
   ]
  },
  {
   "cell_type": "code",
   "execution_count": 23,
   "id": "aa3f698a",
   "metadata": {
    "execution": {
     "iopub.execute_input": "2024-09-15T22:28:27.557043Z",
     "iopub.status.busy": "2024-09-15T22:28:27.556608Z",
     "iopub.status.idle": "2024-09-15T22:28:27.566904Z",
     "shell.execute_reply": "2024-09-15T22:28:27.565699Z"
    },
    "papermill": {
     "duration": 0.059689,
     "end_time": "2024-09-15T22:28:27.569346",
     "exception": false,
     "start_time": "2024-09-15T22:28:27.509657",
     "status": "completed"
    },
    "tags": []
   },
   "outputs": [
    {
     "data": {
      "text/plain": [
       "PassengerId       0\n",
       "Survived        418\n",
       "Pclass            0\n",
       "Name              0\n",
       "Sex               0\n",
       "Age             263\n",
       "SibSp             0\n",
       "Parch             0\n",
       "Ticket            0\n",
       "Fare              1\n",
       "Cabin          1014\n",
       "Embarked          2\n",
       "dtype: int64"
      ]
     },
     "execution_count": 23,
     "metadata": {},
     "output_type": "execute_result"
    }
   ],
   "source": [
    "train_df.isnull().sum() #kolonlardaki  toplam boş değerler"
   ]
  },
  {
   "cell_type": "markdown",
   "id": "8fa787ae",
   "metadata": {
    "papermill": {
     "duration": 0.04271,
     "end_time": "2024-09-15T22:28:27.655149",
     "exception": false,
     "start_time": "2024-09-15T22:28:27.612439",
     "status": "completed"
    },
    "tags": []
   },
   "source": [
    "<a id=\"10\"></a><br>\n",
    "## Fill Missing Value\n",
    "* Embarked has 2 missing value\n",
    "* Fare has only 1"
   ]
  },
  {
   "cell_type": "code",
   "execution_count": 24,
   "id": "7d2231f8",
   "metadata": {
    "execution": {
     "iopub.execute_input": "2024-09-15T22:28:27.741331Z",
     "iopub.status.busy": "2024-09-15T22:28:27.740944Z",
     "iopub.status.idle": "2024-09-15T22:28:27.758863Z",
     "shell.execute_reply": "2024-09-15T22:28:27.757785Z"
    },
    "papermill": {
     "duration": 0.063887,
     "end_time": "2024-09-15T22:28:27.761350",
     "exception": false,
     "start_time": "2024-09-15T22:28:27.697463",
     "status": "completed"
    },
    "tags": []
   },
   "outputs": [
    {
     "data": {
      "text/html": [
       "<div>\n",
       "<style scoped>\n",
       "    .dataframe tbody tr th:only-of-type {\n",
       "        vertical-align: middle;\n",
       "    }\n",
       "\n",
       "    .dataframe tbody tr th {\n",
       "        vertical-align: top;\n",
       "    }\n",
       "\n",
       "    .dataframe thead th {\n",
       "        text-align: right;\n",
       "    }\n",
       "</style>\n",
       "<table border=\"1\" class=\"dataframe\">\n",
       "  <thead>\n",
       "    <tr style=\"text-align: right;\">\n",
       "      <th></th>\n",
       "      <th>PassengerId</th>\n",
       "      <th>Survived</th>\n",
       "      <th>Pclass</th>\n",
       "      <th>Name</th>\n",
       "      <th>Sex</th>\n",
       "      <th>Age</th>\n",
       "      <th>SibSp</th>\n",
       "      <th>Parch</th>\n",
       "      <th>Ticket</th>\n",
       "      <th>Fare</th>\n",
       "      <th>Cabin</th>\n",
       "      <th>Embarked</th>\n",
       "    </tr>\n",
       "  </thead>\n",
       "  <tbody>\n",
       "    <tr>\n",
       "      <th>60</th>\n",
       "      <td>62</td>\n",
       "      <td>1.0</td>\n",
       "      <td>1</td>\n",
       "      <td>Icard, Miss. Amelie</td>\n",
       "      <td>female</td>\n",
       "      <td>38.0</td>\n",
       "      <td>0</td>\n",
       "      <td>0</td>\n",
       "      <td>113572</td>\n",
       "      <td>80.0</td>\n",
       "      <td>B28</td>\n",
       "      <td>NaN</td>\n",
       "    </tr>\n",
       "    <tr>\n",
       "      <th>828</th>\n",
       "      <td>830</td>\n",
       "      <td>1.0</td>\n",
       "      <td>1</td>\n",
       "      <td>Stone, Mrs. George Nelson (Martha Evelyn)</td>\n",
       "      <td>female</td>\n",
       "      <td>62.0</td>\n",
       "      <td>0</td>\n",
       "      <td>0</td>\n",
       "      <td>113572</td>\n",
       "      <td>80.0</td>\n",
       "      <td>B28</td>\n",
       "      <td>NaN</td>\n",
       "    </tr>\n",
       "  </tbody>\n",
       "</table>\n",
       "</div>"
      ],
      "text/plain": [
       "     PassengerId  Survived  Pclass                                       Name  \\\n",
       "60            62       1.0       1                        Icard, Miss. Amelie   \n",
       "828          830       1.0       1  Stone, Mrs. George Nelson (Martha Evelyn)   \n",
       "\n",
       "        Sex   Age  SibSp  Parch  Ticket  Fare Cabin Embarked  \n",
       "60   female  38.0      0      0  113572  80.0   B28      NaN  \n",
       "828  female  62.0      0      0  113572  80.0   B28      NaN  "
      ]
     },
     "execution_count": 24,
     "metadata": {},
     "output_type": "execute_result"
    }
   ],
   "source": [
    "train_df[train_df[\"Embarked\"].isnull()]"
   ]
  },
  {
   "cell_type": "code",
   "execution_count": 25,
   "id": "d90709ef",
   "metadata": {
    "execution": {
     "iopub.execute_input": "2024-09-15T22:28:27.849488Z",
     "iopub.status.busy": "2024-09-15T22:28:27.849065Z",
     "iopub.status.idle": "2024-09-15T22:28:28.125362Z",
     "shell.execute_reply": "2024-09-15T22:28:28.124028Z"
    },
    "papermill": {
     "duration": 0.323782,
     "end_time": "2024-09-15T22:28:28.128029",
     "exception": false,
     "start_time": "2024-09-15T22:28:27.804247",
     "status": "completed"
    },
    "tags": []
   },
   "outputs": [
    {
     "data": {
      "text/plain": [
       "<Axes: title={'center': 'Fare'}, xlabel='Embarked'>"
      ]
     },
     "execution_count": 25,
     "metadata": {},
     "output_type": "execute_result"
    },
    {
     "data": {
      "image/png": "[encoded data removed]",
      "text/plain": [
       "<Figure size 640x480 with 1 Axes>"
      ]
     },
     "metadata": {},
     "output_type": "display_data"
    }
   ],
   "source": [
    "train_df.boxplot(column=\"Fare\",by=\"Embarked\")"
   ]
  },
  {
   "cell_type": "code",
   "execution_count": 26,
   "id": "994f84db",
   "metadata": {
    "execution": {
     "iopub.execute_input": "2024-09-15T22:28:28.219150Z",
     "iopub.status.busy": "2024-09-15T22:28:28.218739Z",
     "iopub.status.idle": "2024-09-15T22:28:28.233486Z",
     "shell.execute_reply": "2024-09-15T22:28:28.232335Z"
    },
    "papermill": {
     "duration": 0.063186,
     "end_time": "2024-09-15T22:28:28.235962",
     "exception": false,
     "start_time": "2024-09-15T22:28:28.172776",
     "status": "completed"
    },
    "tags": []
   },
   "outputs": [
    {
     "data": {
      "text/html": [
       "<div>\n",
       "<style scoped>\n",
       "    .dataframe tbody tr th:only-of-type {\n",
       "        vertical-align: middle;\n",
       "    }\n",
       "\n",
       "    .dataframe tbody tr th {\n",
       "        vertical-align: top;\n",
       "    }\n",
       "\n",
       "    .dataframe thead th {\n",
       "        text-align: right;\n",
       "    }\n",
       "</style>\n",
       "<table border=\"1\" class=\"dataframe\">\n",
       "  <thead>\n",
       "    <tr style=\"text-align: right;\">\n",
       "      <th></th>\n",
       "      <th>PassengerId</th>\n",
       "      <th>Survived</th>\n",
       "      <th>Pclass</th>\n",
       "      <th>Name</th>\n",
       "      <th>Sex</th>\n",
       "      <th>Age</th>\n",
       "      <th>SibSp</th>\n",
       "      <th>Parch</th>\n",
       "      <th>Ticket</th>\n",
       "      <th>Fare</th>\n",
       "      <th>Cabin</th>\n",
       "      <th>Embarked</th>\n",
       "    </tr>\n",
       "  </thead>\n",
       "  <tbody>\n",
       "  </tbody>\n",
       "</table>\n",
       "</div>"
      ],
      "text/plain": [
       "Empty DataFrame\n",
       "Columns: [PassengerId, Survived, Pclass, Name, Sex, Age, SibSp, Parch, Ticket, Fare, Cabin, Embarked]\n",
       "Index: []"
      ]
     },
     "execution_count": 26,
     "metadata": {},
     "output_type": "execute_result"
    }
   ],
   "source": [
    "train_df[\"Embarked\"]=train_df[\"Embarked\"].fillna(\"C\")\n",
    "train_df[train_df[\"Embarked\"].isnull()]"
   ]
  },
  {
   "cell_type": "code",
   "execution_count": 27,
   "id": "a9f8b896",
   "metadata": {
    "execution": {
     "iopub.execute_input": "2024-09-15T22:28:28.325508Z",
     "iopub.status.busy": "2024-09-15T22:28:28.325052Z",
     "iopub.status.idle": "2024-09-15T22:28:28.342852Z",
     "shell.execute_reply": "2024-09-15T22:28:28.341634Z"
    },
    "papermill": {
     "duration": 0.065837,
     "end_time": "2024-09-15T22:28:28.345535",
     "exception": false,
     "start_time": "2024-09-15T22:28:28.279698",
     "status": "completed"
    },
    "tags": []
   },
   "outputs": [
    {
     "data": {
      "text/html": [
       "<div>\n",
       "<style scoped>\n",
       "    .dataframe tbody tr th:only-of-type {\n",
       "        vertical-align: middle;\n",
       "    }\n",
       "\n",
       "    .dataframe tbody tr th {\n",
       "        vertical-align: top;\n",
       "    }\n",
       "\n",
       "    .dataframe thead th {\n",
       "        text-align: right;\n",
       "    }\n",
       "</style>\n",
       "<table border=\"1\" class=\"dataframe\">\n",
       "  <thead>\n",
       "    <tr style=\"text-align: right;\">\n",
       "      <th></th>\n",
       "      <th>PassengerId</th>\n",
       "      <th>Survived</th>\n",
       "      <th>Pclass</th>\n",
       "      <th>Name</th>\n",
       "      <th>Sex</th>\n",
       "      <th>Age</th>\n",
       "      <th>SibSp</th>\n",
       "      <th>Parch</th>\n",
       "      <th>Ticket</th>\n",
       "      <th>Fare</th>\n",
       "      <th>Cabin</th>\n",
       "      <th>Embarked</th>\n",
       "    </tr>\n",
       "  </thead>\n",
       "  <tbody>\n",
       "    <tr>\n",
       "      <th>1042</th>\n",
       "      <td>1044</td>\n",
       "      <td>NaN</td>\n",
       "      <td>3</td>\n",
       "      <td>Storey, Mr. Thomas</td>\n",
       "      <td>male</td>\n",
       "      <td>60.5</td>\n",
       "      <td>0</td>\n",
       "      <td>0</td>\n",
       "      <td>3701</td>\n",
       "      <td>NaN</td>\n",
       "      <td>NaN</td>\n",
       "      <td>S</td>\n",
       "    </tr>\n",
       "  </tbody>\n",
       "</table>\n",
       "</div>"
      ],
      "text/plain": [
       "      PassengerId  Survived  Pclass                Name   Sex   Age  SibSp  \\\n",
       "1042         1044       NaN       3  Storey, Mr. Thomas  male  60.5      0   \n",
       "\n",
       "      Parch Ticket  Fare Cabin Embarked  \n",
       "1042      0   3701   NaN   NaN        S  "
      ]
     },
     "execution_count": 27,
     "metadata": {},
     "output_type": "execute_result"
    }
   ],
   "source": [
    "train_df[train_df[\"Fare\"].isnull()]"
   ]
  },
  {
   "cell_type": "code",
   "execution_count": 28,
   "id": "774ba2d9",
   "metadata": {
    "execution": {
     "iopub.execute_input": "2024-09-15T22:28:28.438380Z",
     "iopub.status.busy": "2024-09-15T22:28:28.437967Z",
     "iopub.status.idle": "2024-09-15T22:28:28.446365Z",
     "shell.execute_reply": "2024-09-15T22:28:28.445247Z"
    },
    "papermill": {
     "duration": 0.058172,
     "end_time": "2024-09-15T22:28:28.448894",
     "exception": false,
     "start_time": "2024-09-15T22:28:28.390722",
     "status": "completed"
    },
    "tags": []
   },
   "outputs": [],
   "source": [
    "train_df[\"Fare\"]=train_df[\"Fare\"].fillna(np.mean(train_df[train_df[\"Pclass\"]==3][\"Fare\"]))"
   ]
  },
  {
   "cell_type": "code",
   "execution_count": 29,
   "id": "5b671994",
   "metadata": {
    "execution": {
     "iopub.execute_input": "2024-09-15T22:28:28.539077Z",
     "iopub.status.busy": "2024-09-15T22:28:28.538705Z",
     "iopub.status.idle": "2024-09-15T22:28:28.551007Z",
     "shell.execute_reply": "2024-09-15T22:28:28.549944Z"
    },
    "papermill": {
     "duration": 0.060516,
     "end_time": "2024-09-15T22:28:28.553440",
     "exception": false,
     "start_time": "2024-09-15T22:28:28.492924",
     "status": "completed"
    },
    "tags": []
   },
   "outputs": [
    {
     "data": {
      "text/html": [
       "<div>\n",
       "<style scoped>\n",
       "    .dataframe tbody tr th:only-of-type {\n",
       "        vertical-align: middle;\n",
       "    }\n",
       "\n",
       "    .dataframe tbody tr th {\n",
       "        vertical-align: top;\n",
       "    }\n",
       "\n",
       "    .dataframe thead th {\n",
       "        text-align: right;\n",
       "    }\n",
       "</style>\n",
       "<table border=\"1\" class=\"dataframe\">\n",
       "  <thead>\n",
       "    <tr style=\"text-align: right;\">\n",
       "      <th></th>\n",
       "      <th>PassengerId</th>\n",
       "      <th>Survived</th>\n",
       "      <th>Pclass</th>\n",
       "      <th>Name</th>\n",
       "      <th>Sex</th>\n",
       "      <th>Age</th>\n",
       "      <th>SibSp</th>\n",
       "      <th>Parch</th>\n",
       "      <th>Ticket</th>\n",
       "      <th>Fare</th>\n",
       "      <th>Cabin</th>\n",
       "      <th>Embarked</th>\n",
       "    </tr>\n",
       "  </thead>\n",
       "  <tbody>\n",
       "  </tbody>\n",
       "</table>\n",
       "</div>"
      ],
      "text/plain": [
       "Empty DataFrame\n",
       "Columns: [PassengerId, Survived, Pclass, Name, Sex, Age, SibSp, Parch, Ticket, Fare, Cabin, Embarked]\n",
       "Index: []"
      ]
     },
     "execution_count": 29,
     "metadata": {},
     "output_type": "execute_result"
    }
   ],
   "source": [
    "train_df[train_df[\"Fare\"].isnull()]"
   ]
  },
  {
   "cell_type": "markdown",
   "id": "997306ac",
   "metadata": {
    "papermill": {
     "duration": 0.046085,
     "end_time": "2024-09-15T22:28:28.645273",
     "exception": false,
     "start_time": "2024-09-15T22:28:28.599188",
     "status": "completed"
    },
    "tags": []
   },
   "source": [
    "<a id=\"11\"></a><br>\n",
    "# Visualization"
   ]
  },
  {
   "cell_type": "markdown",
   "id": "4ffe93e2",
   "metadata": {
    "papermill": {
     "duration": 0.046557,
     "end_time": "2024-09-15T22:28:28.740143",
     "exception": false,
     "start_time": "2024-09-15T22:28:28.693586",
     "status": "completed"
    },
    "tags": []
   },
   "source": [
    "<a id=\"12\"></a><br>\n",
    "\n",
    "## Correlation Between SibSp -- Parch -- Age -- Fare -- Survived"
   ]
  },
  {
   "cell_type": "code",
   "execution_count": 30,
   "id": "ea3ae574",
   "metadata": {
    "execution": {
     "iopub.execute_input": "2024-09-15T22:28:28.837758Z",
     "iopub.status.busy": "2024-09-15T22:28:28.837238Z",
     "iopub.status.idle": "2024-09-15T22:28:29.215909Z",
     "shell.execute_reply": "2024-09-15T22:28:29.214383Z"
    },
    "papermill": {
     "duration": 0.432557,
     "end_time": "2024-09-15T22:28:29.219059",
     "exception": false,
     "start_time": "2024-09-15T22:28:28.786502",
     "status": "completed"
    },
    "tags": []
   },
   "outputs": [
    {
     "data": {
      "image/png": "[encoded data removed]",
      "text/plain": [
       "<Figure size 640x480 with 2 Axes>"
      ]
     },
     "metadata": {},
     "output_type": "display_data"
    }
   ],
   "source": [
    "list1=[\"SibSp\",\"Parch\",\"Age\",\"Fare\",\"Survived\"]\n",
    "sns.heatmap(train_df[list1].corr(),annot=True,fmt=\".2f\")\n",
    "plt.show()"
   ]
  },
  {
   "cell_type": "markdown",
   "id": "72d99164",
   "metadata": {
    "papermill": {
     "duration": 0.051784,
     "end_time": "2024-09-15T22:28:29.321436",
     "exception": false,
     "start_time": "2024-09-15T22:28:29.269652",
     "status": "completed"
    },
    "tags": []
   },
   "source": [
    "* Fare feature seems to have correlation with survived feature (0.26)"
   ]
  },
  {
   "cell_type": "markdown",
   "id": "18ba83a1",
   "metadata": {
    "papermill": {
     "duration": 0.050282,
     "end_time": "2024-09-15T22:28:29.420917",
     "exception": false,
     "start_time": "2024-09-15T22:28:29.370635",
     "status": "completed"
    },
    "tags": []
   },
   "source": [
    "<a id=\"13\"></a><br>\n",
    "## SibSp -- Survived"
   ]
  },
  {
   "cell_type": "code",
   "execution_count": 31,
   "id": "d991fc91",
   "metadata": {
    "execution": {
     "iopub.execute_input": "2024-09-15T22:28:29.520802Z",
     "iopub.status.busy": "2024-09-15T22:28:29.520314Z",
     "iopub.status.idle": "2024-09-15T22:28:30.398894Z",
     "shell.execute_reply": "2024-09-15T22:28:30.397384Z"
    },
    "papermill": {
     "duration": 0.93317,
     "end_time": "2024-09-15T22:28:30.402276",
     "exception": false,
     "start_time": "2024-09-15T22:28:29.469106",
     "status": "completed"
    },
    "tags": []
   },
   "outputs": [
    {
     "data": {
      "image/png": "[encoded data removed]",
      "text/plain": [
       "<Figure size 900x900 with 1 Axes>"
      ]
     },
     "metadata": {},
     "output_type": "display_data"
    }
   ],
   "source": [
    "g=sns.catplot(x=\"SibSp\", y=\"Survived\", data=train_df, kind=\"bar\", height=9)\n",
    "g.set_ylabels(\"Survived Probabilty\")\n",
    "plt.show()"
   ]
  },
  {
   "cell_type": "markdown",
   "id": "8a596f93",
   "metadata": {
    "papermill": {
     "duration": 0.04618,
     "end_time": "2024-09-15T22:28:30.495342",
     "exception": false,
     "start_time": "2024-09-15T22:28:30.449162",
     "status": "completed"
    },
    "tags": []
   },
   "source": [
    "* Having a lot of SibSp have less chabce to survive.\n",
    "* If sibsp==0 or 1 or 2, passenger has more chance to survive\n",
    "* We can consider a new feature describing these categories."
   ]
  },
  {
   "cell_type": "markdown",
   "id": "61a1b784",
   "metadata": {
    "papermill": {
     "duration": 0.046874,
     "end_time": "2024-09-15T22:28:30.589483",
     "exception": false,
     "start_time": "2024-09-15T22:28:30.542609",
     "status": "completed"
    },
    "tags": []
   },
   "source": [
    "<a id=\"14\"></a><br>\n",
    "## Parch -- Survived"
   ]
  },
  {
   "cell_type": "code",
   "execution_count": 32,
   "id": "5dcbe001",
   "metadata": {
    "execution": {
     "iopub.execute_input": "2024-09-15T22:28:30.685160Z",
     "iopub.status.busy": "2024-09-15T22:28:30.684779Z",
     "iopub.status.idle": "2024-09-15T22:28:31.607726Z",
     "shell.execute_reply": "2024-09-15T22:28:31.606477Z"
    },
    "papermill": {
     "duration": 0.973929,
     "end_time": "2024-09-15T22:28:31.610646",
     "exception": false,
     "start_time": "2024-09-15T22:28:30.636717",
     "status": "completed"
    },
    "tags": []
   },
   "outputs": [
    {
     "data": {
      "image/png": "[encoded data removed]",
      "text/plain": [
       "<Figure size 600x600 with 1 Axes>"
      ]
     },
     "metadata": {},
     "output_type": "display_data"
    }
   ],
   "source": [
    "g=sns.catplot(x=\"Parch\",y=\"Survived\",data=train_df,kind=\"bar\",height=6)\n",
    "g.set_ylabels(\"Survived Probabilty\")\n",
    "plt.show()\n"
   ]
  },
  {
   "cell_type": "markdown",
   "id": "caa55f83",
   "metadata": {
    "papermill": {
     "duration": 0.045634,
     "end_time": "2024-09-15T22:28:31.703034",
     "exception": false,
     "start_time": "2024-09-15T22:28:31.657400",
     "status": "completed"
    },
    "tags": []
   },
   "source": [
    "* SibSp  and parch can be used for new feature extraction with th=3\n",
    "*  small families have more chance to survive\n",
    "* there is a std in survival of passenger with parch=3"
   ]
  },
  {
   "cell_type": "markdown",
   "id": "eeba24e3",
   "metadata": {
    "papermill": {
     "duration": 0.045453,
     "end_time": "2024-09-15T22:28:31.794188",
     "exception": false,
     "start_time": "2024-09-15T22:28:31.748735",
     "status": "completed"
    },
    "tags": []
   },
   "source": [
    "<a id=\"15\"></a><br>\n",
    "## Pclass -- Survived"
   ]
  },
  {
   "cell_type": "code",
   "execution_count": 33,
   "id": "b0fdb616",
   "metadata": {
    "execution": {
     "iopub.execute_input": "2024-09-15T22:28:31.888070Z",
     "iopub.status.busy": "2024-09-15T22:28:31.887635Z",
     "iopub.status.idle": "2024-09-15T22:28:32.445957Z",
     "shell.execute_reply": "2024-09-15T22:28:32.444782Z"
    },
    "papermill": {
     "duration": 0.608,
     "end_time": "2024-09-15T22:28:32.448513",
     "exception": false,
     "start_time": "2024-09-15T22:28:31.840513",
     "status": "completed"
    },
    "tags": []
   },
   "outputs": [
    {
     "data": {
      "image/png": "[encoded data removed]",
      "text/plain": [
       "<Figure size 600x600 with 1 Axes>"
      ]
     },
     "metadata": {},
     "output_type": "display_data"
    }
   ],
   "source": [
    "g=sns.catplot(x=\"Pclass\",y=\"Survived\",data=train_df,kind=\"bar\",height=6)\n",
    "g.set_ylabels(\"Survived Probabilty\")\n",
    "plt.show()"
   ]
  },
  {
   "cell_type": "markdown",
   "id": "1188f1f6",
   "metadata": {
    "papermill": {
     "duration": 0.04961,
     "end_time": "2024-09-15T22:28:32.544518",
     "exception": false,
     "start_time": "2024-09-15T22:28:32.494908",
     "status": "completed"
    },
    "tags": []
   },
   "source": [
    "<a id=\"16\"></a><br>\n",
    "## Age -- Survived"
   ]
  },
  {
   "cell_type": "code",
   "execution_count": 34,
   "id": "23429b3e",
   "metadata": {
    "execution": {
     "iopub.execute_input": "2024-09-15T22:28:32.638208Z",
     "iopub.status.busy": "2024-09-15T22:28:32.637788Z",
     "iopub.status.idle": "2024-09-15T22:28:33.501321Z",
     "shell.execute_reply": "2024-09-15T22:28:33.500062Z"
    },
    "papermill": {
     "duration": 0.913746,
     "end_time": "2024-09-15T22:28:33.504108",
     "exception": false,
     "start_time": "2024-09-15T22:28:32.590362",
     "status": "completed"
    },
    "tags": []
   },
   "outputs": [
    {
     "data": {
      "image/png": "[encoded data removed]",
      "text/plain": [
       "<Figure size 600x300 with 2 Axes>"
      ]
     },
     "metadata": {},
     "output_type": "display_data"
    }
   ],
   "source": [
    "g = sns.FacetGrid(train_df, col = \"Survived\")\n",
    "g.map(sns.distplot, \"Age\", bins = 25)\n",
    "plt.show()"
   ]
  },
  {
   "cell_type": "markdown",
   "id": "6060dfa5",
   "metadata": {
    "papermill": {
     "duration": 0.046844,
     "end_time": "2024-09-15T22:28:33.597722",
     "exception": false,
     "start_time": "2024-09-15T22:28:33.550878",
     "status": "completed"
    },
    "tags": []
   },
   "source": [
    "* age<=10 has a high survival rate,\n",
    "* oldest passengers (80) survived,\n",
    "* large number of 20 years old did not survive,\n",
    "* most passengers are in 15-35 age range,,\n",
    "* use age feature in training \n",
    "* use age distribution for missing value of age"
   ]
  },
  {
   "cell_type": "markdown",
   "id": "c713d8b0",
   "metadata": {
    "papermill": {
     "duration": 0.047676,
     "end_time": "2024-09-15T22:28:33.694258",
     "exception": false,
     "start_time": "2024-09-15T22:28:33.646582",
     "status": "completed"
    },
    "tags": []
   },
   "source": [
    "<a id=\"17\"></a><br>\n",
    "## Pclass -- Age -- Survived"
   ]
  },
  {
   "cell_type": "code",
   "execution_count": 35,
   "id": "51582594",
   "metadata": {
    "execution": {
     "iopub.execute_input": "2024-09-15T22:28:33.791609Z",
     "iopub.status.busy": "2024-09-15T22:28:33.790547Z",
     "iopub.status.idle": "2024-09-15T22:28:36.616972Z",
     "shell.execute_reply": "2024-09-15T22:28:36.615821Z"
    },
    "papermill": {
     "duration": 2.878281,
     "end_time": "2024-09-15T22:28:36.619604",
     "exception": false,
     "start_time": "2024-09-15T22:28:33.741323",
     "status": "completed"
    },
    "tags": []
   },
   "outputs": [
    {
     "data": {
      "image/png": "[encoded data removed]",
      "text/plain": [
       "<Figure size 411.111x600 with 6 Axes>"
      ]
     },
     "metadata": {},
     "output_type": "display_data"
    }
   ],
   "source": [
    "g=sns.FacetGrid(train_df,col=\"Survived\",row=\"Pclass\",height=2)\n",
    "g.map(plt.hist, \"Age\", bins =25)\n",
    "g.add_legend()\n",
    "plt.show()"
   ]
  },
  {
   "cell_type": "markdown",
   "id": "fe1aa61d",
   "metadata": {
    "papermill": {
     "duration": 0.047769,
     "end_time": "2024-09-15T22:28:36.715786",
     "exception": false,
     "start_time": "2024-09-15T22:28:36.668017",
     "status": "completed"
    },
    "tags": []
   },
   "source": [
    "* pclass is important feature for model"
   ]
  },
  {
   "cell_type": "markdown",
   "id": "ed5defde",
   "metadata": {
    "papermill": {
     "duration": 0.047389,
     "end_time": "2024-09-15T22:28:36.810150",
     "exception": false,
     "start_time": "2024-09-15T22:28:36.762761",
     "status": "completed"
    },
    "tags": []
   },
   "source": [
    "<a id=\"18\"></a><br>\n",
    "## Embarked -- Sex --  Pclass -- Survived"
   ]
  },
  {
   "cell_type": "code",
   "execution_count": 36,
   "id": "bff8a21e",
   "metadata": {
    "execution": {
     "iopub.execute_input": "2024-09-15T22:28:36.907523Z",
     "iopub.status.busy": "2024-09-15T22:28:36.907099Z",
     "iopub.status.idle": "2024-09-15T22:28:39.257259Z",
     "shell.execute_reply": "2024-09-15T22:28:39.256062Z"
    },
    "papermill": {
     "duration": 2.402022,
     "end_time": "2024-09-15T22:28:39.259794",
     "exception": false,
     "start_time": "2024-09-15T22:28:36.857772",
     "status": "completed"
    },
    "tags": []
   },
   "outputs": [
    {
     "data": {
      "image/png": "[encoded data removed]",
      "text/plain": [
       "<Figure size 298x600 with 3 Axes>"
      ]
     },
     "metadata": {},
     "output_type": "display_data"
    }
   ],
   "source": [
    "g=sns.FacetGrid(train_df,row=\"Embarked\",height=2)\n",
    "g.map(sns.pointplot,\"Pclass\",\"Survived\",\"Sex\")\n",
    "g.add_legend()\n",
    "plt.show()"
   ]
  },
  {
   "cell_type": "markdown",
   "id": "69099a56",
   "metadata": {
    "papermill": {
     "duration": 0.04736,
     "end_time": "2024-09-15T22:28:39.354991",
     "exception": false,
     "start_time": "2024-09-15T22:28:39.307631",
     "status": "completed"
    },
    "tags": []
   },
   "source": [
    "* Female passengers have much better survival rate than males.\n",
    "* male have better survival rate in pclass 3 in C.\n",
    "* embarked and sex will be used in training\n"
   ]
  },
  {
   "cell_type": "markdown",
   "id": "51b2a031",
   "metadata": {
    "papermill": {
     "duration": 0.047393,
     "end_time": "2024-09-15T22:28:39.450217",
     "exception": false,
     "start_time": "2024-09-15T22:28:39.402824",
     "status": "completed"
    },
    "tags": []
   },
   "source": [
    "<a id=\"19\"></a><br>\n",
    "## Embarked -- Sex --  Fare -- Survived"
   ]
  },
  {
   "cell_type": "code",
   "execution_count": 37,
   "id": "6e8d6fa9",
   "metadata": {
    "execution": {
     "iopub.execute_input": "2024-09-15T22:28:39.547933Z",
     "iopub.status.busy": "2024-09-15T22:28:39.547521Z",
     "iopub.status.idle": "2024-09-15T22:28:41.848178Z",
     "shell.execute_reply": "2024-09-15T22:28:41.846923Z"
    },
    "papermill": {
     "duration": 2.352724,
     "end_time": "2024-09-15T22:28:41.851090",
     "exception": false,
     "start_time": "2024-09-15T22:28:39.498366",
     "status": "completed"
    },
    "tags": []
   },
   "outputs": [
    {
     "data": {
      "image/png": "[encoded data removed]",
      "text/plain": [
       "<Figure size 471.111x690 with 6 Axes>"
      ]
     },
     "metadata": {},
     "output_type": "display_data"
    }
   ],
   "source": [
    "g=sns.FacetGrid(train_df,row=\"Embarked\",col=\"Survived\",height=2.3)\n",
    "g.map(sns.barplot,\"Sex\",\"Fare\")\n",
    "g.add_legend()\n",
    "plt.show()"
   ]
  },
  {
   "cell_type": "markdown",
   "id": "8d8f0a18",
   "metadata": {
    "papermill": {
     "duration": 0.049707,
     "end_time": "2024-09-15T22:28:41.949894",
     "exception": false,
     "start_time": "2024-09-15T22:28:41.900187",
     "status": "completed"
    },
    "tags": []
   },
   "source": [
    "* Passengers who pay higher fare have better survival.Fare can be used as categorical for training."
   ]
  },
  {
   "cell_type": "markdown",
   "id": "b3832010",
   "metadata": {
    "papermill": {
     "duration": 0.049568,
     "end_time": "2024-09-15T22:28:42.048598",
     "exception": false,
     "start_time": "2024-09-15T22:28:41.999030",
     "status": "completed"
    },
    "tags": []
   },
   "source": [
    "<a id=\"20\"></a><br>\n",
    "## Fill Missing; Age Feature"
   ]
  },
  {
   "cell_type": "code",
   "execution_count": 38,
   "id": "af07a8d9",
   "metadata": {
    "execution": {
     "iopub.execute_input": "2024-09-15T22:28:42.151457Z",
     "iopub.status.busy": "2024-09-15T22:28:42.150997Z",
     "iopub.status.idle": "2024-09-15T22:28:42.175626Z",
     "shell.execute_reply": "2024-09-15T22:28:42.174473Z"
    },
    "papermill": {
     "duration": 0.08043,
     "end_time": "2024-09-15T22:28:42.178093",
     "exception": false,
     "start_time": "2024-09-15T22:28:42.097663",
     "status": "completed"
    },
    "tags": []
   },
   "outputs": [
    {
     "data": {
      "text/html": [
       "<div>\n",
       "<style scoped>\n",
       "    .dataframe tbody tr th:only-of-type {\n",
       "        vertical-align: middle;\n",
       "    }\n",
       "\n",
       "    .dataframe tbody tr th {\n",
       "        vertical-align: top;\n",
       "    }\n",
       "\n",
       "    .dataframe thead th {\n",
       "        text-align: right;\n",
       "    }\n",
       "</style>\n",
       "<table border=\"1\" class=\"dataframe\">\n",
       "  <thead>\n",
       "    <tr style=\"text-align: right;\">\n",
       "      <th></th>\n",
       "      <th>PassengerId</th>\n",
       "      <th>Survived</th>\n",
       "      <th>Pclass</th>\n",
       "      <th>Name</th>\n",
       "      <th>Sex</th>\n",
       "      <th>Age</th>\n",
       "      <th>SibSp</th>\n",
       "      <th>Parch</th>\n",
       "      <th>Ticket</th>\n",
       "      <th>Fare</th>\n",
       "      <th>Cabin</th>\n",
       "      <th>Embarked</th>\n",
       "    </tr>\n",
       "  </thead>\n",
       "  <tbody>\n",
       "    <tr>\n",
       "      <th>4</th>\n",
       "      <td>6</td>\n",
       "      <td>0.0</td>\n",
       "      <td>3</td>\n",
       "      <td>Moran, Mr. James</td>\n",
       "      <td>male</td>\n",
       "      <td>NaN</td>\n",
       "      <td>0</td>\n",
       "      <td>0</td>\n",
       "      <td>330877</td>\n",
       "      <td>8.4583</td>\n",
       "      <td>NaN</td>\n",
       "      <td>Q</td>\n",
       "    </tr>\n",
       "    <tr>\n",
       "      <th>16</th>\n",
       "      <td>18</td>\n",
       "      <td>1.0</td>\n",
       "      <td>2</td>\n",
       "      <td>Williams, Mr. Charles Eugene</td>\n",
       "      <td>male</td>\n",
       "      <td>NaN</td>\n",
       "      <td>0</td>\n",
       "      <td>0</td>\n",
       "      <td>244373</td>\n",
       "      <td>13.0000</td>\n",
       "      <td>NaN</td>\n",
       "      <td>S</td>\n",
       "    </tr>\n",
       "    <tr>\n",
       "      <th>18</th>\n",
       "      <td>20</td>\n",
       "      <td>1.0</td>\n",
       "      <td>3</td>\n",
       "      <td>Masselmani, Mrs. Fatima</td>\n",
       "      <td>female</td>\n",
       "      <td>NaN</td>\n",
       "      <td>0</td>\n",
       "      <td>0</td>\n",
       "      <td>2649</td>\n",
       "      <td>7.2250</td>\n",
       "      <td>NaN</td>\n",
       "      <td>C</td>\n",
       "    </tr>\n",
       "    <tr>\n",
       "      <th>25</th>\n",
       "      <td>27</td>\n",
       "      <td>0.0</td>\n",
       "      <td>3</td>\n",
       "      <td>Emir, Mr. Farred Chehab</td>\n",
       "      <td>male</td>\n",
       "      <td>NaN</td>\n",
       "      <td>0</td>\n",
       "      <td>0</td>\n",
       "      <td>2631</td>\n",
       "      <td>7.2250</td>\n",
       "      <td>NaN</td>\n",
       "      <td>C</td>\n",
       "    </tr>\n",
       "    <tr>\n",
       "      <th>27</th>\n",
       "      <td>29</td>\n",
       "      <td>1.0</td>\n",
       "      <td>3</td>\n",
       "      <td>O'Dwyer, Miss. Ellen \"Nellie\"</td>\n",
       "      <td>female</td>\n",
       "      <td>NaN</td>\n",
       "      <td>0</td>\n",
       "      <td>0</td>\n",
       "      <td>330959</td>\n",
       "      <td>7.8792</td>\n",
       "      <td>NaN</td>\n",
       "      <td>Q</td>\n",
       "    </tr>\n",
       "    <tr>\n",
       "      <th>...</th>\n",
       "      <td>...</td>\n",
       "      <td>...</td>\n",
       "      <td>...</td>\n",
       "      <td>...</td>\n",
       "      <td>...</td>\n",
       "      <td>...</td>\n",
       "      <td>...</td>\n",
       "      <td>...</td>\n",
       "      <td>...</td>\n",
       "      <td>...</td>\n",
       "      <td>...</td>\n",
       "      <td>...</td>\n",
       "    </tr>\n",
       "    <tr>\n",
       "      <th>1298</th>\n",
       "      <td>1300</td>\n",
       "      <td>NaN</td>\n",
       "      <td>3</td>\n",
       "      <td>Riordan, Miss. Johanna Hannah\"\"</td>\n",
       "      <td>female</td>\n",
       "      <td>NaN</td>\n",
       "      <td>0</td>\n",
       "      <td>0</td>\n",
       "      <td>334915</td>\n",
       "      <td>7.7208</td>\n",
       "      <td>NaN</td>\n",
       "      <td>Q</td>\n",
       "    </tr>\n",
       "    <tr>\n",
       "      <th>1300</th>\n",
       "      <td>1302</td>\n",
       "      <td>NaN</td>\n",
       "      <td>3</td>\n",
       "      <td>Naughton, Miss. Hannah</td>\n",
       "      <td>female</td>\n",
       "      <td>NaN</td>\n",
       "      <td>0</td>\n",
       "      <td>0</td>\n",
       "      <td>365237</td>\n",
       "      <td>7.7500</td>\n",
       "      <td>NaN</td>\n",
       "      <td>Q</td>\n",
       "    </tr>\n",
       "    <tr>\n",
       "      <th>1303</th>\n",
       "      <td>1305</td>\n",
       "      <td>NaN</td>\n",
       "      <td>3</td>\n",
       "      <td>Spector, Mr. Woolf</td>\n",
       "      <td>male</td>\n",
       "      <td>NaN</td>\n",
       "      <td>0</td>\n",
       "      <td>0</td>\n",
       "      <td>A.5. 3236</td>\n",
       "      <td>8.0500</td>\n",
       "      <td>NaN</td>\n",
       "      <td>S</td>\n",
       "    </tr>\n",
       "    <tr>\n",
       "      <th>1306</th>\n",
       "      <td>1308</td>\n",
       "      <td>NaN</td>\n",
       "      <td>3</td>\n",
       "      <td>Ware, Mr. Frederick</td>\n",
       "      <td>male</td>\n",
       "      <td>NaN</td>\n",
       "      <td>0</td>\n",
       "      <td>0</td>\n",
       "      <td>359309</td>\n",
       "      <td>8.0500</td>\n",
       "      <td>NaN</td>\n",
       "      <td>S</td>\n",
       "    </tr>\n",
       "    <tr>\n",
       "      <th>1307</th>\n",
       "      <td>1309</td>\n",
       "      <td>NaN</td>\n",
       "      <td>3</td>\n",
       "      <td>Peter, Master. Michael J</td>\n",
       "      <td>male</td>\n",
       "      <td>NaN</td>\n",
       "      <td>1</td>\n",
       "      <td>1</td>\n",
       "      <td>2668</td>\n",
       "      <td>22.3583</td>\n",
       "      <td>NaN</td>\n",
       "      <td>C</td>\n",
       "    </tr>\n",
       "  </tbody>\n",
       "</table>\n",
       "<p>263 rows × 12 columns</p>\n",
       "</div>"
      ],
      "text/plain": [
       "      PassengerId  Survived  Pclass                             Name     Sex  \\\n",
       "4               6       0.0       3                 Moran, Mr. James    male   \n",
       "16             18       1.0       2     Williams, Mr. Charles Eugene    male   \n",
       "18             20       1.0       3          Masselmani, Mrs. Fatima  female   \n",
       "25             27       0.0       3          Emir, Mr. Farred Chehab    male   \n",
       "27             29       1.0       3    O'Dwyer, Miss. Ellen \"Nellie\"  female   \n",
       "...           ...       ...     ...                              ...     ...   \n",
       "1298         1300       NaN       3  Riordan, Miss. Johanna Hannah\"\"  female   \n",
       "1300         1302       NaN       3           Naughton, Miss. Hannah  female   \n",
       "1303         1305       NaN       3               Spector, Mr. Woolf    male   \n",
       "1306         1308       NaN       3              Ware, Mr. Frederick    male   \n",
       "1307         1309       NaN       3         Peter, Master. Michael J    male   \n",
       "\n",
       "      Age  SibSp  Parch     Ticket     Fare Cabin Embarked  \n",
       "4     NaN      0      0     330877   8.4583   NaN        Q  \n",
       "16    NaN      0      0     244373  13.0000   NaN        S  \n",
       "18    NaN      0      0       2649   7.2250   NaN        C  \n",
       "25    NaN      0      0       2631   7.2250   NaN        C  \n",
       "27    NaN      0      0     330959   7.8792   NaN        Q  \n",
       "...   ...    ...    ...        ...      ...   ...      ...  \n",
       "1298  NaN      0      0     334915   7.7208   NaN        Q  \n",
       "1300  NaN      0      0     365237   7.7500   NaN        Q  \n",
       "1303  NaN      0      0  A.5. 3236   8.0500   NaN        S  \n",
       "1306  NaN      0      0     359309   8.0500   NaN        S  \n",
       "1307  NaN      1      1       2668  22.3583   NaN        C  \n",
       "\n",
       "[263 rows x 12 columns]"
      ]
     },
     "execution_count": 38,
     "metadata": {},
     "output_type": "execute_result"
    }
   ],
   "source": [
    "train_df[train_df[\"Age\"].isnull()]"
   ]
  },
  {
   "cell_type": "code",
   "execution_count": 39,
   "id": "b44607fb",
   "metadata": {
    "execution": {
     "iopub.execute_input": "2024-09-15T22:28:42.279463Z",
     "iopub.status.busy": "2024-09-15T22:28:42.279010Z",
     "iopub.status.idle": "2024-09-15T22:28:42.659575Z",
     "shell.execute_reply": "2024-09-15T22:28:42.658474Z"
    },
    "papermill": {
     "duration": 0.43424,
     "end_time": "2024-09-15T22:28:42.662316",
     "exception": false,
     "start_time": "2024-09-15T22:28:42.228076",
     "status": "completed"
    },
    "tags": []
   },
   "outputs": [
    {
     "data": {
      "image/png": "[encoded data removed]",
      "text/plain": [
       "<Figure size 500x500 with 1 Axes>"
      ]
     },
     "metadata": {},
     "output_type": "display_data"
    }
   ],
   "source": [
    "sns.catplot(x=\"Sex\",y=\"Age\",data=train_df,kind=\"box\")\n",
    "plt.show()"
   ]
  },
  {
   "cell_type": "markdown",
   "id": "6b4b6f85",
   "metadata": {
    "papermill": {
     "duration": 0.05037,
     "end_time": "2024-09-15T22:28:42.763004",
     "exception": false,
     "start_time": "2024-09-15T22:28:42.712634",
     "status": "completed"
    },
    "tags": []
   },
   "source": [
    "Sex is not information for age prediction, age distribution seems to be same.(aralarında çokta bir fark yok)"
   ]
  },
  {
   "cell_type": "code",
   "execution_count": 40,
   "id": "ace4fe65",
   "metadata": {
    "execution": {
     "iopub.execute_input": "2024-09-15T22:28:42.864413Z",
     "iopub.status.busy": "2024-09-15T22:28:42.864008Z",
     "iopub.status.idle": "2024-09-15T22:28:43.428667Z",
     "shell.execute_reply": "2024-09-15T22:28:43.427441Z"
    },
    "papermill": {
     "duration": 0.617787,
     "end_time": "2024-09-15T22:28:43.431368",
     "exception": false,
     "start_time": "2024-09-15T22:28:42.813581",
     "status": "completed"
    },
    "tags": []
   },
   "outputs": [
    {
     "data": {
      "image/png": "[encoded data removed]",
      "text/plain": [
       "<Figure size 558.875x500 with 1 Axes>"
      ]
     },
     "metadata": {},
     "output_type": "display_data"
    }
   ],
   "source": [
    "sns.catplot(x=\"Sex\",y=\"Age\",hue=\"Pclass\",data=train_df,kind=\"box\")\n",
    "plt.show()"
   ]
  },
  {
   "cell_type": "markdown",
   "id": "370c011d",
   "metadata": {
    "papermill": {
     "duration": 0.050768,
     "end_time": "2024-09-15T22:28:43.533217",
     "exception": false,
     "start_time": "2024-09-15T22:28:43.482449",
     "status": "completed"
    },
    "tags": []
   },
   "source": [
    "1st class passengers are older than 2nd,and is older than 3rd class.\n"
   ]
  },
  {
   "cell_type": "code",
   "execution_count": 41,
   "id": "269971e4",
   "metadata": {
    "execution": {
     "iopub.execute_input": "2024-09-15T22:28:43.637659Z",
     "iopub.status.busy": "2024-09-15T22:28:43.637229Z",
     "iopub.status.idle": "2024-09-15T22:28:44.538701Z",
     "shell.execute_reply": "2024-09-15T22:28:44.537500Z"
    },
    "papermill": {
     "duration": 0.956029,
     "end_time": "2024-09-15T22:28:44.541464",
     "exception": false,
     "start_time": "2024-09-15T22:28:43.585435",
     "status": "completed"
    },
    "tags": []
   },
   "outputs": [
    {
     "data": {
      "image/png": "[encoded data removed]",
      "text/plain": [
       "<Figure size 500x500 with 1 Axes>"
      ]
     },
     "metadata": {},
     "output_type": "display_data"
    },
    {
     "data": {
      "image/png": "[encoded data removed]",
      "text/plain": [
       "<Figure size 500x500 with 1 Axes>"
      ]
     },
     "metadata": {},
     "output_type": "display_data"
    }
   ],
   "source": [
    "sns.catplot(x=\"Parch\",y=\"Age\",data=train_df,kind=\"box\")\n",
    "sns.catplot(x=\"SibSp\",y=\"Age\",data=train_df,kind=\"box\")\n",
    "\n",
    "plt.show()"
   ]
  },
  {
   "cell_type": "code",
   "execution_count": 42,
   "id": "f2ba02d1",
   "metadata": {
    "execution": {
     "iopub.execute_input": "2024-09-15T22:28:44.649193Z",
     "iopub.status.busy": "2024-09-15T22:28:44.648777Z",
     "iopub.status.idle": "2024-09-15T22:28:44.656152Z",
     "shell.execute_reply": "2024-09-15T22:28:44.654911Z"
    },
    "papermill": {
     "duration": 0.063566,
     "end_time": "2024-09-15T22:28:44.658612",
     "exception": false,
     "start_time": "2024-09-15T22:28:44.595046",
     "status": "completed"
    },
    "tags": []
   },
   "outputs": [],
   "source": [
    "train_df[\"Sex\"]=[1 if i==\"male\" else 0 for i in train_df[\"Sex\"]]"
   ]
  },
  {
   "cell_type": "code",
   "execution_count": 43,
   "id": "b8dc597a",
   "metadata": {
    "execution": {
     "iopub.execute_input": "2024-09-15T22:28:44.762259Z",
     "iopub.status.busy": "2024-09-15T22:28:44.761874Z",
     "iopub.status.idle": "2024-09-15T22:28:45.153528Z",
     "shell.execute_reply": "2024-09-15T22:28:45.152092Z"
    },
    "papermill": {
     "duration": 0.446686,
     "end_time": "2024-09-15T22:28:45.156584",
     "exception": false,
     "start_time": "2024-09-15T22:28:44.709898",
     "status": "completed"
    },
    "tags": []
   },
   "outputs": [
    {
     "data": {
      "image/png": "[encoded data removed]",
      "text/plain": [
       "<Figure size 640x480 with 2 Axes>"
      ]
     },
     "metadata": {},
     "output_type": "display_data"
    }
   ],
   "source": [
    "sns.heatmap(train_df[[\"Age\",\"Sex\",\"SibSp\",\"Parch\",\"Pclass\"]].corr(), annot = True)\n",
    "plt.show()"
   ]
  },
  {
   "cell_type": "markdown",
   "id": "07b1b9f0",
   "metadata": {
    "papermill": {
     "duration": 0.052069,
     "end_time": "2024-09-15T22:28:45.263931",
     "exception": false,
     "start_time": "2024-09-15T22:28:45.211862",
     "status": "completed"
    },
    "tags": []
   },
   "source": [
    "Age is not correlated with sex but  is correlated with parch,sibsp and pclass"
   ]
  },
  {
   "cell_type": "code",
   "execution_count": 44,
   "id": "dde822c5",
   "metadata": {
    "execution": {
     "iopub.execute_input": "2024-09-15T22:28:45.370771Z",
     "iopub.status.busy": "2024-09-15T22:28:45.370370Z",
     "iopub.status.idle": "2024-09-15T22:28:45.859607Z",
     "shell.execute_reply": "2024-09-15T22:28:45.858465Z"
    },
    "papermill": {
     "duration": 0.546822,
     "end_time": "2024-09-15T22:28:45.862470",
     "exception": false,
     "start_time": "2024-09-15T22:28:45.315648",
     "status": "completed"
    },
    "tags": []
   },
   "outputs": [],
   "source": [
    "index_nan_age = list(train_df[\"Age\"][train_df[\"Age\"].isnull()].index)\n",
    "for i in index_nan_age:\n",
    "    age_pred = train_df[\"Age\"][((train_df[\"SibSp\"] == train_df.iloc[i][\"SibSp\"]) &(train_df[\"Parch\"] == train_df.iloc[i][\"Parch\"])& (train_df[\"Pclass\"] == train_df.iloc[i][\"Pclass\"]))].median()\n",
    "    age_med = train_df[\"Age\"].median()\n",
    "    if not np.isnan(age_pred):\n",
    "        train_df[\"Age\"].iloc[i] = age_pred\n",
    "    else:\n",
    "        train_df[\"Age\"].iloc[i] = age_med"
   ]
  },
  {
   "cell_type": "markdown",
   "id": "bf9268f0",
   "metadata": {
    "papermill": {
     "duration": 0.05315,
     "end_time": "2024-09-15T22:28:45.966819",
     "exception": false,
     "start_time": "2024-09-15T22:28:45.913669",
     "status": "completed"
    },
    "tags": []
   },
   "source": [
    "<a id=\"21\"></a><br>\n",
    "\n",
    "# Feature Engineering"
   ]
  },
  {
   "cell_type": "markdown",
   "id": "2a8a0c00",
   "metadata": {
    "papermill": {
     "duration": 0.052374,
     "end_time": "2024-09-15T22:28:46.072998",
     "exception": false,
     "start_time": "2024-09-15T22:28:46.020624",
     "status": "completed"
    },
    "tags": []
   },
   "source": [
    "<a id=\"22\"></a><br>\n",
    "## Name --- Title"
   ]
  },
  {
   "cell_type": "code",
   "execution_count": 45,
   "id": "31dab366",
   "metadata": {
    "execution": {
     "iopub.execute_input": "2024-09-15T22:28:46.182466Z",
     "iopub.status.busy": "2024-09-15T22:28:46.182013Z",
     "iopub.status.idle": "2024-09-15T22:28:46.191508Z",
     "shell.execute_reply": "2024-09-15T22:28:46.190146Z"
    },
    "papermill": {
     "duration": 0.065841,
     "end_time": "2024-09-15T22:28:46.194176",
     "exception": false,
     "start_time": "2024-09-15T22:28:46.128335",
     "status": "completed"
    },
    "tags": []
   },
   "outputs": [
    {
     "data": {
      "text/plain": [
       "0                              Braund, Mr. Owen Harris\n",
       "1                               Heikkinen, Miss. Laina\n",
       "2         Futrelle, Mrs. Jacques Heath (Lily May Peel)\n",
       "3                             Allen, Mr. William Henry\n",
       "4                                     Moran, Mr. James\n",
       "5                              McCarthy, Mr. Timothy J\n",
       "6                       Palsson, Master. Gosta Leonard\n",
       "7    Johnson, Mrs. Oscar W (Elisabeth Vilhelmina Berg)\n",
       "8                  Nasser, Mrs. Nicholas (Adele Achem)\n",
       "9                      Sandstrom, Miss. Marguerite Rut\n",
       "Name: Name, dtype: object"
      ]
     },
     "execution_count": 45,
     "metadata": {},
     "output_type": "execute_result"
    }
   ],
   "source": [
    "train_df[\"Name\"].head(10)"
   ]
  },
  {
   "cell_type": "code",
   "execution_count": 46,
   "id": "4cb5cdfe",
   "metadata": {
    "execution": {
     "iopub.execute_input": "2024-09-15T22:28:46.300240Z",
     "iopub.status.busy": "2024-09-15T22:28:46.299827Z",
     "iopub.status.idle": "2024-09-15T22:28:46.308033Z",
     "shell.execute_reply": "2024-09-15T22:28:46.306802Z"
    },
    "papermill": {
     "duration": 0.064321,
     "end_time": "2024-09-15T22:28:46.310725",
     "exception": false,
     "start_time": "2024-09-15T22:28:46.246404",
     "status": "completed"
    },
    "tags": []
   },
   "outputs": [],
   "source": [
    "name=train_df[\"Name\"]\n",
    "train_df[\"Title\"]=[i.split(\".\")[0].split(\",\")[-1].strip() for i in name]"
   ]
  },
  {
   "cell_type": "code",
   "execution_count": 47,
   "id": "37a89bd5",
   "metadata": {
    "execution": {
     "iopub.execute_input": "2024-09-15T22:28:46.417138Z",
     "iopub.status.busy": "2024-09-15T22:28:46.416716Z",
     "iopub.status.idle": "2024-09-15T22:28:46.425466Z",
     "shell.execute_reply": "2024-09-15T22:28:46.424400Z"
    },
    "papermill": {
     "duration": 0.064702,
     "end_time": "2024-09-15T22:28:46.427810",
     "exception": false,
     "start_time": "2024-09-15T22:28:46.363108",
     "status": "completed"
    },
    "tags": []
   },
   "outputs": [
    {
     "data": {
      "text/plain": [
       "0        Mr\n",
       "1      Miss\n",
       "2       Mrs\n",
       "3        Mr\n",
       "4        Mr\n",
       "5        Mr\n",
       "6    Master\n",
       "7       Mrs\n",
       "8       Mrs\n",
       "9      Miss\n",
       "Name: Title, dtype: object"
      ]
     },
     "execution_count": 47,
     "metadata": {},
     "output_type": "execute_result"
    }
   ],
   "source": [
    "train_df[\"Title\"].head(10)"
   ]
  },
  {
   "cell_type": "code",
   "execution_count": 48,
   "id": "69ff20ed",
   "metadata": {
    "execution": {
     "iopub.execute_input": "2024-09-15T22:28:46.536755Z",
     "iopub.status.busy": "2024-09-15T22:28:46.536366Z",
     "iopub.status.idle": "2024-09-15T22:28:46.881727Z",
     "shell.execute_reply": "2024-09-15T22:28:46.880491Z"
    },
    "papermill": {
     "duration": 0.402661,
     "end_time": "2024-09-15T22:28:46.885030",
     "exception": false,
     "start_time": "2024-09-15T22:28:46.482369",
     "status": "completed"
    },
    "tags": []
   },
   "outputs": [
    {
     "data": {
      "image/png": "[encoded data removed]",
      "text/plain": [
       "<Figure size 640x480 with 1 Axes>"
      ]
     },
     "metadata": {},
     "output_type": "display_data"
    }
   ],
   "source": [
    "sns.countplot(x=\"Title\",data=train_df)\n",
    "plt.xticks(rotation=60)\n",
    "plt.show()"
   ]
  },
  {
   "cell_type": "code",
   "execution_count": 49,
   "id": "19ddbe7a",
   "metadata": {
    "execution": {
     "iopub.execute_input": "2024-09-15T22:28:46.993474Z",
     "iopub.status.busy": "2024-09-15T22:28:46.993058Z",
     "iopub.status.idle": "2024-09-15T22:28:47.010582Z",
     "shell.execute_reply": "2024-09-15T22:28:47.009491Z"
    },
    "papermill": {
     "duration": 0.074776,
     "end_time": "2024-09-15T22:28:47.013013",
     "exception": false,
     "start_time": "2024-09-15T22:28:46.938237",
     "status": "completed"
    },
    "tags": []
   },
   "outputs": [
    {
     "data": {
      "text/plain": [
       "0     2\n",
       "1     1\n",
       "2     1\n",
       "3     2\n",
       "4     2\n",
       "5     2\n",
       "6     0\n",
       "7     1\n",
       "8     1\n",
       "9     1\n",
       "10    1\n",
       "11    2\n",
       "12    2\n",
       "13    1\n",
       "14    1\n",
       "15    0\n",
       "16    2\n",
       "17    1\n",
       "18    1\n",
       "19    2\n",
       "Name: Title, dtype: int64"
      ]
     },
     "execution_count": 49,
     "metadata": {},
     "output_type": "execute_result"
    }
   ],
   "source": [
    "# convert to categorical\n",
    "train_df[\"Title\"]=train_df[\"Title\"].replace([\"Lady\",\"the Countess\",\"Capt\",\"Col\",\"Dona\",\"Don\",\"Dr\",\"Major\",\"Rev\",\"Sir\",\"Jonkheer\"],\"other\")\n",
    "train_df[\"Title\"]=[0 if i==\"Master\" else 1 if i == \"Miss\" or i ==\"Ms\" or  i==\"Mlle\" or i ==\"Mrs\" else 2 if i== \"Mr\" else 3 for i in train_df[\"Title\"]]\n",
    "train_df[\"Title\"].head(20)"
   ]
  },
  {
   "cell_type": "code",
   "execution_count": 50,
   "id": "bcf7b23d",
   "metadata": {
    "execution": {
     "iopub.execute_input": "2024-09-15T22:28:47.120933Z",
     "iopub.status.busy": "2024-09-15T22:28:47.120498Z",
     "iopub.status.idle": "2024-09-15T22:28:47.353315Z",
     "shell.execute_reply": "2024-09-15T22:28:47.352071Z"
    },
    "papermill": {
     "duration": 0.289899,
     "end_time": "2024-09-15T22:28:47.355759",
     "exception": false,
     "start_time": "2024-09-15T22:28:47.065860",
     "status": "completed"
    },
    "tags": []
   },
   "outputs": [
    {
     "data": {
      "image/png": "[encoded data removed]",
      "text/plain": [
       "<Figure size 640x480 with 1 Axes>"
      ]
     },
     "metadata": {},
     "output_type": "display_data"
    }
   ],
   "source": [
    "sns.countplot(x=\"Title\",data=train_df)\n",
    "plt.xticks(rotation=60)\n",
    "plt.show()"
   ]
  },
  {
   "cell_type": "code",
   "execution_count": 51,
   "id": "9bac976c",
   "metadata": {
    "execution": {
     "iopub.execute_input": "2024-09-15T22:28:47.466652Z",
     "iopub.status.busy": "2024-09-15T22:28:47.466224Z",
     "iopub.status.idle": "2024-09-15T22:28:48.080552Z",
     "shell.execute_reply": "2024-09-15T22:28:48.079368Z"
    },
    "papermill": {
     "duration": 0.671247,
     "end_time": "2024-09-15T22:28:48.083279",
     "exception": false,
     "start_time": "2024-09-15T22:28:47.412032",
     "status": "completed"
    },
    "tags": []
   },
   "outputs": [
    {
     "data": {
      "image/png": "[encoded data removed]",
      "text/plain": [
       "<Figure size 500x500 with 1 Axes>"
      ]
     },
     "metadata": {},
     "output_type": "display_data"
    }
   ],
   "source": [
    "g=sns.catplot(x=\"Title\",y=\"Survived\",data=train_df,kind=\"bar\")\n",
    "g.set_xticklabels([\"Master\",\"Mrs\",\"Mr\",\"Other\"])\n",
    "g.set_ylabels(\"Survival Probability\")\n",
    "plt.show()"
   ]
  },
  {
   "cell_type": "code",
   "execution_count": 52,
   "id": "220694e4",
   "metadata": {
    "execution": {
     "iopub.execute_input": "2024-09-15T22:28:48.191928Z",
     "iopub.status.busy": "2024-09-15T22:28:48.191150Z",
     "iopub.status.idle": "2024-09-15T22:28:48.198539Z",
     "shell.execute_reply": "2024-09-15T22:28:48.197092Z"
    },
    "papermill": {
     "duration": 0.064368,
     "end_time": "2024-09-15T22:28:48.201131",
     "exception": false,
     "start_time": "2024-09-15T22:28:48.136763",
     "status": "completed"
    },
    "tags": []
   },
   "outputs": [],
   "source": [
    "train_df.drop(labels=[\"Name\"],axis=1,inplace=True)\n"
   ]
  },
  {
   "cell_type": "code",
   "execution_count": 53,
   "id": "1d9c330a",
   "metadata": {
    "execution": {
     "iopub.execute_input": "2024-09-15T22:28:48.313403Z",
     "iopub.status.busy": "2024-09-15T22:28:48.312985Z",
     "iopub.status.idle": "2024-09-15T22:28:48.331728Z",
     "shell.execute_reply": "2024-09-15T22:28:48.330482Z"
    },
    "papermill": {
     "duration": 0.077631,
     "end_time": "2024-09-15T22:28:48.334275",
     "exception": false,
     "start_time": "2024-09-15T22:28:48.256644",
     "status": "completed"
    },
    "tags": []
   },
   "outputs": [
    {
     "data": {
      "text/html": [
       "<div>\n",
       "<style scoped>\n",
       "    .dataframe tbody tr th:only-of-type {\n",
       "        vertical-align: middle;\n",
       "    }\n",
       "\n",
       "    .dataframe tbody tr th {\n",
       "        vertical-align: top;\n",
       "    }\n",
       "\n",
       "    .dataframe thead th {\n",
       "        text-align: right;\n",
       "    }\n",
       "</style>\n",
       "<table border=\"1\" class=\"dataframe\">\n",
       "  <thead>\n",
       "    <tr style=\"text-align: right;\">\n",
       "      <th></th>\n",
       "      <th>PassengerId</th>\n",
       "      <th>Survived</th>\n",
       "      <th>Pclass</th>\n",
       "      <th>Sex</th>\n",
       "      <th>Age</th>\n",
       "      <th>SibSp</th>\n",
       "      <th>Parch</th>\n",
       "      <th>Ticket</th>\n",
       "      <th>Fare</th>\n",
       "      <th>Cabin</th>\n",
       "      <th>Embarked</th>\n",
       "      <th>Title</th>\n",
       "    </tr>\n",
       "  </thead>\n",
       "  <tbody>\n",
       "    <tr>\n",
       "      <th>0</th>\n",
       "      <td>1</td>\n",
       "      <td>0.0</td>\n",
       "      <td>3</td>\n",
       "      <td>1</td>\n",
       "      <td>22.0</td>\n",
       "      <td>1</td>\n",
       "      <td>0</td>\n",
       "      <td>A/5 21171</td>\n",
       "      <td>7.2500</td>\n",
       "      <td>NaN</td>\n",
       "      <td>S</td>\n",
       "      <td>2</td>\n",
       "    </tr>\n",
       "    <tr>\n",
       "      <th>1</th>\n",
       "      <td>3</td>\n",
       "      <td>1.0</td>\n",
       "      <td>3</td>\n",
       "      <td>0</td>\n",
       "      <td>26.0</td>\n",
       "      <td>0</td>\n",
       "      <td>0</td>\n",
       "      <td>STON/O2. 3101282</td>\n",
       "      <td>7.9250</td>\n",
       "      <td>NaN</td>\n",
       "      <td>S</td>\n",
       "      <td>1</td>\n",
       "    </tr>\n",
       "    <tr>\n",
       "      <th>2</th>\n",
       "      <td>4</td>\n",
       "      <td>1.0</td>\n",
       "      <td>1</td>\n",
       "      <td>0</td>\n",
       "      <td>35.0</td>\n",
       "      <td>1</td>\n",
       "      <td>0</td>\n",
       "      <td>113803</td>\n",
       "      <td>53.1000</td>\n",
       "      <td>C123</td>\n",
       "      <td>S</td>\n",
       "      <td>1</td>\n",
       "    </tr>\n",
       "    <tr>\n",
       "      <th>3</th>\n",
       "      <td>5</td>\n",
       "      <td>0.0</td>\n",
       "      <td>3</td>\n",
       "      <td>1</td>\n",
       "      <td>35.0</td>\n",
       "      <td>0</td>\n",
       "      <td>0</td>\n",
       "      <td>373450</td>\n",
       "      <td>8.0500</td>\n",
       "      <td>NaN</td>\n",
       "      <td>S</td>\n",
       "      <td>2</td>\n",
       "    </tr>\n",
       "    <tr>\n",
       "      <th>4</th>\n",
       "      <td>6</td>\n",
       "      <td>0.0</td>\n",
       "      <td>3</td>\n",
       "      <td>1</td>\n",
       "      <td>25.0</td>\n",
       "      <td>0</td>\n",
       "      <td>0</td>\n",
       "      <td>330877</td>\n",
       "      <td>8.4583</td>\n",
       "      <td>NaN</td>\n",
       "      <td>Q</td>\n",
       "      <td>2</td>\n",
       "    </tr>\n",
       "  </tbody>\n",
       "</table>\n",
       "</div>"
      ],
      "text/plain": [
       "   PassengerId  Survived  Pclass  Sex   Age  SibSp  Parch            Ticket  \\\n",
       "0            1       0.0       3    1  22.0      1      0         A/5 21171   \n",
       "1            3       1.0       3    0  26.0      0      0  STON/O2. 3101282   \n",
       "2            4       1.0       1    0  35.0      1      0            113803   \n",
       "3            5       0.0       3    1  35.0      0      0            373450   \n",
       "4            6       0.0       3    1  25.0      0      0            330877   \n",
       "\n",
       "      Fare Cabin Embarked  Title  \n",
       "0   7.2500   NaN        S      2  \n",
       "1   7.9250   NaN        S      1  \n",
       "2  53.1000  C123        S      1  \n",
       "3   8.0500   NaN        S      2  \n",
       "4   8.4583   NaN        Q      2  "
      ]
     },
     "execution_count": 53,
     "metadata": {},
     "output_type": "execute_result"
    }
   ],
   "source": [
    "train_df.head()"
   ]
  },
  {
   "cell_type": "code",
   "execution_count": 54,
   "id": "a9225262",
   "metadata": {
    "execution": {
     "iopub.execute_input": "2024-09-15T22:28:48.444066Z",
     "iopub.status.busy": "2024-09-15T22:28:48.443682Z",
     "iopub.status.idle": "2024-09-15T22:28:48.469399Z",
     "shell.execute_reply": "2024-09-15T22:28:48.468098Z"
    },
    "papermill": {
     "duration": 0.083517,
     "end_time": "2024-09-15T22:28:48.472097",
     "exception": false,
     "start_time": "2024-09-15T22:28:48.388580",
     "status": "completed"
    },
    "tags": []
   },
   "outputs": [
    {
     "data": {
      "text/html": [
       "<div>\n",
       "<style scoped>\n",
       "    .dataframe tbody tr th:only-of-type {\n",
       "        vertical-align: middle;\n",
       "    }\n",
       "\n",
       "    .dataframe tbody tr th {\n",
       "        vertical-align: top;\n",
       "    }\n",
       "\n",
       "    .dataframe thead th {\n",
       "        text-align: right;\n",
       "    }\n",
       "</style>\n",
       "<table border=\"1\" class=\"dataframe\">\n",
       "  <thead>\n",
       "    <tr style=\"text-align: right;\">\n",
       "      <th></th>\n",
       "      <th>PassengerId</th>\n",
       "      <th>Survived</th>\n",
       "      <th>Pclass</th>\n",
       "      <th>Sex</th>\n",
       "      <th>Age</th>\n",
       "      <th>SibSp</th>\n",
       "      <th>Parch</th>\n",
       "      <th>Ticket</th>\n",
       "      <th>Fare</th>\n",
       "      <th>Cabin</th>\n",
       "      <th>Embarked</th>\n",
       "      <th>Title_0</th>\n",
       "      <th>Title_1</th>\n",
       "      <th>Title_2</th>\n",
       "      <th>Title_3</th>\n",
       "    </tr>\n",
       "  </thead>\n",
       "  <tbody>\n",
       "    <tr>\n",
       "      <th>0</th>\n",
       "      <td>1</td>\n",
       "      <td>0.0</td>\n",
       "      <td>3</td>\n",
       "      <td>1</td>\n",
       "      <td>22.0</td>\n",
       "      <td>1</td>\n",
       "      <td>0</td>\n",
       "      <td>A/5 21171</td>\n",
       "      <td>7.2500</td>\n",
       "      <td>NaN</td>\n",
       "      <td>S</td>\n",
       "      <td>False</td>\n",
       "      <td>False</td>\n",
       "      <td>True</td>\n",
       "      <td>False</td>\n",
       "    </tr>\n",
       "    <tr>\n",
       "      <th>1</th>\n",
       "      <td>3</td>\n",
       "      <td>1.0</td>\n",
       "      <td>3</td>\n",
       "      <td>0</td>\n",
       "      <td>26.0</td>\n",
       "      <td>0</td>\n",
       "      <td>0</td>\n",
       "      <td>STON/O2. 3101282</td>\n",
       "      <td>7.9250</td>\n",
       "      <td>NaN</td>\n",
       "      <td>S</td>\n",
       "      <td>False</td>\n",
       "      <td>True</td>\n",
       "      <td>False</td>\n",
       "      <td>False</td>\n",
       "    </tr>\n",
       "    <tr>\n",
       "      <th>2</th>\n",
       "      <td>4</td>\n",
       "      <td>1.0</td>\n",
       "      <td>1</td>\n",
       "      <td>0</td>\n",
       "      <td>35.0</td>\n",
       "      <td>1</td>\n",
       "      <td>0</td>\n",
       "      <td>113803</td>\n",
       "      <td>53.1000</td>\n",
       "      <td>C123</td>\n",
       "      <td>S</td>\n",
       "      <td>False</td>\n",
       "      <td>True</td>\n",
       "      <td>False</td>\n",
       "      <td>False</td>\n",
       "    </tr>\n",
       "    <tr>\n",
       "      <th>3</th>\n",
       "      <td>5</td>\n",
       "      <td>0.0</td>\n",
       "      <td>3</td>\n",
       "      <td>1</td>\n",
       "      <td>35.0</td>\n",
       "      <td>0</td>\n",
       "      <td>0</td>\n",
       "      <td>373450</td>\n",
       "      <td>8.0500</td>\n",
       "      <td>NaN</td>\n",
       "      <td>S</td>\n",
       "      <td>False</td>\n",
       "      <td>False</td>\n",
       "      <td>True</td>\n",
       "      <td>False</td>\n",
       "    </tr>\n",
       "    <tr>\n",
       "      <th>4</th>\n",
       "      <td>6</td>\n",
       "      <td>0.0</td>\n",
       "      <td>3</td>\n",
       "      <td>1</td>\n",
       "      <td>25.0</td>\n",
       "      <td>0</td>\n",
       "      <td>0</td>\n",
       "      <td>330877</td>\n",
       "      <td>8.4583</td>\n",
       "      <td>NaN</td>\n",
       "      <td>Q</td>\n",
       "      <td>False</td>\n",
       "      <td>False</td>\n",
       "      <td>True</td>\n",
       "      <td>False</td>\n",
       "    </tr>\n",
       "  </tbody>\n",
       "</table>\n",
       "</div>"
      ],
      "text/plain": [
       "   PassengerId  Survived  Pclass  Sex   Age  SibSp  Parch            Ticket  \\\n",
       "0            1       0.0       3    1  22.0      1      0         A/5 21171   \n",
       "1            3       1.0       3    0  26.0      0      0  STON/O2. 3101282   \n",
       "2            4       1.0       1    0  35.0      1      0            113803   \n",
       "3            5       0.0       3    1  35.0      0      0            373450   \n",
       "4            6       0.0       3    1  25.0      0      0            330877   \n",
       "\n",
       "      Fare Cabin Embarked  Title_0  Title_1  Title_2  Title_3  \n",
       "0   7.2500   NaN        S    False    False     True    False  \n",
       "1   7.9250   NaN        S    False     True    False    False  \n",
       "2  53.1000  C123        S    False     True    False    False  \n",
       "3   8.0500   NaN        S    False    False     True    False  \n",
       "4   8.4583   NaN        Q    False    False     True    False  "
      ]
     },
     "execution_count": 54,
     "metadata": {},
     "output_type": "execute_result"
    }
   ],
   "source": [
    "train_df=pd.get_dummies(train_df,columns=[\"Title\"])\n",
    "train_df.head()"
   ]
  },
  {
   "cell_type": "markdown",
   "id": "79c4c425",
   "metadata": {
    "papermill": {
     "duration": 0.053829,
     "end_time": "2024-09-15T22:28:48.580420",
     "exception": false,
     "start_time": "2024-09-15T22:28:48.526591",
     "status": "completed"
    },
    "tags": []
   },
   "source": [
    "<a id=\"23\"></a><br>\n",
    "## Family Size"
   ]
  },
  {
   "cell_type": "code",
   "execution_count": 55,
   "id": "3ae41422",
   "metadata": {
    "execution": {
     "iopub.execute_input": "2024-09-15T22:28:48.690903Z",
     "iopub.status.busy": "2024-09-15T22:28:48.690492Z",
     "iopub.status.idle": "2024-09-15T22:28:48.697501Z",
     "shell.execute_reply": "2024-09-15T22:28:48.696303Z"
    },
    "papermill": {
     "duration": 0.065405,
     "end_time": "2024-09-15T22:28:48.700015",
     "exception": false,
     "start_time": "2024-09-15T22:28:48.634610",
     "status": "completed"
    },
    "tags": []
   },
   "outputs": [],
   "source": [
    "train_df[\"FSize\"]=train_df[\"SibSp\"]+train_df[\"Parch\"]+1\n"
   ]
  },
  {
   "cell_type": "code",
   "execution_count": 56,
   "id": "d01edb8d",
   "metadata": {
    "execution": {
     "iopub.execute_input": "2024-09-15T22:28:48.874648Z",
     "iopub.status.busy": "2024-09-15T22:28:48.874119Z",
     "iopub.status.idle": "2024-09-15T22:28:48.897714Z",
     "shell.execute_reply": "2024-09-15T22:28:48.896213Z"
    },
    "papermill": {
     "duration": 0.146178,
     "end_time": "2024-09-15T22:28:48.900360",
     "exception": false,
     "start_time": "2024-09-15T22:28:48.754182",
     "status": "completed"
    },
    "tags": []
   },
   "outputs": [
    {
     "data": {
      "text/html": [
       "<div>\n",
       "<style scoped>\n",
       "    .dataframe tbody tr th:only-of-type {\n",
       "        vertical-align: middle;\n",
       "    }\n",
       "\n",
       "    .dataframe tbody tr th {\n",
       "        vertical-align: top;\n",
       "    }\n",
       "\n",
       "    .dataframe thead th {\n",
       "        text-align: right;\n",
       "    }\n",
       "</style>\n",
       "<table border=\"1\" class=\"dataframe\">\n",
       "  <thead>\n",
       "    <tr style=\"text-align: right;\">\n",
       "      <th></th>\n",
       "      <th>PassengerId</th>\n",
       "      <th>Survived</th>\n",
       "      <th>Pclass</th>\n",
       "      <th>Sex</th>\n",
       "      <th>Age</th>\n",
       "      <th>SibSp</th>\n",
       "      <th>Parch</th>\n",
       "      <th>Ticket</th>\n",
       "      <th>Fare</th>\n",
       "      <th>Cabin</th>\n",
       "      <th>Embarked</th>\n",
       "      <th>Title_0</th>\n",
       "      <th>Title_1</th>\n",
       "      <th>Title_2</th>\n",
       "      <th>Title_3</th>\n",
       "      <th>FSize</th>\n",
       "    </tr>\n",
       "  </thead>\n",
       "  <tbody>\n",
       "    <tr>\n",
       "      <th>0</th>\n",
       "      <td>1</td>\n",
       "      <td>0.0</td>\n",
       "      <td>3</td>\n",
       "      <td>1</td>\n",
       "      <td>22.0</td>\n",
       "      <td>1</td>\n",
       "      <td>0</td>\n",
       "      <td>A/5 21171</td>\n",
       "      <td>7.2500</td>\n",
       "      <td>NaN</td>\n",
       "      <td>S</td>\n",
       "      <td>False</td>\n",
       "      <td>False</td>\n",
       "      <td>True</td>\n",
       "      <td>False</td>\n",
       "      <td>2</td>\n",
       "    </tr>\n",
       "    <tr>\n",
       "      <th>1</th>\n",
       "      <td>3</td>\n",
       "      <td>1.0</td>\n",
       "      <td>3</td>\n",
       "      <td>0</td>\n",
       "      <td>26.0</td>\n",
       "      <td>0</td>\n",
       "      <td>0</td>\n",
       "      <td>STON/O2. 3101282</td>\n",
       "      <td>7.9250</td>\n",
       "      <td>NaN</td>\n",
       "      <td>S</td>\n",
       "      <td>False</td>\n",
       "      <td>True</td>\n",
       "      <td>False</td>\n",
       "      <td>False</td>\n",
       "      <td>1</td>\n",
       "    </tr>\n",
       "    <tr>\n",
       "      <th>2</th>\n",
       "      <td>4</td>\n",
       "      <td>1.0</td>\n",
       "      <td>1</td>\n",
       "      <td>0</td>\n",
       "      <td>35.0</td>\n",
       "      <td>1</td>\n",
       "      <td>0</td>\n",
       "      <td>113803</td>\n",
       "      <td>53.1000</td>\n",
       "      <td>C123</td>\n",
       "      <td>S</td>\n",
       "      <td>False</td>\n",
       "      <td>True</td>\n",
       "      <td>False</td>\n",
       "      <td>False</td>\n",
       "      <td>2</td>\n",
       "    </tr>\n",
       "    <tr>\n",
       "      <th>3</th>\n",
       "      <td>5</td>\n",
       "      <td>0.0</td>\n",
       "      <td>3</td>\n",
       "      <td>1</td>\n",
       "      <td>35.0</td>\n",
       "      <td>0</td>\n",
       "      <td>0</td>\n",
       "      <td>373450</td>\n",
       "      <td>8.0500</td>\n",
       "      <td>NaN</td>\n",
       "      <td>S</td>\n",
       "      <td>False</td>\n",
       "      <td>False</td>\n",
       "      <td>True</td>\n",
       "      <td>False</td>\n",
       "      <td>1</td>\n",
       "    </tr>\n",
       "    <tr>\n",
       "      <th>4</th>\n",
       "      <td>6</td>\n",
       "      <td>0.0</td>\n",
       "      <td>3</td>\n",
       "      <td>1</td>\n",
       "      <td>25.0</td>\n",
       "      <td>0</td>\n",
       "      <td>0</td>\n",
       "      <td>330877</td>\n",
       "      <td>8.4583</td>\n",
       "      <td>NaN</td>\n",
       "      <td>Q</td>\n",
       "      <td>False</td>\n",
       "      <td>False</td>\n",
       "      <td>True</td>\n",
       "      <td>False</td>\n",
       "      <td>1</td>\n",
       "    </tr>\n",
       "  </tbody>\n",
       "</table>\n",
       "</div>"
      ],
      "text/plain": [
       "   PassengerId  Survived  Pclass  Sex   Age  SibSp  Parch            Ticket  \\\n",
       "0            1       0.0       3    1  22.0      1      0         A/5 21171   \n",
       "1            3       1.0       3    0  26.0      0      0  STON/O2. 3101282   \n",
       "2            4       1.0       1    0  35.0      1      0            113803   \n",
       "3            5       0.0       3    1  35.0      0      0            373450   \n",
       "4            6       0.0       3    1  25.0      0      0            330877   \n",
       "\n",
       "      Fare Cabin Embarked  Title_0  Title_1  Title_2  Title_3  FSize  \n",
       "0   7.2500   NaN        S    False    False     True    False      2  \n",
       "1   7.9250   NaN        S    False     True    False    False      1  \n",
       "2  53.1000  C123        S    False     True    False    False      2  \n",
       "3   8.0500   NaN        S    False    False     True    False      1  \n",
       "4   8.4583   NaN        Q    False    False     True    False      1  "
      ]
     },
     "execution_count": 56,
     "metadata": {},
     "output_type": "execute_result"
    }
   ],
   "source": [
    "train_df.head()"
   ]
  },
  {
   "cell_type": "code",
   "execution_count": 57,
   "id": "5e2b95ac",
   "metadata": {
    "execution": {
     "iopub.execute_input": "2024-09-15T22:28:49.016815Z",
     "iopub.status.busy": "2024-09-15T22:28:49.016418Z",
     "iopub.status.idle": "2024-09-15T22:28:49.955755Z",
     "shell.execute_reply": "2024-09-15T22:28:49.954628Z"
    },
    "papermill": {
     "duration": 1.002522,
     "end_time": "2024-09-15T22:28:49.958409",
     "exception": false,
     "start_time": "2024-09-15T22:28:48.955887",
     "status": "completed"
    },
    "tags": []
   },
   "outputs": [
    {
     "data": {
      "image/png": "[encoded data removed]",
      "text/plain": [
       "<Figure size 500x500 with 1 Axes>"
      ]
     },
     "metadata": {},
     "output_type": "display_data"
    }
   ],
   "source": [
    "g=sns.catplot(x=\"FSize\",y=\"Survived\",data=train_df,kind=\"bar\")\n",
    "g.set_ylabels(\"Survival\")\n",
    "plt.show()"
   ]
  },
  {
   "cell_type": "code",
   "execution_count": 58,
   "id": "5b7c1777",
   "metadata": {
    "execution": {
     "iopub.execute_input": "2024-09-15T22:28:50.077659Z",
     "iopub.status.busy": "2024-09-15T22:28:50.077185Z",
     "iopub.status.idle": "2024-09-15T22:28:50.085425Z",
     "shell.execute_reply": "2024-09-15T22:28:50.084237Z"
    },
    "papermill": {
     "duration": 0.072337,
     "end_time": "2024-09-15T22:28:50.087898",
     "exception": false,
     "start_time": "2024-09-15T22:28:50.015561",
     "status": "completed"
    },
    "tags": []
   },
   "outputs": [],
   "source": [
    "train_df[\"family_size\"]=[1 if i<5 else 0 for i in train_df[\"FSize\"]]"
   ]
  },
  {
   "cell_type": "code",
   "execution_count": 59,
   "id": "2ba0b0f1",
   "metadata": {
    "execution": {
     "iopub.execute_input": "2024-09-15T22:28:50.202654Z",
     "iopub.status.busy": "2024-09-15T22:28:50.202213Z",
     "iopub.status.idle": "2024-09-15T22:28:50.225399Z",
     "shell.execute_reply": "2024-09-15T22:28:50.223988Z"
    },
    "papermill": {
     "duration": 0.083618,
     "end_time": "2024-09-15T22:28:50.228357",
     "exception": false,
     "start_time": "2024-09-15T22:28:50.144739",
     "status": "completed"
    },
    "tags": []
   },
   "outputs": [
    {
     "data": {
      "text/html": [
       "<div>\n",
       "<style scoped>\n",
       "    .dataframe tbody tr th:only-of-type {\n",
       "        vertical-align: middle;\n",
       "    }\n",
       "\n",
       "    .dataframe tbody tr th {\n",
       "        vertical-align: top;\n",
       "    }\n",
       "\n",
       "    .dataframe thead th {\n",
       "        text-align: right;\n",
       "    }\n",
       "</style>\n",
       "<table border=\"1\" class=\"dataframe\">\n",
       "  <thead>\n",
       "    <tr style=\"text-align: right;\">\n",
       "      <th></th>\n",
       "      <th>PassengerId</th>\n",
       "      <th>Survived</th>\n",
       "      <th>Pclass</th>\n",
       "      <th>Sex</th>\n",
       "      <th>Age</th>\n",
       "      <th>SibSp</th>\n",
       "      <th>Parch</th>\n",
       "      <th>Ticket</th>\n",
       "      <th>Fare</th>\n",
       "      <th>Cabin</th>\n",
       "      <th>Embarked</th>\n",
       "      <th>Title_0</th>\n",
       "      <th>Title_1</th>\n",
       "      <th>Title_2</th>\n",
       "      <th>Title_3</th>\n",
       "      <th>FSize</th>\n",
       "      <th>family_size</th>\n",
       "    </tr>\n",
       "  </thead>\n",
       "  <tbody>\n",
       "    <tr>\n",
       "      <th>0</th>\n",
       "      <td>1</td>\n",
       "      <td>0.0</td>\n",
       "      <td>3</td>\n",
       "      <td>1</td>\n",
       "      <td>22.0</td>\n",
       "      <td>1</td>\n",
       "      <td>0</td>\n",
       "      <td>A/5 21171</td>\n",
       "      <td>7.2500</td>\n",
       "      <td>NaN</td>\n",
       "      <td>S</td>\n",
       "      <td>False</td>\n",
       "      <td>False</td>\n",
       "      <td>True</td>\n",
       "      <td>False</td>\n",
       "      <td>2</td>\n",
       "      <td>1</td>\n",
       "    </tr>\n",
       "    <tr>\n",
       "      <th>1</th>\n",
       "      <td>3</td>\n",
       "      <td>1.0</td>\n",
       "      <td>3</td>\n",
       "      <td>0</td>\n",
       "      <td>26.0</td>\n",
       "      <td>0</td>\n",
       "      <td>0</td>\n",
       "      <td>STON/O2. 3101282</td>\n",
       "      <td>7.9250</td>\n",
       "      <td>NaN</td>\n",
       "      <td>S</td>\n",
       "      <td>False</td>\n",
       "      <td>True</td>\n",
       "      <td>False</td>\n",
       "      <td>False</td>\n",
       "      <td>1</td>\n",
       "      <td>1</td>\n",
       "    </tr>\n",
       "    <tr>\n",
       "      <th>2</th>\n",
       "      <td>4</td>\n",
       "      <td>1.0</td>\n",
       "      <td>1</td>\n",
       "      <td>0</td>\n",
       "      <td>35.0</td>\n",
       "      <td>1</td>\n",
       "      <td>0</td>\n",
       "      <td>113803</td>\n",
       "      <td>53.1000</td>\n",
       "      <td>C123</td>\n",
       "      <td>S</td>\n",
       "      <td>False</td>\n",
       "      <td>True</td>\n",
       "      <td>False</td>\n",
       "      <td>False</td>\n",
       "      <td>2</td>\n",
       "      <td>1</td>\n",
       "    </tr>\n",
       "    <tr>\n",
       "      <th>3</th>\n",
       "      <td>5</td>\n",
       "      <td>0.0</td>\n",
       "      <td>3</td>\n",
       "      <td>1</td>\n",
       "      <td>35.0</td>\n",
       "      <td>0</td>\n",
       "      <td>0</td>\n",
       "      <td>373450</td>\n",
       "      <td>8.0500</td>\n",
       "      <td>NaN</td>\n",
       "      <td>S</td>\n",
       "      <td>False</td>\n",
       "      <td>False</td>\n",
       "      <td>True</td>\n",
       "      <td>False</td>\n",
       "      <td>1</td>\n",
       "      <td>1</td>\n",
       "    </tr>\n",
       "    <tr>\n",
       "      <th>4</th>\n",
       "      <td>6</td>\n",
       "      <td>0.0</td>\n",
       "      <td>3</td>\n",
       "      <td>1</td>\n",
       "      <td>25.0</td>\n",
       "      <td>0</td>\n",
       "      <td>0</td>\n",
       "      <td>330877</td>\n",
       "      <td>8.4583</td>\n",
       "      <td>NaN</td>\n",
       "      <td>Q</td>\n",
       "      <td>False</td>\n",
       "      <td>False</td>\n",
       "      <td>True</td>\n",
       "      <td>False</td>\n",
       "      <td>1</td>\n",
       "      <td>1</td>\n",
       "    </tr>\n",
       "  </tbody>\n",
       "</table>\n",
       "</div>"
      ],
      "text/plain": [
       "   PassengerId  Survived  Pclass  Sex   Age  SibSp  Parch            Ticket  \\\n",
       "0            1       0.0       3    1  22.0      1      0         A/5 21171   \n",
       "1            3       1.0       3    0  26.0      0      0  STON/O2. 3101282   \n",
       "2            4       1.0       1    0  35.0      1      0            113803   \n",
       "3            5       0.0       3    1  35.0      0      0            373450   \n",
       "4            6       0.0       3    1  25.0      0      0            330877   \n",
       "\n",
       "      Fare Cabin Embarked  Title_0  Title_1  Title_2  Title_3  FSize  \\\n",
       "0   7.2500   NaN        S    False    False     True    False      2   \n",
       "1   7.9250   NaN        S    False     True    False    False      1   \n",
       "2  53.1000  C123        S    False     True    False    False      2   \n",
       "3   8.0500   NaN        S    False    False     True    False      1   \n",
       "4   8.4583   NaN        Q    False    False     True    False      1   \n",
       "\n",
       "   family_size  \n",
       "0            1  \n",
       "1            1  \n",
       "2            1  \n",
       "3            1  \n",
       "4            1  "
      ]
     },
     "execution_count": 59,
     "metadata": {},
     "output_type": "execute_result"
    }
   ],
   "source": [
    "train_df.head()"
   ]
  },
  {
   "cell_type": "code",
   "execution_count": 60,
   "id": "d32d5765",
   "metadata": {
    "execution": {
     "iopub.execute_input": "2024-09-15T22:28:50.342489Z",
     "iopub.status.busy": "2024-09-15T22:28:50.342080Z",
     "iopub.status.idle": "2024-09-15T22:28:50.557374Z",
     "shell.execute_reply": "2024-09-15T22:28:50.556151Z"
    },
    "papermill": {
     "duration": 0.275567,
     "end_time": "2024-09-15T22:28:50.560027",
     "exception": false,
     "start_time": "2024-09-15T22:28:50.284460",
     "status": "completed"
    },
    "tags": []
   },
   "outputs": [
    {
     "data": {
      "image/png": "[encoded data removed]",
      "text/plain": [
       "<Figure size 640x480 with 1 Axes>"
      ]
     },
     "metadata": {},
     "output_type": "display_data"
    }
   ],
   "source": [
    "sns.countplot(x=\"family_size\",data=train_df)\n",
    "plt.show()"
   ]
  },
  {
   "cell_type": "code",
   "execution_count": 61,
   "id": "35786aa7",
   "metadata": {
    "execution": {
     "iopub.execute_input": "2024-09-15T22:28:50.672723Z",
     "iopub.status.busy": "2024-09-15T22:28:50.672305Z",
     "iopub.status.idle": "2024-09-15T22:28:51.159767Z",
     "shell.execute_reply": "2024-09-15T22:28:51.158570Z"
    },
    "papermill": {
     "duration": 0.546726,
     "end_time": "2024-09-15T22:28:51.162493",
     "exception": false,
     "start_time": "2024-09-15T22:28:50.615767",
     "status": "completed"
    },
    "tags": []
   },
   "outputs": [
    {
     "data": {
      "image/png": "[encoded data removed]",
      "text/plain": [
       "<Figure size 500x500 with 1 Axes>"
      ]
     },
     "metadata": {},
     "output_type": "display_data"
    }
   ],
   "source": [
    "#ailedeki kişi sayısına göre hayatta kalma ilişkisi\n",
    "g=sns.catplot(x=\"family_size\",y=\"Survived\",data=train_df,kind=\"bar\")\n",
    "g.set_ylabels(\"Survival\")\n",
    "plt.show()"
   ]
  },
  {
   "cell_type": "markdown",
   "id": "55b13aca",
   "metadata": {
    "papermill": {
     "duration": 0.05603,
     "end_time": "2024-09-15T22:28:51.274092",
     "exception": false,
     "start_time": "2024-09-15T22:28:51.218062",
     "status": "completed"
    },
    "tags": []
   },
   "source": [
    "Small families have more chance to survive than large families."
   ]
  },
  {
   "cell_type": "code",
   "execution_count": 62,
   "id": "6a9e7114",
   "metadata": {
    "execution": {
     "iopub.execute_input": "2024-09-15T22:28:51.388496Z",
     "iopub.status.busy": "2024-09-15T22:28:51.388055Z",
     "iopub.status.idle": "2024-09-15T22:28:51.415301Z",
     "shell.execute_reply": "2024-09-15T22:28:51.414023Z"
    },
    "papermill": {
     "duration": 0.088069,
     "end_time": "2024-09-15T22:28:51.418041",
     "exception": false,
     "start_time": "2024-09-15T22:28:51.329972",
     "status": "completed"
    },
    "tags": []
   },
   "outputs": [
    {
     "data": {
      "text/html": [
       "<div>\n",
       "<style scoped>\n",
       "    .dataframe tbody tr th:only-of-type {\n",
       "        vertical-align: middle;\n",
       "    }\n",
       "\n",
       "    .dataframe tbody tr th {\n",
       "        vertical-align: top;\n",
       "    }\n",
       "\n",
       "    .dataframe thead th {\n",
       "        text-align: right;\n",
       "    }\n",
       "</style>\n",
       "<table border=\"1\" class=\"dataframe\">\n",
       "  <thead>\n",
       "    <tr style=\"text-align: right;\">\n",
       "      <th></th>\n",
       "      <th>PassengerId</th>\n",
       "      <th>Survived</th>\n",
       "      <th>Pclass</th>\n",
       "      <th>Sex</th>\n",
       "      <th>Age</th>\n",
       "      <th>SibSp</th>\n",
       "      <th>Parch</th>\n",
       "      <th>Ticket</th>\n",
       "      <th>Fare</th>\n",
       "      <th>Cabin</th>\n",
       "      <th>Embarked</th>\n",
       "      <th>Title_0</th>\n",
       "      <th>Title_1</th>\n",
       "      <th>Title_2</th>\n",
       "      <th>Title_3</th>\n",
       "      <th>FSize</th>\n",
       "      <th>family_size_0</th>\n",
       "      <th>family_size_1</th>\n",
       "    </tr>\n",
       "  </thead>\n",
       "  <tbody>\n",
       "    <tr>\n",
       "      <th>0</th>\n",
       "      <td>1</td>\n",
       "      <td>0.0</td>\n",
       "      <td>3</td>\n",
       "      <td>1</td>\n",
       "      <td>22.0</td>\n",
       "      <td>1</td>\n",
       "      <td>0</td>\n",
       "      <td>A/5 21171</td>\n",
       "      <td>7.2500</td>\n",
       "      <td>NaN</td>\n",
       "      <td>S</td>\n",
       "      <td>False</td>\n",
       "      <td>False</td>\n",
       "      <td>True</td>\n",
       "      <td>False</td>\n",
       "      <td>2</td>\n",
       "      <td>False</td>\n",
       "      <td>True</td>\n",
       "    </tr>\n",
       "    <tr>\n",
       "      <th>1</th>\n",
       "      <td>3</td>\n",
       "      <td>1.0</td>\n",
       "      <td>3</td>\n",
       "      <td>0</td>\n",
       "      <td>26.0</td>\n",
       "      <td>0</td>\n",
       "      <td>0</td>\n",
       "      <td>STON/O2. 3101282</td>\n",
       "      <td>7.9250</td>\n",
       "      <td>NaN</td>\n",
       "      <td>S</td>\n",
       "      <td>False</td>\n",
       "      <td>True</td>\n",
       "      <td>False</td>\n",
       "      <td>False</td>\n",
       "      <td>1</td>\n",
       "      <td>False</td>\n",
       "      <td>True</td>\n",
       "    </tr>\n",
       "    <tr>\n",
       "      <th>2</th>\n",
       "      <td>4</td>\n",
       "      <td>1.0</td>\n",
       "      <td>1</td>\n",
       "      <td>0</td>\n",
       "      <td>35.0</td>\n",
       "      <td>1</td>\n",
       "      <td>0</td>\n",
       "      <td>113803</td>\n",
       "      <td>53.1000</td>\n",
       "      <td>C123</td>\n",
       "      <td>S</td>\n",
       "      <td>False</td>\n",
       "      <td>True</td>\n",
       "      <td>False</td>\n",
       "      <td>False</td>\n",
       "      <td>2</td>\n",
       "      <td>False</td>\n",
       "      <td>True</td>\n",
       "    </tr>\n",
       "    <tr>\n",
       "      <th>3</th>\n",
       "      <td>5</td>\n",
       "      <td>0.0</td>\n",
       "      <td>3</td>\n",
       "      <td>1</td>\n",
       "      <td>35.0</td>\n",
       "      <td>0</td>\n",
       "      <td>0</td>\n",
       "      <td>373450</td>\n",
       "      <td>8.0500</td>\n",
       "      <td>NaN</td>\n",
       "      <td>S</td>\n",
       "      <td>False</td>\n",
       "      <td>False</td>\n",
       "      <td>True</td>\n",
       "      <td>False</td>\n",
       "      <td>1</td>\n",
       "      <td>False</td>\n",
       "      <td>True</td>\n",
       "    </tr>\n",
       "    <tr>\n",
       "      <th>4</th>\n",
       "      <td>6</td>\n",
       "      <td>0.0</td>\n",
       "      <td>3</td>\n",
       "      <td>1</td>\n",
       "      <td>25.0</td>\n",
       "      <td>0</td>\n",
       "      <td>0</td>\n",
       "      <td>330877</td>\n",
       "      <td>8.4583</td>\n",
       "      <td>NaN</td>\n",
       "      <td>Q</td>\n",
       "      <td>False</td>\n",
       "      <td>False</td>\n",
       "      <td>True</td>\n",
       "      <td>False</td>\n",
       "      <td>1</td>\n",
       "      <td>False</td>\n",
       "      <td>True</td>\n",
       "    </tr>\n",
       "  </tbody>\n",
       "</table>\n",
       "</div>"
      ],
      "text/plain": [
       "   PassengerId  Survived  Pclass  Sex   Age  SibSp  Parch            Ticket  \\\n",
       "0            1       0.0       3    1  22.0      1      0         A/5 21171   \n",
       "1            3       1.0       3    0  26.0      0      0  STON/O2. 3101282   \n",
       "2            4       1.0       1    0  35.0      1      0            113803   \n",
       "3            5       0.0       3    1  35.0      0      0            373450   \n",
       "4            6       0.0       3    1  25.0      0      0            330877   \n",
       "\n",
       "      Fare Cabin Embarked  Title_0  Title_1  Title_2  Title_3  FSize  \\\n",
       "0   7.2500   NaN        S    False    False     True    False      2   \n",
       "1   7.9250   NaN        S    False     True    False    False      1   \n",
       "2  53.1000  C123        S    False     True    False    False      2   \n",
       "3   8.0500   NaN        S    False    False     True    False      1   \n",
       "4   8.4583   NaN        Q    False    False     True    False      1   \n",
       "\n",
       "   family_size_0  family_size_1  \n",
       "0          False           True  \n",
       "1          False           True  \n",
       "2          False           True  \n",
       "3          False           True  \n",
       "4          False           True  "
      ]
     },
     "execution_count": 62,
     "metadata": {},
     "output_type": "execute_result"
    }
   ],
   "source": [
    "train_df=pd.get_dummies(train_df,columns=[\"family_size\"])\n",
    "train_df.head()"
   ]
  },
  {
   "cell_type": "markdown",
   "id": "b89b5350",
   "metadata": {
    "papermill": {
     "duration": 0.055246,
     "end_time": "2024-09-15T22:28:51.528846",
     "exception": false,
     "start_time": "2024-09-15T22:28:51.473600",
     "status": "completed"
    },
    "tags": []
   },
   "source": [
    "<a id=\"24\"></a><br>\n",
    "## Embarked"
   ]
  },
  {
   "cell_type": "code",
   "execution_count": 63,
   "id": "4f922779",
   "metadata": {
    "execution": {
     "iopub.execute_input": "2024-09-15T22:28:51.641980Z",
     "iopub.status.busy": "2024-09-15T22:28:51.641565Z",
     "iopub.status.idle": "2024-09-15T22:28:51.650069Z",
     "shell.execute_reply": "2024-09-15T22:28:51.648900Z"
    },
    "papermill": {
     "duration": 0.068011,
     "end_time": "2024-09-15T22:28:51.652585",
     "exception": false,
     "start_time": "2024-09-15T22:28:51.584574",
     "status": "completed"
    },
    "tags": []
   },
   "outputs": [
    {
     "data": {
      "text/plain": [
       "0    S\n",
       "1    S\n",
       "2    S\n",
       "3    S\n",
       "4    Q\n",
       "Name: Embarked, dtype: object"
      ]
     },
     "execution_count": 63,
     "metadata": {},
     "output_type": "execute_result"
    }
   ],
   "source": [
    "train_df[\"Embarked\"].head()"
   ]
  },
  {
   "cell_type": "code",
   "execution_count": 64,
   "id": "bd2f8232",
   "metadata": {
    "execution": {
     "iopub.execute_input": "2024-09-15T22:28:51.767401Z",
     "iopub.status.busy": "2024-09-15T22:28:51.766974Z",
     "iopub.status.idle": "2024-09-15T22:28:51.970710Z",
     "shell.execute_reply": "2024-09-15T22:28:51.969334Z"
    },
    "papermill": {
     "duration": 0.264165,
     "end_time": "2024-09-15T22:28:51.973520",
     "exception": false,
     "start_time": "2024-09-15T22:28:51.709355",
     "status": "completed"
    },
    "tags": []
   },
   "outputs": [
    {
     "data": {
      "image/png": "[encoded data removed]",
      "text/plain": [
       "<Figure size 640x480 with 1 Axes>"
      ]
     },
     "metadata": {},
     "output_type": "display_data"
    }
   ],
   "source": [
    "sns.countplot(x=\"Embarked\",data=train_df)\n",
    "plt.show()"
   ]
  },
  {
   "cell_type": "code",
   "execution_count": 65,
   "id": "7d7ab343",
   "metadata": {
    "execution": {
     "iopub.execute_input": "2024-09-15T22:28:52.091115Z",
     "iopub.status.busy": "2024-09-15T22:28:52.090689Z",
     "iopub.status.idle": "2024-09-15T22:28:52.117960Z",
     "shell.execute_reply": "2024-09-15T22:28:52.116875Z"
    },
    "papermill": {
     "duration": 0.088483,
     "end_time": "2024-09-15T22:28:52.120635",
     "exception": false,
     "start_time": "2024-09-15T22:28:52.032152",
     "status": "completed"
    },
    "tags": []
   },
   "outputs": [
    {
     "data": {
      "text/html": [
       "<div>\n",
       "<style scoped>\n",
       "    .dataframe tbody tr th:only-of-type {\n",
       "        vertical-align: middle;\n",
       "    }\n",
       "\n",
       "    .dataframe tbody tr th {\n",
       "        vertical-align: top;\n",
       "    }\n",
       "\n",
       "    .dataframe thead th {\n",
       "        text-align: right;\n",
       "    }\n",
       "</style>\n",
       "<table border=\"1\" class=\"dataframe\">\n",
       "  <thead>\n",
       "    <tr style=\"text-align: right;\">\n",
       "      <th></th>\n",
       "      <th>PassengerId</th>\n",
       "      <th>Survived</th>\n",
       "      <th>Pclass</th>\n",
       "      <th>Sex</th>\n",
       "      <th>Age</th>\n",
       "      <th>SibSp</th>\n",
       "      <th>Parch</th>\n",
       "      <th>Ticket</th>\n",
       "      <th>Fare</th>\n",
       "      <th>Cabin</th>\n",
       "      <th>Title_0</th>\n",
       "      <th>Title_1</th>\n",
       "      <th>Title_2</th>\n",
       "      <th>Title_3</th>\n",
       "      <th>FSize</th>\n",
       "      <th>family_size_0</th>\n",
       "      <th>family_size_1</th>\n",
       "      <th>Embarked_C</th>\n",
       "      <th>Embarked_Q</th>\n",
       "      <th>Embarked_S</th>\n",
       "    </tr>\n",
       "  </thead>\n",
       "  <tbody>\n",
       "    <tr>\n",
       "      <th>0</th>\n",
       "      <td>1</td>\n",
       "      <td>0.0</td>\n",
       "      <td>3</td>\n",
       "      <td>1</td>\n",
       "      <td>22.0</td>\n",
       "      <td>1</td>\n",
       "      <td>0</td>\n",
       "      <td>A/5 21171</td>\n",
       "      <td>7.2500</td>\n",
       "      <td>NaN</td>\n",
       "      <td>False</td>\n",
       "      <td>False</td>\n",
       "      <td>True</td>\n",
       "      <td>False</td>\n",
       "      <td>2</td>\n",
       "      <td>False</td>\n",
       "      <td>True</td>\n",
       "      <td>False</td>\n",
       "      <td>False</td>\n",
       "      <td>True</td>\n",
       "    </tr>\n",
       "    <tr>\n",
       "      <th>1</th>\n",
       "      <td>3</td>\n",
       "      <td>1.0</td>\n",
       "      <td>3</td>\n",
       "      <td>0</td>\n",
       "      <td>26.0</td>\n",
       "      <td>0</td>\n",
       "      <td>0</td>\n",
       "      <td>STON/O2. 3101282</td>\n",
       "      <td>7.9250</td>\n",
       "      <td>NaN</td>\n",
       "      <td>False</td>\n",
       "      <td>True</td>\n",
       "      <td>False</td>\n",
       "      <td>False</td>\n",
       "      <td>1</td>\n",
       "      <td>False</td>\n",
       "      <td>True</td>\n",
       "      <td>False</td>\n",
       "      <td>False</td>\n",
       "      <td>True</td>\n",
       "    </tr>\n",
       "    <tr>\n",
       "      <th>2</th>\n",
       "      <td>4</td>\n",
       "      <td>1.0</td>\n",
       "      <td>1</td>\n",
       "      <td>0</td>\n",
       "      <td>35.0</td>\n",
       "      <td>1</td>\n",
       "      <td>0</td>\n",
       "      <td>113803</td>\n",
       "      <td>53.1000</td>\n",
       "      <td>C123</td>\n",
       "      <td>False</td>\n",
       "      <td>True</td>\n",
       "      <td>False</td>\n",
       "      <td>False</td>\n",
       "      <td>2</td>\n",
       "      <td>False</td>\n",
       "      <td>True</td>\n",
       "      <td>False</td>\n",
       "      <td>False</td>\n",
       "      <td>True</td>\n",
       "    </tr>\n",
       "    <tr>\n",
       "      <th>3</th>\n",
       "      <td>5</td>\n",
       "      <td>0.0</td>\n",
       "      <td>3</td>\n",
       "      <td>1</td>\n",
       "      <td>35.0</td>\n",
       "      <td>0</td>\n",
       "      <td>0</td>\n",
       "      <td>373450</td>\n",
       "      <td>8.0500</td>\n",
       "      <td>NaN</td>\n",
       "      <td>False</td>\n",
       "      <td>False</td>\n",
       "      <td>True</td>\n",
       "      <td>False</td>\n",
       "      <td>1</td>\n",
       "      <td>False</td>\n",
       "      <td>True</td>\n",
       "      <td>False</td>\n",
       "      <td>False</td>\n",
       "      <td>True</td>\n",
       "    </tr>\n",
       "    <tr>\n",
       "      <th>4</th>\n",
       "      <td>6</td>\n",
       "      <td>0.0</td>\n",
       "      <td>3</td>\n",
       "      <td>1</td>\n",
       "      <td>25.0</td>\n",
       "      <td>0</td>\n",
       "      <td>0</td>\n",
       "      <td>330877</td>\n",
       "      <td>8.4583</td>\n",
       "      <td>NaN</td>\n",
       "      <td>False</td>\n",
       "      <td>False</td>\n",
       "      <td>True</td>\n",
       "      <td>False</td>\n",
       "      <td>1</td>\n",
       "      <td>False</td>\n",
       "      <td>True</td>\n",
       "      <td>False</td>\n",
       "      <td>True</td>\n",
       "      <td>False</td>\n",
       "    </tr>\n",
       "  </tbody>\n",
       "</table>\n",
       "</div>"
      ],
      "text/plain": [
       "   PassengerId  Survived  Pclass  Sex   Age  SibSp  Parch            Ticket  \\\n",
       "0            1       0.0       3    1  22.0      1      0         A/5 21171   \n",
       "1            3       1.0       3    0  26.0      0      0  STON/O2. 3101282   \n",
       "2            4       1.0       1    0  35.0      1      0            113803   \n",
       "3            5       0.0       3    1  35.0      0      0            373450   \n",
       "4            6       0.0       3    1  25.0      0      0            330877   \n",
       "\n",
       "      Fare Cabin  Title_0  Title_1  Title_2  Title_3  FSize  family_size_0  \\\n",
       "0   7.2500   NaN    False    False     True    False      2          False   \n",
       "1   7.9250   NaN    False     True    False    False      1          False   \n",
       "2  53.1000  C123    False     True    False    False      2          False   \n",
       "3   8.0500   NaN    False    False     True    False      1          False   \n",
       "4   8.4583   NaN    False    False     True    False      1          False   \n",
       "\n",
       "   family_size_1  Embarked_C  Embarked_Q  Embarked_S  \n",
       "0           True       False       False        True  \n",
       "1           True       False       False        True  \n",
       "2           True       False       False        True  \n",
       "3           True       False       False        True  \n",
       "4           True       False        True       False  "
      ]
     },
     "execution_count": 65,
     "metadata": {},
     "output_type": "execute_result"
    }
   ],
   "source": [
    "train_df=pd.get_dummies(train_df,columns=[\"Embarked\"])\n",
    "train_df.head()"
   ]
  },
  {
   "cell_type": "markdown",
   "id": "f166c6e9",
   "metadata": {
    "papermill": {
     "duration": 0.057272,
     "end_time": "2024-09-15T22:28:52.236982",
     "exception": false,
     "start_time": "2024-09-15T22:28:52.179710",
     "status": "completed"
    },
    "tags": []
   },
   "source": [
    "<a id=\"25\"></a><br>\n",
    "## Ticket"
   ]
  },
  {
   "cell_type": "code",
   "execution_count": 66,
   "id": "46e69d32",
   "metadata": {
    "execution": {
     "iopub.execute_input": "2024-09-15T22:28:52.353374Z",
     "iopub.status.busy": "2024-09-15T22:28:52.352948Z",
     "iopub.status.idle": "2024-09-15T22:28:52.361556Z",
     "shell.execute_reply": "2024-09-15T22:28:52.360450Z"
    },
    "papermill": {
     "duration": 0.069422,
     "end_time": "2024-09-15T22:28:52.364045",
     "exception": false,
     "start_time": "2024-09-15T22:28:52.294623",
     "status": "completed"
    },
    "tags": []
   },
   "outputs": [
    {
     "data": {
      "text/plain": [
       "0            A/5 21171\n",
       "1     STON/O2. 3101282\n",
       "2               113803\n",
       "3               373450\n",
       "4               330877\n",
       "5                17463\n",
       "6               349909\n",
       "7               347742\n",
       "8               237736\n",
       "9              PP 9549\n",
       "10              113783\n",
       "11           A/5. 2151\n",
       "12              347082\n",
       "13              350406\n",
       "14              248706\n",
       "15              382652\n",
       "16              244373\n",
       "17              345763\n",
       "18                2649\n",
       "19              239865\n",
       "Name: Ticket, dtype: object"
      ]
     },
     "execution_count": 66,
     "metadata": {},
     "output_type": "execute_result"
    }
   ],
   "source": [
    "train_df[\"Ticket\"].head(20)"
   ]
  },
  {
   "cell_type": "code",
   "execution_count": 67,
   "id": "759505d4",
   "metadata": {
    "execution": {
     "iopub.execute_input": "2024-09-15T22:28:52.480935Z",
     "iopub.status.busy": "2024-09-15T22:28:52.480519Z",
     "iopub.status.idle": "2024-09-15T22:28:52.489229Z",
     "shell.execute_reply": "2024-09-15T22:28:52.487862Z"
    },
    "papermill": {
     "duration": 0.070307,
     "end_time": "2024-09-15T22:28:52.491661",
     "exception": false,
     "start_time": "2024-09-15T22:28:52.421354",
     "status": "completed"
    },
    "tags": []
   },
   "outputs": [],
   "source": [
    "tickets=[]\n",
    "for i in list(train_df.Ticket):\n",
    "    if not i.isdigit():\n",
    "        tickets.append(i.replace(\".\",\"\").replace(\"/\",\"\").strip().split(\" \")[0])\n",
    "    else:\n",
    "        tickets.append(\"x\")\n",
    "train_df[\"Ticket\"]=tickets        "
   ]
  },
  {
   "cell_type": "code",
   "execution_count": 68,
   "id": "c830f591",
   "metadata": {
    "execution": {
     "iopub.execute_input": "2024-09-15T22:28:52.607002Z",
     "iopub.status.busy": "2024-09-15T22:28:52.606588Z",
     "iopub.status.idle": "2024-09-15T22:28:52.615208Z",
     "shell.execute_reply": "2024-09-15T22:28:52.614037Z"
    },
    "papermill": {
     "duration": 0.069177,
     "end_time": "2024-09-15T22:28:52.617646",
     "exception": false,
     "start_time": "2024-09-15T22:28:52.548469",
     "status": "completed"
    },
    "tags": []
   },
   "outputs": [
    {
     "data": {
      "text/plain": [
       "0        A5\n",
       "1    STONO2\n",
       "2         x\n",
       "3         x\n",
       "4         x\n",
       "Name: Ticket, dtype: object"
      ]
     },
     "execution_count": 68,
     "metadata": {},
     "output_type": "execute_result"
    }
   ],
   "source": [
    "train_df[\"Ticket\"].head()"
   ]
  },
  {
   "cell_type": "code",
   "execution_count": 69,
   "id": "ccfdea75",
   "metadata": {
    "execution": {
     "iopub.execute_input": "2024-09-15T22:28:52.735425Z",
     "iopub.status.busy": "2024-09-15T22:28:52.735011Z",
     "iopub.status.idle": "2024-09-15T22:28:52.766297Z",
     "shell.execute_reply": "2024-09-15T22:28:52.765204Z"
    },
    "papermill": {
     "duration": 0.094396,
     "end_time": "2024-09-15T22:28:52.769007",
     "exception": false,
     "start_time": "2024-09-15T22:28:52.674611",
     "status": "completed"
    },
    "tags": []
   },
   "outputs": [
    {
     "data": {
      "text/html": [
       "<div>\n",
       "<style scoped>\n",
       "    .dataframe tbody tr th:only-of-type {\n",
       "        vertical-align: middle;\n",
       "    }\n",
       "\n",
       "    .dataframe tbody tr th {\n",
       "        vertical-align: top;\n",
       "    }\n",
       "\n",
       "    .dataframe thead th {\n",
       "        text-align: right;\n",
       "    }\n",
       "</style>\n",
       "<table border=\"1\" class=\"dataframe\">\n",
       "  <thead>\n",
       "    <tr style=\"text-align: right;\">\n",
       "      <th></th>\n",
       "      <th>PassengerId</th>\n",
       "      <th>Survived</th>\n",
       "      <th>Pclass</th>\n",
       "      <th>Sex</th>\n",
       "      <th>Age</th>\n",
       "      <th>SibSp</th>\n",
       "      <th>Parch</th>\n",
       "      <th>Fare</th>\n",
       "      <th>Cabin</th>\n",
       "      <th>Title_0</th>\n",
       "      <th>...</th>\n",
       "      <th>T_SOTONO2</th>\n",
       "      <th>T_SOTONOQ</th>\n",
       "      <th>T_SP</th>\n",
       "      <th>T_STONO</th>\n",
       "      <th>T_STONO2</th>\n",
       "      <th>T_STONOQ</th>\n",
       "      <th>T_SWPP</th>\n",
       "      <th>T_WC</th>\n",
       "      <th>T_WEP</th>\n",
       "      <th>T_x</th>\n",
       "    </tr>\n",
       "  </thead>\n",
       "  <tbody>\n",
       "    <tr>\n",
       "      <th>0</th>\n",
       "      <td>1</td>\n",
       "      <td>0.0</td>\n",
       "      <td>3</td>\n",
       "      <td>1</td>\n",
       "      <td>22.0</td>\n",
       "      <td>1</td>\n",
       "      <td>0</td>\n",
       "      <td>7.2500</td>\n",
       "      <td>NaN</td>\n",
       "      <td>False</td>\n",
       "      <td>...</td>\n",
       "      <td>False</td>\n",
       "      <td>False</td>\n",
       "      <td>False</td>\n",
       "      <td>False</td>\n",
       "      <td>False</td>\n",
       "      <td>False</td>\n",
       "      <td>False</td>\n",
       "      <td>False</td>\n",
       "      <td>False</td>\n",
       "      <td>False</td>\n",
       "    </tr>\n",
       "    <tr>\n",
       "      <th>1</th>\n",
       "      <td>3</td>\n",
       "      <td>1.0</td>\n",
       "      <td>3</td>\n",
       "      <td>0</td>\n",
       "      <td>26.0</td>\n",
       "      <td>0</td>\n",
       "      <td>0</td>\n",
       "      <td>7.9250</td>\n",
       "      <td>NaN</td>\n",
       "      <td>False</td>\n",
       "      <td>...</td>\n",
       "      <td>False</td>\n",
       "      <td>False</td>\n",
       "      <td>False</td>\n",
       "      <td>False</td>\n",
       "      <td>True</td>\n",
       "      <td>False</td>\n",
       "      <td>False</td>\n",
       "      <td>False</td>\n",
       "      <td>False</td>\n",
       "      <td>False</td>\n",
       "    </tr>\n",
       "    <tr>\n",
       "      <th>2</th>\n",
       "      <td>4</td>\n",
       "      <td>1.0</td>\n",
       "      <td>1</td>\n",
       "      <td>0</td>\n",
       "      <td>35.0</td>\n",
       "      <td>1</td>\n",
       "      <td>0</td>\n",
       "      <td>53.1000</td>\n",
       "      <td>C123</td>\n",
       "      <td>False</td>\n",
       "      <td>...</td>\n",
       "      <td>False</td>\n",
       "      <td>False</td>\n",
       "      <td>False</td>\n",
       "      <td>False</td>\n",
       "      <td>False</td>\n",
       "      <td>False</td>\n",
       "      <td>False</td>\n",
       "      <td>False</td>\n",
       "      <td>False</td>\n",
       "      <td>True</td>\n",
       "    </tr>\n",
       "    <tr>\n",
       "      <th>3</th>\n",
       "      <td>5</td>\n",
       "      <td>0.0</td>\n",
       "      <td>3</td>\n",
       "      <td>1</td>\n",
       "      <td>35.0</td>\n",
       "      <td>0</td>\n",
       "      <td>0</td>\n",
       "      <td>8.0500</td>\n",
       "      <td>NaN</td>\n",
       "      <td>False</td>\n",
       "      <td>...</td>\n",
       "      <td>False</td>\n",
       "      <td>False</td>\n",
       "      <td>False</td>\n",
       "      <td>False</td>\n",
       "      <td>False</td>\n",
       "      <td>False</td>\n",
       "      <td>False</td>\n",
       "      <td>False</td>\n",
       "      <td>False</td>\n",
       "      <td>True</td>\n",
       "    </tr>\n",
       "    <tr>\n",
       "      <th>4</th>\n",
       "      <td>6</td>\n",
       "      <td>0.0</td>\n",
       "      <td>3</td>\n",
       "      <td>1</td>\n",
       "      <td>25.0</td>\n",
       "      <td>0</td>\n",
       "      <td>0</td>\n",
       "      <td>8.4583</td>\n",
       "      <td>NaN</td>\n",
       "      <td>False</td>\n",
       "      <td>...</td>\n",
       "      <td>False</td>\n",
       "      <td>False</td>\n",
       "      <td>False</td>\n",
       "      <td>False</td>\n",
       "      <td>False</td>\n",
       "      <td>False</td>\n",
       "      <td>False</td>\n",
       "      <td>False</td>\n",
       "      <td>False</td>\n",
       "      <td>True</td>\n",
       "    </tr>\n",
       "  </tbody>\n",
       "</table>\n",
       "<p>5 rows × 56 columns</p>\n",
       "</div>"
      ],
      "text/plain": [
       "   PassengerId  Survived  Pclass  Sex   Age  SibSp  Parch     Fare Cabin  \\\n",
       "0            1       0.0       3    1  22.0      1      0   7.2500   NaN   \n",
       "1            3       1.0       3    0  26.0      0      0   7.9250   NaN   \n",
       "2            4       1.0       1    0  35.0      1      0  53.1000  C123   \n",
       "3            5       0.0       3    1  35.0      0      0   8.0500   NaN   \n",
       "4            6       0.0       3    1  25.0      0      0   8.4583   NaN   \n",
       "\n",
       "   Title_0  ...  T_SOTONO2  T_SOTONOQ   T_SP  T_STONO  T_STONO2  T_STONOQ  \\\n",
       "0    False  ...      False      False  False    False     False     False   \n",
       "1    False  ...      False      False  False    False      True     False   \n",
       "2    False  ...      False      False  False    False     False     False   \n",
       "3    False  ...      False      False  False    False     False     False   \n",
       "4    False  ...      False      False  False    False     False     False   \n",
       "\n",
       "   T_SWPP   T_WC  T_WEP    T_x  \n",
       "0   False  False  False  False  \n",
       "1   False  False  False  False  \n",
       "2   False  False  False   True  \n",
       "3   False  False  False   True  \n",
       "4   False  False  False   True  \n",
       "\n",
       "[5 rows x 56 columns]"
      ]
     },
     "execution_count": 69,
     "metadata": {},
     "output_type": "execute_result"
    }
   ],
   "source": [
    "train_df=pd.get_dummies(train_df,columns=[\"Ticket\"],prefix=\"T\")\n",
    "train_df.head()"
   ]
  },
  {
   "cell_type": "markdown",
   "id": "4e75dac2",
   "metadata": {
    "papermill": {
     "duration": 0.058996,
     "end_time": "2024-09-15T22:28:52.886041",
     "exception": false,
     "start_time": "2024-09-15T22:28:52.827045",
     "status": "completed"
    },
    "tags": []
   },
   "source": [
    "<a id=\"26\"></a><br>\n",
    "## Pclass"
   ]
  },
  {
   "cell_type": "code",
   "execution_count": 70,
   "id": "7791f6cd",
   "metadata": {
    "execution": {
     "iopub.execute_input": "2024-09-15T22:28:53.005398Z",
     "iopub.status.busy": "2024-09-15T22:28:53.004952Z",
     "iopub.status.idle": "2024-09-15T22:28:53.226932Z",
     "shell.execute_reply": "2024-09-15T22:28:53.225495Z"
    },
    "papermill": {
     "duration": 0.285871,
     "end_time": "2024-09-15T22:28:53.229953",
     "exception": false,
     "start_time": "2024-09-15T22:28:52.944082",
     "status": "completed"
    },
    "tags": []
   },
   "outputs": [
    {
     "data": {
      "image/png": "[encoded data removed]",
      "text/plain": [
       "<Figure size 640x480 with 1 Axes>"
      ]
     },
     "metadata": {},
     "output_type": "display_data"
    }
   ],
   "source": [
    "sns.countplot(x=\"Pclass\",data=train_df)\n",
    "plt.show()"
   ]
  },
  {
   "cell_type": "code",
   "execution_count": 71,
   "id": "4b637476",
   "metadata": {
    "execution": {
     "iopub.execute_input": "2024-09-15T22:28:53.347907Z",
     "iopub.status.busy": "2024-09-15T22:28:53.347527Z",
     "iopub.status.idle": "2024-09-15T22:28:53.379455Z",
     "shell.execute_reply": "2024-09-15T22:28:53.378188Z"
    },
    "papermill": {
     "duration": 0.094291,
     "end_time": "2024-09-15T22:28:53.382300",
     "exception": false,
     "start_time": "2024-09-15T22:28:53.288009",
     "status": "completed"
    },
    "tags": []
   },
   "outputs": [
    {
     "data": {
      "text/html": [
       "<div>\n",
       "<style scoped>\n",
       "    .dataframe tbody tr th:only-of-type {\n",
       "        vertical-align: middle;\n",
       "    }\n",
       "\n",
       "    .dataframe tbody tr th {\n",
       "        vertical-align: top;\n",
       "    }\n",
       "\n",
       "    .dataframe thead th {\n",
       "        text-align: right;\n",
       "    }\n",
       "</style>\n",
       "<table border=\"1\" class=\"dataframe\">\n",
       "  <thead>\n",
       "    <tr style=\"text-align: right;\">\n",
       "      <th></th>\n",
       "      <th>PassengerId</th>\n",
       "      <th>Survived</th>\n",
       "      <th>Sex</th>\n",
       "      <th>Age</th>\n",
       "      <th>SibSp</th>\n",
       "      <th>Parch</th>\n",
       "      <th>Fare</th>\n",
       "      <th>Cabin</th>\n",
       "      <th>Title_0</th>\n",
       "      <th>Title_1</th>\n",
       "      <th>...</th>\n",
       "      <th>T_STONO</th>\n",
       "      <th>T_STONO2</th>\n",
       "      <th>T_STONOQ</th>\n",
       "      <th>T_SWPP</th>\n",
       "      <th>T_WC</th>\n",
       "      <th>T_WEP</th>\n",
       "      <th>T_x</th>\n",
       "      <th>Pclass_1</th>\n",
       "      <th>Pclass_2</th>\n",
       "      <th>Pclass_3</th>\n",
       "    </tr>\n",
       "  </thead>\n",
       "  <tbody>\n",
       "    <tr>\n",
       "      <th>0</th>\n",
       "      <td>1</td>\n",
       "      <td>0.0</td>\n",
       "      <td>1</td>\n",
       "      <td>22.0</td>\n",
       "      <td>1</td>\n",
       "      <td>0</td>\n",
       "      <td>7.2500</td>\n",
       "      <td>NaN</td>\n",
       "      <td>False</td>\n",
       "      <td>False</td>\n",
       "      <td>...</td>\n",
       "      <td>False</td>\n",
       "      <td>False</td>\n",
       "      <td>False</td>\n",
       "      <td>False</td>\n",
       "      <td>False</td>\n",
       "      <td>False</td>\n",
       "      <td>False</td>\n",
       "      <td>False</td>\n",
       "      <td>False</td>\n",
       "      <td>True</td>\n",
       "    </tr>\n",
       "    <tr>\n",
       "      <th>1</th>\n",
       "      <td>3</td>\n",
       "      <td>1.0</td>\n",
       "      <td>0</td>\n",
       "      <td>26.0</td>\n",
       "      <td>0</td>\n",
       "      <td>0</td>\n",
       "      <td>7.9250</td>\n",
       "      <td>NaN</td>\n",
       "      <td>False</td>\n",
       "      <td>True</td>\n",
       "      <td>...</td>\n",
       "      <td>False</td>\n",
       "      <td>True</td>\n",
       "      <td>False</td>\n",
       "      <td>False</td>\n",
       "      <td>False</td>\n",
       "      <td>False</td>\n",
       "      <td>False</td>\n",
       "      <td>False</td>\n",
       "      <td>False</td>\n",
       "      <td>True</td>\n",
       "    </tr>\n",
       "    <tr>\n",
       "      <th>2</th>\n",
       "      <td>4</td>\n",
       "      <td>1.0</td>\n",
       "      <td>0</td>\n",
       "      <td>35.0</td>\n",
       "      <td>1</td>\n",
       "      <td>0</td>\n",
       "      <td>53.1000</td>\n",
       "      <td>C123</td>\n",
       "      <td>False</td>\n",
       "      <td>True</td>\n",
       "      <td>...</td>\n",
       "      <td>False</td>\n",
       "      <td>False</td>\n",
       "      <td>False</td>\n",
       "      <td>False</td>\n",
       "      <td>False</td>\n",
       "      <td>False</td>\n",
       "      <td>True</td>\n",
       "      <td>True</td>\n",
       "      <td>False</td>\n",
       "      <td>False</td>\n",
       "    </tr>\n",
       "    <tr>\n",
       "      <th>3</th>\n",
       "      <td>5</td>\n",
       "      <td>0.0</td>\n",
       "      <td>1</td>\n",
       "      <td>35.0</td>\n",
       "      <td>0</td>\n",
       "      <td>0</td>\n",
       "      <td>8.0500</td>\n",
       "      <td>NaN</td>\n",
       "      <td>False</td>\n",
       "      <td>False</td>\n",
       "      <td>...</td>\n",
       "      <td>False</td>\n",
       "      <td>False</td>\n",
       "      <td>False</td>\n",
       "      <td>False</td>\n",
       "      <td>False</td>\n",
       "      <td>False</td>\n",
       "      <td>True</td>\n",
       "      <td>False</td>\n",
       "      <td>False</td>\n",
       "      <td>True</td>\n",
       "    </tr>\n",
       "    <tr>\n",
       "      <th>4</th>\n",
       "      <td>6</td>\n",
       "      <td>0.0</td>\n",
       "      <td>1</td>\n",
       "      <td>25.0</td>\n",
       "      <td>0</td>\n",
       "      <td>0</td>\n",
       "      <td>8.4583</td>\n",
       "      <td>NaN</td>\n",
       "      <td>False</td>\n",
       "      <td>False</td>\n",
       "      <td>...</td>\n",
       "      <td>False</td>\n",
       "      <td>False</td>\n",
       "      <td>False</td>\n",
       "      <td>False</td>\n",
       "      <td>False</td>\n",
       "      <td>False</td>\n",
       "      <td>True</td>\n",
       "      <td>False</td>\n",
       "      <td>False</td>\n",
       "      <td>True</td>\n",
       "    </tr>\n",
       "  </tbody>\n",
       "</table>\n",
       "<p>5 rows × 58 columns</p>\n",
       "</div>"
      ],
      "text/plain": [
       "   PassengerId  Survived  Sex   Age  SibSp  Parch     Fare Cabin  Title_0  \\\n",
       "0            1       0.0    1  22.0      1      0   7.2500   NaN    False   \n",
       "1            3       1.0    0  26.0      0      0   7.9250   NaN    False   \n",
       "2            4       1.0    0  35.0      1      0  53.1000  C123    False   \n",
       "3            5       0.0    1  35.0      0      0   8.0500   NaN    False   \n",
       "4            6       0.0    1  25.0      0      0   8.4583   NaN    False   \n",
       "\n",
       "   Title_1  ...  T_STONO  T_STONO2  T_STONOQ  T_SWPP   T_WC  T_WEP    T_x  \\\n",
       "0    False  ...    False     False     False   False  False  False  False   \n",
       "1     True  ...    False      True     False   False  False  False  False   \n",
       "2     True  ...    False     False     False   False  False  False   True   \n",
       "3    False  ...    False     False     False   False  False  False   True   \n",
       "4    False  ...    False     False     False   False  False  False   True   \n",
       "\n",
       "   Pclass_1  Pclass_2  Pclass_3  \n",
       "0     False     False      True  \n",
       "1     False     False      True  \n",
       "2      True     False     False  \n",
       "3     False     False      True  \n",
       "4     False     False      True  \n",
       "\n",
       "[5 rows x 58 columns]"
      ]
     },
     "execution_count": 71,
     "metadata": {},
     "output_type": "execute_result"
    }
   ],
   "source": [
    "train_df[\"Pclass\"]=train_df[\"Pclass\"].astype(\"category\")\n",
    "train_df=pd.get_dummies(train_df,columns=[\"Pclass\"])\n",
    "train_df.head()"
   ]
  },
  {
   "cell_type": "markdown",
   "id": "81f4acd5",
   "metadata": {
    "papermill": {
     "duration": 0.058144,
     "end_time": "2024-09-15T22:28:53.499184",
     "exception": false,
     "start_time": "2024-09-15T22:28:53.441040",
     "status": "completed"
    },
    "tags": []
   },
   "source": [
    "<a id=\"27\"></a><br>\n",
    "## Sex"
   ]
  },
  {
   "cell_type": "code",
   "execution_count": 72,
   "id": "484a3989",
   "metadata": {
    "execution": {
     "iopub.execute_input": "2024-09-15T22:28:53.618217Z",
     "iopub.status.busy": "2024-09-15T22:28:53.617846Z",
     "iopub.status.idle": "2024-09-15T22:28:53.649029Z",
     "shell.execute_reply": "2024-09-15T22:28:53.647776Z"
    },
    "papermill": {
     "duration": 0.093383,
     "end_time": "2024-09-15T22:28:53.651639",
     "exception": false,
     "start_time": "2024-09-15T22:28:53.558256",
     "status": "completed"
    },
    "tags": []
   },
   "outputs": [
    {
     "data": {
      "text/html": [
       "<div>\n",
       "<style scoped>\n",
       "    .dataframe tbody tr th:only-of-type {\n",
       "        vertical-align: middle;\n",
       "    }\n",
       "\n",
       "    .dataframe tbody tr th {\n",
       "        vertical-align: top;\n",
       "    }\n",
       "\n",
       "    .dataframe thead th {\n",
       "        text-align: right;\n",
       "    }\n",
       "</style>\n",
       "<table border=\"1\" class=\"dataframe\">\n",
       "  <thead>\n",
       "    <tr style=\"text-align: right;\">\n",
       "      <th></th>\n",
       "      <th>PassengerId</th>\n",
       "      <th>Survived</th>\n",
       "      <th>Age</th>\n",
       "      <th>SibSp</th>\n",
       "      <th>Parch</th>\n",
       "      <th>Fare</th>\n",
       "      <th>Cabin</th>\n",
       "      <th>Title_0</th>\n",
       "      <th>Title_1</th>\n",
       "      <th>Title_2</th>\n",
       "      <th>...</th>\n",
       "      <th>T_STONOQ</th>\n",
       "      <th>T_SWPP</th>\n",
       "      <th>T_WC</th>\n",
       "      <th>T_WEP</th>\n",
       "      <th>T_x</th>\n",
       "      <th>Pclass_1</th>\n",
       "      <th>Pclass_2</th>\n",
       "      <th>Pclass_3</th>\n",
       "      <th>Sex_0</th>\n",
       "      <th>Sex_1</th>\n",
       "    </tr>\n",
       "  </thead>\n",
       "  <tbody>\n",
       "    <tr>\n",
       "      <th>0</th>\n",
       "      <td>1</td>\n",
       "      <td>0.0</td>\n",
       "      <td>22.0</td>\n",
       "      <td>1</td>\n",
       "      <td>0</td>\n",
       "      <td>7.2500</td>\n",
       "      <td>NaN</td>\n",
       "      <td>False</td>\n",
       "      <td>False</td>\n",
       "      <td>True</td>\n",
       "      <td>...</td>\n",
       "      <td>False</td>\n",
       "      <td>False</td>\n",
       "      <td>False</td>\n",
       "      <td>False</td>\n",
       "      <td>False</td>\n",
       "      <td>False</td>\n",
       "      <td>False</td>\n",
       "      <td>True</td>\n",
       "      <td>False</td>\n",
       "      <td>True</td>\n",
       "    </tr>\n",
       "    <tr>\n",
       "      <th>1</th>\n",
       "      <td>3</td>\n",
       "      <td>1.0</td>\n",
       "      <td>26.0</td>\n",
       "      <td>0</td>\n",
       "      <td>0</td>\n",
       "      <td>7.9250</td>\n",
       "      <td>NaN</td>\n",
       "      <td>False</td>\n",
       "      <td>True</td>\n",
       "      <td>False</td>\n",
       "      <td>...</td>\n",
       "      <td>False</td>\n",
       "      <td>False</td>\n",
       "      <td>False</td>\n",
       "      <td>False</td>\n",
       "      <td>False</td>\n",
       "      <td>False</td>\n",
       "      <td>False</td>\n",
       "      <td>True</td>\n",
       "      <td>True</td>\n",
       "      <td>False</td>\n",
       "    </tr>\n",
       "    <tr>\n",
       "      <th>2</th>\n",
       "      <td>4</td>\n",
       "      <td>1.0</td>\n",
       "      <td>35.0</td>\n",
       "      <td>1</td>\n",
       "      <td>0</td>\n",
       "      <td>53.1000</td>\n",
       "      <td>C123</td>\n",
       "      <td>False</td>\n",
       "      <td>True</td>\n",
       "      <td>False</td>\n",
       "      <td>...</td>\n",
       "      <td>False</td>\n",
       "      <td>False</td>\n",
       "      <td>False</td>\n",
       "      <td>False</td>\n",
       "      <td>True</td>\n",
       "      <td>True</td>\n",
       "      <td>False</td>\n",
       "      <td>False</td>\n",
       "      <td>True</td>\n",
       "      <td>False</td>\n",
       "    </tr>\n",
       "    <tr>\n",
       "      <th>3</th>\n",
       "      <td>5</td>\n",
       "      <td>0.0</td>\n",
       "      <td>35.0</td>\n",
       "      <td>0</td>\n",
       "      <td>0</td>\n",
       "      <td>8.0500</td>\n",
       "      <td>NaN</td>\n",
       "      <td>False</td>\n",
       "      <td>False</td>\n",
       "      <td>True</td>\n",
       "      <td>...</td>\n",
       "      <td>False</td>\n",
       "      <td>False</td>\n",
       "      <td>False</td>\n",
       "      <td>False</td>\n",
       "      <td>True</td>\n",
       "      <td>False</td>\n",
       "      <td>False</td>\n",
       "      <td>True</td>\n",
       "      <td>False</td>\n",
       "      <td>True</td>\n",
       "    </tr>\n",
       "    <tr>\n",
       "      <th>4</th>\n",
       "      <td>6</td>\n",
       "      <td>0.0</td>\n",
       "      <td>25.0</td>\n",
       "      <td>0</td>\n",
       "      <td>0</td>\n",
       "      <td>8.4583</td>\n",
       "      <td>NaN</td>\n",
       "      <td>False</td>\n",
       "      <td>False</td>\n",
       "      <td>True</td>\n",
       "      <td>...</td>\n",
       "      <td>False</td>\n",
       "      <td>False</td>\n",
       "      <td>False</td>\n",
       "      <td>False</td>\n",
       "      <td>True</td>\n",
       "      <td>False</td>\n",
       "      <td>False</td>\n",
       "      <td>True</td>\n",
       "      <td>False</td>\n",
       "      <td>True</td>\n",
       "    </tr>\n",
       "  </tbody>\n",
       "</table>\n",
       "<p>5 rows × 59 columns</p>\n",
       "</div>"
      ],
      "text/plain": [
       "   PassengerId  Survived   Age  SibSp  Parch     Fare Cabin  Title_0  Title_1  \\\n",
       "0            1       0.0  22.0      1      0   7.2500   NaN    False    False   \n",
       "1            3       1.0  26.0      0      0   7.9250   NaN    False     True   \n",
       "2            4       1.0  35.0      1      0  53.1000  C123    False     True   \n",
       "3            5       0.0  35.0      0      0   8.0500   NaN    False    False   \n",
       "4            6       0.0  25.0      0      0   8.4583   NaN    False    False   \n",
       "\n",
       "   Title_2  ...  T_STONOQ  T_SWPP   T_WC  T_WEP    T_x  Pclass_1  Pclass_2  \\\n",
       "0     True  ...     False   False  False  False  False     False     False   \n",
       "1    False  ...     False   False  False  False  False     False     False   \n",
       "2    False  ...     False   False  False  False   True      True     False   \n",
       "3     True  ...     False   False  False  False   True     False     False   \n",
       "4     True  ...     False   False  False  False   True     False     False   \n",
       "\n",
       "   Pclass_3  Sex_0  Sex_1  \n",
       "0      True  False   True  \n",
       "1      True   True  False  \n",
       "2     False   True  False  \n",
       "3      True  False   True  \n",
       "4      True  False   True  \n",
       "\n",
       "[5 rows x 59 columns]"
      ]
     },
     "execution_count": 72,
     "metadata": {},
     "output_type": "execute_result"
    }
   ],
   "source": [
    "train_df[\"Sex\"]=train_df[\"Sex\"].astype(\"category\")\n",
    "train_df=pd.get_dummies(train_df,columns=[\"Sex\"])\n",
    "train_df.head()"
   ]
  },
  {
   "cell_type": "markdown",
   "id": "a6dc63b3",
   "metadata": {
    "papermill": {
     "duration": 0.058571,
     "end_time": "2024-09-15T22:28:53.768835",
     "exception": false,
     "start_time": "2024-09-15T22:28:53.710264",
     "status": "completed"
    },
    "tags": []
   },
   "source": [
    "<a id=\"28\"></a><br>\n",
    "## Drop Passenger ID and Cabin"
   ]
  },
  {
   "cell_type": "code",
   "execution_count": 73,
   "id": "51532135",
   "metadata": {
    "execution": {
     "iopub.execute_input": "2024-09-15T22:28:53.888400Z",
     "iopub.status.busy": "2024-09-15T22:28:53.887434Z",
     "iopub.status.idle": "2024-09-15T22:28:53.894135Z",
     "shell.execute_reply": "2024-09-15T22:28:53.893015Z"
    },
    "papermill": {
     "duration": 0.069101,
     "end_time": "2024-09-15T22:28:53.896635",
     "exception": false,
     "start_time": "2024-09-15T22:28:53.827534",
     "status": "completed"
    },
    "tags": []
   },
   "outputs": [],
   "source": [
    "train_df.drop(labels=[\"PassengerId\",\"Cabin\"],axis=1,inplace=True)"
   ]
  },
  {
   "cell_type": "markdown",
   "id": "964f7f53",
   "metadata": {
    "papermill": {
     "duration": 0.06114,
     "end_time": "2024-09-15T22:28:54.017377",
     "exception": false,
     "start_time": "2024-09-15T22:28:53.956237",
     "status": "completed"
    },
    "tags": []
   },
   "source": []
  },
  {
   "cell_type": "code",
   "execution_count": 74,
   "id": "cf3fa80f",
   "metadata": {
    "execution": {
     "iopub.execute_input": "2024-09-15T22:28:54.138014Z",
     "iopub.status.busy": "2024-09-15T22:28:54.137609Z",
     "iopub.status.idle": "2024-09-15T22:28:54.145491Z",
     "shell.execute_reply": "2024-09-15T22:28:54.144204Z"
    },
    "papermill": {
     "duration": 0.071219,
     "end_time": "2024-09-15T22:28:54.147926",
     "exception": false,
     "start_time": "2024-09-15T22:28:54.076707",
     "status": "completed"
    },
    "tags": []
   },
   "outputs": [
    {
     "data": {
      "text/plain": [
       "Index(['Survived', 'Age', 'SibSp', 'Parch', 'Fare', 'Title_0', 'Title_1',\n",
       "       'Title_2', 'Title_3', 'FSize', 'family_size_0', 'family_size_1',\n",
       "       'Embarked_C', 'Embarked_Q', 'Embarked_S', 'T_A', 'T_A4', 'T_A5',\n",
       "       'T_AQ3', 'T_AQ4', 'T_AS', 'T_C', 'T_CA', 'T_CASOTON', 'T_FC', 'T_FCC',\n",
       "       'T_Fa', 'T_LINE', 'T_LP', 'T_PC', 'T_PP', 'T_PPP', 'T_SC', 'T_SCA3',\n",
       "       'T_SCA4', 'T_SCAH', 'T_SCOW', 'T_SCPARIS', 'T_SCParis', 'T_SOC',\n",
       "       'T_SOP', 'T_SOPP', 'T_SOTONO2', 'T_SOTONOQ', 'T_SP', 'T_STONO',\n",
       "       'T_STONO2', 'T_STONOQ', 'T_SWPP', 'T_WC', 'T_WEP', 'T_x', 'Pclass_1',\n",
       "       'Pclass_2', 'Pclass_3', 'Sex_0', 'Sex_1'],\n",
       "      dtype='object')"
      ]
     },
     "execution_count": 74,
     "metadata": {},
     "output_type": "execute_result"
    }
   ],
   "source": [
    "train_df.columns"
   ]
  },
  {
   "cell_type": "markdown",
   "id": "2ef5ae64",
   "metadata": {
    "papermill": {
     "duration": 0.06272,
     "end_time": "2024-09-15T22:28:54.274241",
     "exception": false,
     "start_time": "2024-09-15T22:28:54.211521",
     "status": "completed"
    },
    "tags": []
   },
   "source": [
    "<a id=\"29\"></a><br>\n",
    "# Modeling"
   ]
  },
  {
   "cell_type": "code",
   "execution_count": 75,
   "id": "37aad56a",
   "metadata": {
    "execution": {
     "iopub.execute_input": "2024-09-15T22:28:54.401345Z",
     "iopub.status.busy": "2024-09-15T22:28:54.400809Z",
     "iopub.status.idle": "2024-09-15T22:28:55.045165Z",
     "shell.execute_reply": "2024-09-15T22:28:55.043748Z"
    },
    "papermill": {
     "duration": 0.711792,
     "end_time": "2024-09-15T22:28:55.048417",
     "exception": false,
     "start_time": "2024-09-15T22:28:54.336625",
     "status": "completed"
    },
    "tags": []
   },
   "outputs": [],
   "source": [
    "from sklearn.model_selection import train_test_split, StratifiedKFold ,GridSearchCV\n",
    "from sklearn.linear_model import LogisticRegression\n",
    "from sklearn.svm import SVC\n",
    "from sklearn.ensemble import RandomForestClassifier,VotingClassifier\n",
    "from sklearn.tree import DecisionTreeClassifier\n",
    "from sklearn.neighbors import KNeighborsClassifier\n",
    "from sklearn.metrics import accuracy_score\n"
   ]
  },
  {
   "cell_type": "markdown",
   "id": "3feea4c4",
   "metadata": {
    "papermill": {
     "duration": 0.07238,
     "end_time": "2024-09-15T22:28:55.183505",
     "exception": false,
     "start_time": "2024-09-15T22:28:55.111125",
     "status": "completed"
    },
    "tags": []
   },
   "source": [
    "<a id=\"30\"></a><br>\n",
    "## Train - Test Split"
   ]
  },
  {
   "cell_type": "code",
   "execution_count": 76,
   "id": "84d18338",
   "metadata": {
    "execution": {
     "iopub.execute_input": "2024-09-15T22:28:55.308719Z",
     "iopub.status.busy": "2024-09-15T22:28:55.308190Z",
     "iopub.status.idle": "2024-09-15T22:28:55.315933Z",
     "shell.execute_reply": "2024-09-15T22:28:55.314543Z"
    },
    "papermill": {
     "duration": 0.071246,
     "end_time": "2024-09-15T22:28:55.318629",
     "exception": false,
     "start_time": "2024-09-15T22:28:55.247383",
     "status": "completed"
    },
    "tags": []
   },
   "outputs": [
    {
     "data": {
      "text/plain": [
       "890"
      ]
     },
     "execution_count": 76,
     "metadata": {},
     "output_type": "execute_result"
    }
   ],
   "source": [
    "train_df_len"
   ]
  },
  {
   "cell_type": "code",
   "execution_count": 77,
   "id": "4bebda79",
   "metadata": {
    "execution": {
     "iopub.execute_input": "2024-09-15T22:28:55.446856Z",
     "iopub.status.busy": "2024-09-15T22:28:55.446416Z",
     "iopub.status.idle": "2024-09-15T22:28:55.453761Z",
     "shell.execute_reply": "2024-09-15T22:28:55.452607Z"
    },
    "papermill": {
     "duration": 0.07342,
     "end_time": "2024-09-15T22:28:55.456276",
     "exception": false,
     "start_time": "2024-09-15T22:28:55.382856",
     "status": "completed"
    },
    "tags": []
   },
   "outputs": [],
   "source": [
    "test=train_df[train_df_len:]\n",
    "test.drop(labels=[\"Survived\"],axis=1,inplace=True)"
   ]
  },
  {
   "cell_type": "code",
   "execution_count": 78,
   "id": "46529181",
   "metadata": {
    "execution": {
     "iopub.execute_input": "2024-09-15T22:28:55.578458Z",
     "iopub.status.busy": "2024-09-15T22:28:55.578017Z",
     "iopub.status.idle": "2024-09-15T22:28:55.604073Z",
     "shell.execute_reply": "2024-09-15T22:28:55.602892Z"
    },
    "papermill": {
     "duration": 0.09079,
     "end_time": "2024-09-15T22:28:55.606684",
     "exception": false,
     "start_time": "2024-09-15T22:28:55.515894",
     "status": "completed"
    },
    "tags": []
   },
   "outputs": [
    {
     "data": {
      "text/html": [
       "<div>\n",
       "<style scoped>\n",
       "    .dataframe tbody tr th:only-of-type {\n",
       "        vertical-align: middle;\n",
       "    }\n",
       "\n",
       "    .dataframe tbody tr th {\n",
       "        vertical-align: top;\n",
       "    }\n",
       "\n",
       "    .dataframe thead th {\n",
       "        text-align: right;\n",
       "    }\n",
       "</style>\n",
       "<table border=\"1\" class=\"dataframe\">\n",
       "  <thead>\n",
       "    <tr style=\"text-align: right;\">\n",
       "      <th></th>\n",
       "      <th>Age</th>\n",
       "      <th>SibSp</th>\n",
       "      <th>Parch</th>\n",
       "      <th>Fare</th>\n",
       "      <th>Title_0</th>\n",
       "      <th>Title_1</th>\n",
       "      <th>Title_2</th>\n",
       "      <th>Title_3</th>\n",
       "      <th>FSize</th>\n",
       "      <th>family_size_0</th>\n",
       "      <th>...</th>\n",
       "      <th>T_STONOQ</th>\n",
       "      <th>T_SWPP</th>\n",
       "      <th>T_WC</th>\n",
       "      <th>T_WEP</th>\n",
       "      <th>T_x</th>\n",
       "      <th>Pclass_1</th>\n",
       "      <th>Pclass_2</th>\n",
       "      <th>Pclass_3</th>\n",
       "      <th>Sex_0</th>\n",
       "      <th>Sex_1</th>\n",
       "    </tr>\n",
       "  </thead>\n",
       "  <tbody>\n",
       "    <tr>\n",
       "      <th>890</th>\n",
       "      <td>34.5</td>\n",
       "      <td>0</td>\n",
       "      <td>0</td>\n",
       "      <td>7.8292</td>\n",
       "      <td>False</td>\n",
       "      <td>False</td>\n",
       "      <td>True</td>\n",
       "      <td>False</td>\n",
       "      <td>1</td>\n",
       "      <td>False</td>\n",
       "      <td>...</td>\n",
       "      <td>False</td>\n",
       "      <td>False</td>\n",
       "      <td>False</td>\n",
       "      <td>False</td>\n",
       "      <td>True</td>\n",
       "      <td>False</td>\n",
       "      <td>False</td>\n",
       "      <td>True</td>\n",
       "      <td>False</td>\n",
       "      <td>True</td>\n",
       "    </tr>\n",
       "    <tr>\n",
       "      <th>891</th>\n",
       "      <td>47.0</td>\n",
       "      <td>1</td>\n",
       "      <td>0</td>\n",
       "      <td>7.0000</td>\n",
       "      <td>False</td>\n",
       "      <td>True</td>\n",
       "      <td>False</td>\n",
       "      <td>False</td>\n",
       "      <td>2</td>\n",
       "      <td>False</td>\n",
       "      <td>...</td>\n",
       "      <td>False</td>\n",
       "      <td>False</td>\n",
       "      <td>False</td>\n",
       "      <td>False</td>\n",
       "      <td>True</td>\n",
       "      <td>False</td>\n",
       "      <td>False</td>\n",
       "      <td>True</td>\n",
       "      <td>True</td>\n",
       "      <td>False</td>\n",
       "    </tr>\n",
       "    <tr>\n",
       "      <th>892</th>\n",
       "      <td>62.0</td>\n",
       "      <td>0</td>\n",
       "      <td>0</td>\n",
       "      <td>9.6875</td>\n",
       "      <td>False</td>\n",
       "      <td>False</td>\n",
       "      <td>True</td>\n",
       "      <td>False</td>\n",
       "      <td>1</td>\n",
       "      <td>False</td>\n",
       "      <td>...</td>\n",
       "      <td>False</td>\n",
       "      <td>False</td>\n",
       "      <td>False</td>\n",
       "      <td>False</td>\n",
       "      <td>True</td>\n",
       "      <td>False</td>\n",
       "      <td>True</td>\n",
       "      <td>False</td>\n",
       "      <td>False</td>\n",
       "      <td>True</td>\n",
       "    </tr>\n",
       "    <tr>\n",
       "      <th>893</th>\n",
       "      <td>27.0</td>\n",
       "      <td>0</td>\n",
       "      <td>0</td>\n",
       "      <td>8.6625</td>\n",
       "      <td>False</td>\n",
       "      <td>False</td>\n",
       "      <td>True</td>\n",
       "      <td>False</td>\n",
       "      <td>1</td>\n",
       "      <td>False</td>\n",
       "      <td>...</td>\n",
       "      <td>False</td>\n",
       "      <td>False</td>\n",
       "      <td>False</td>\n",
       "      <td>False</td>\n",
       "      <td>True</td>\n",
       "      <td>False</td>\n",
       "      <td>False</td>\n",
       "      <td>True</td>\n",
       "      <td>False</td>\n",
       "      <td>True</td>\n",
       "    </tr>\n",
       "    <tr>\n",
       "      <th>894</th>\n",
       "      <td>22.0</td>\n",
       "      <td>1</td>\n",
       "      <td>1</td>\n",
       "      <td>12.2875</td>\n",
       "      <td>False</td>\n",
       "      <td>True</td>\n",
       "      <td>False</td>\n",
       "      <td>False</td>\n",
       "      <td>3</td>\n",
       "      <td>False</td>\n",
       "      <td>...</td>\n",
       "      <td>False</td>\n",
       "      <td>False</td>\n",
       "      <td>False</td>\n",
       "      <td>False</td>\n",
       "      <td>True</td>\n",
       "      <td>False</td>\n",
       "      <td>False</td>\n",
       "      <td>True</td>\n",
       "      <td>True</td>\n",
       "      <td>False</td>\n",
       "    </tr>\n",
       "  </tbody>\n",
       "</table>\n",
       "<p>5 rows × 56 columns</p>\n",
       "</div>"
      ],
      "text/plain": [
       "      Age  SibSp  Parch     Fare  Title_0  Title_1  Title_2  Title_3  FSize  \\\n",
       "890  34.5      0      0   7.8292    False    False     True    False      1   \n",
       "891  47.0      1      0   7.0000    False     True    False    False      2   \n",
       "892  62.0      0      0   9.6875    False    False     True    False      1   \n",
       "893  27.0      0      0   8.6625    False    False     True    False      1   \n",
       "894  22.0      1      1  12.2875    False     True    False    False      3   \n",
       "\n",
       "     family_size_0  ...  T_STONOQ  T_SWPP   T_WC  T_WEP   T_x  Pclass_1  \\\n",
       "890          False  ...     False   False  False  False  True     False   \n",
       "891          False  ...     False   False  False  False  True     False   \n",
       "892          False  ...     False   False  False  False  True     False   \n",
       "893          False  ...     False   False  False  False  True     False   \n",
       "894          False  ...     False   False  False  False  True     False   \n",
       "\n",
       "     Pclass_2  Pclass_3  Sex_0  Sex_1  \n",
       "890     False      True  False   True  \n",
       "891     False      True   True  False  \n",
       "892      True     False  False   True  \n",
       "893     False      True  False   True  \n",
       "894     False      True   True  False  \n",
       "\n",
       "[5 rows x 56 columns]"
      ]
     },
     "execution_count": 78,
     "metadata": {},
     "output_type": "execute_result"
    }
   ],
   "source": [
    "test.head()"
   ]
  },
  {
   "cell_type": "code",
   "execution_count": 79,
   "id": "2eb0dec6",
   "metadata": {
    "execution": {
     "iopub.execute_input": "2024-09-15T22:28:55.728132Z",
     "iopub.status.busy": "2024-09-15T22:28:55.727704Z",
     "iopub.status.idle": "2024-09-15T22:28:55.742659Z",
     "shell.execute_reply": "2024-09-15T22:28:55.741225Z"
    },
    "papermill": {
     "duration": 0.078216,
     "end_time": "2024-09-15T22:28:55.745195",
     "exception": false,
     "start_time": "2024-09-15T22:28:55.666979",
     "status": "completed"
    },
    "tags": []
   },
   "outputs": [
    {
     "name": "stdout",
     "output_type": "stream",
     "text": [
      "x_train 596\n",
      "x_test 294\n",
      "y_train 596\n",
      "y_test 294\n",
      "test 418\n"
     ]
    }
   ],
   "source": [
    "train=train_df[:train_df_len]\n",
    "x_train=train.drop(labels=\"Survived\",axis=1)\n",
    "y_train=train[\"Survived\"]\n",
    "x_train,x_test,y_train,y_test=train_test_split(x_train,y_train,test_size=0.33,random_state=42)\n",
    "print(\"x_train\",len(x_train))\n",
    "print(\"x_test\",len(x_test))\n",
    "print(\"y_train\",len(y_train))\n",
    "print(\"y_test\",len(y_test))\n",
    "print(\"test\",len(test))"
   ]
  },
  {
   "cell_type": "markdown",
   "id": "2aa2be9d",
   "metadata": {
    "papermill": {
     "duration": 0.059085,
     "end_time": "2024-09-15T22:28:55.863694",
     "exception": false,
     "start_time": "2024-09-15T22:28:55.804609",
     "status": "completed"
    },
    "tags": []
   },
   "source": [
    "<a id=\"31\"></a><br>\n",
    "## Simple Logistic Regression"
   ]
  },
  {
   "cell_type": "code",
   "execution_count": 80,
   "id": "cc34100c",
   "metadata": {
    "execution": {
     "iopub.execute_input": "2024-09-15T22:28:55.987901Z",
     "iopub.status.busy": "2024-09-15T22:28:55.987501Z",
     "iopub.status.idle": "2024-09-15T22:28:56.067835Z",
     "shell.execute_reply": "2024-09-15T22:28:56.066366Z"
    },
    "papermill": {
     "duration": 0.148579,
     "end_time": "2024-09-15T22:28:56.071809",
     "exception": false,
     "start_time": "2024-09-15T22:28:55.923230",
     "status": "completed"
    },
    "tags": []
   },
   "outputs": [
    {
     "name": "stdout",
     "output_type": "stream",
     "text": [
      "Training Accuracy:% 82.21\n",
      "Testing Accuracy:% 82.65\n"
     ]
    }
   ],
   "source": [
    "logreg=LogisticRegression()\n",
    "logreg.fit(x_train,y_train)\n",
    "acc_log_train=round(logreg.score(x_train,y_train)*100,2)\n",
    "acc_log_test=round(logreg.score(x_test,y_test)*100,2)\n",
    "print(\"Training Accuracy:% {}\".format(acc_log_train))\n",
    "print(\"Testing Accuracy:% {}\".format(acc_log_test))"
   ]
  },
  {
   "cell_type": "markdown",
   "id": "2b81310d",
   "metadata": {
    "papermill": {
     "duration": 0.059688,
     "end_time": "2024-09-15T22:28:56.250749",
     "exception": false,
     "start_time": "2024-09-15T22:28:56.191061",
     "status": "completed"
    },
    "tags": []
   },
   "source": [
    "<a id=\"32\"></a><br>\n",
    "## Hyperparameter Tuning -- Grid Search -- Cross Validation\n",
    "We will compare 5 ML Classifier and evaluate mean accuracy of each of them by stratifier cross validation.\n",
    "* Decision Tree\n",
    "* SVM\n",
    "* Random Forest\n",
    "* KNN\n",
    "* Logistic Regression\n"
   ]
  },
  {
   "cell_type": "code",
   "execution_count": 81,
   "id": "31b7b2ab",
   "metadata": {
    "execution": {
     "iopub.execute_input": "2024-09-15T22:28:56.372156Z",
     "iopub.status.busy": "2024-09-15T22:28:56.371135Z",
     "iopub.status.idle": "2024-09-15T22:28:56.383528Z",
     "shell.execute_reply": "2024-09-15T22:28:56.382056Z"
    },
    "papermill": {
     "duration": 0.076545,
     "end_time": "2024-09-15T22:28:56.386796",
     "exception": false,
     "start_time": "2024-09-15T22:28:56.310251",
     "status": "completed"
    },
    "tags": []
   },
   "outputs": [],
   "source": [
    "random_state = 42\n",
    "classifier = [DecisionTreeClassifier(random_state = random_state),\n",
    "             SVC(random_state = random_state),\n",
    "             RandomForestClassifier(random_state = random_state),\n",
    "             KNeighborsClassifier()]\n",
    "\n",
    "dt_param_grid = {\"min_samples_split\" : range(10,500,20),\n",
    "                \"max_depth\": range(1,20,2)}\n",
    "\n",
    "svc_param_grid = {\"kernel\" : [\"rbf\"],\n",
    "                 \"gamma\": [0.001, 0.01, 0.1, 1],\n",
    "                 \"C\": [1,10,50,100,200,300,1000]}\n",
    "\n",
    "rf_param_grid = {\"max_features\": [1,3,10],\n",
    "                \"min_samples_split\":[2,3,10],\n",
    "                \"min_samples_leaf\":[1,3,10],\n",
    "                \"bootstrap\":[False],\n",
    "                \"n_estimators\":[100,300],\n",
    "                \"criterion\":[\"gini\"]}\n",
    "\n",
    "logreg_param_grid = {\"C\":np.logspace(-3,3,7),\n",
    "                    \"penalty\": [\"l1\",\"l2\"]}\n",
    "\n",
    "knn_param_grid = {\"n_neighbors\": np.linspace(1,19,10, dtype = int).tolist(),\n",
    "                 \"weights\": [\"uniform\",\"distance\"],\n",
    "                 \"metric\":[\"euclidean\",\"manhattan\"]}\n",
    "classifier_param = [dt_param_grid,\n",
    "                   svc_param_grid,\n",
    "                   rf_param_grid,\n",
    "                   knn_param_grid]"
   ]
  },
  {
   "cell_type": "code",
   "execution_count": 82,
   "id": "6a3c12f6",
   "metadata": {
    "execution": {
     "iopub.execute_input": "2024-09-15T22:28:56.508471Z",
     "iopub.status.busy": "2024-09-15T22:28:56.508043Z",
     "iopub.status.idle": "2024-09-15T22:30:36.215921Z",
     "shell.execute_reply": "2024-09-15T22:30:36.214399Z"
    },
    "papermill": {
     "duration": 99.771829,
     "end_time": "2024-09-15T22:30:36.218952",
     "exception": false,
     "start_time": "2024-09-15T22:28:56.447123",
     "status": "completed"
    },
    "tags": []
   },
   "outputs": [
    {
     "name": "stdout",
     "output_type": "stream",
     "text": [
      "Fitting 10 folds for each of 250 candidates, totalling 2500 fits\n",
      "0.8038700564971751\n",
      "Fitting 10 folds for each of 28 candidates, totalling 280 fits\n",
      "0.8037570621468927\n",
      "Fitting 10 folds for each of 54 candidates, totalling 540 fits\n",
      "0.8305649717514125\n",
      "Fitting 10 folds for each of 40 candidates, totalling 400 fits\n",
      "0.8019491525423728\n"
     ]
    }
   ],
   "source": [
    "cv_result = []\n",
    "best_estimators = []\n",
    "for i in range(len(classifier)):\n",
    "    clf = GridSearchCV(classifier[i], param_grid=classifier_param[i], cv = StratifiedKFold(n_splits = 10), scoring = \"accuracy\", n_jobs = -1,verbose = 1)\n",
    "    clf.fit(x_train,y_train)\n",
    "    cv_result.append(clf.best_score_)\n",
    "    best_estimators.append(clf.best_estimator_)\n",
    "    print(cv_result[i])"
   ]
  },
  {
   "cell_type": "code",
   "execution_count": 83,
   "id": "b61795c5",
   "metadata": {
    "execution": {
     "iopub.execute_input": "2024-09-15T22:30:36.358461Z",
     "iopub.status.busy": "2024-09-15T22:30:36.358050Z",
     "iopub.status.idle": "2024-09-15T22:30:36.740560Z",
     "shell.execute_reply": "2024-09-15T22:30:36.739461Z"
    },
    "papermill": {
     "duration": 0.447341,
     "end_time": "2024-09-15T22:30:36.743083",
     "exception": false,
     "start_time": "2024-09-15T22:30:36.295742",
     "status": "completed"
    },
    "tags": []
   },
   "outputs": [
    {
     "data": {
      "text/plain": [
       "Text(0.5, 1.0, 'Cross Validation Scores')"
      ]
     },
     "execution_count": 83,
     "metadata": {},
     "output_type": "execute_result"
    },
    {
     "data": {
      "image/png": "[encoded data removed]",
      "text/plain": [
       "<Figure size 640x480 with 1 Axes>"
      ]
     },
     "metadata": {},
     "output_type": "display_data"
    }
   ],
   "source": [
    "cv_results = pd.DataFrame({\"Cross Validation Means\":cv_result, \"ML Models\":[\"DecisionTreeClassifier\", \"SVM\",\"RandomForestClassifier\",\n",
    "             \"KNeighborsClassifier\"]})\n",
    "\n",
    "g = sns.barplot(x=\"Cross Validation Means\", y=\"ML Models\", data=cv_results)\n",
    "g.set_xlabel(\"Mean Accuracy\")\n",
    "g.set_title(\"Cross Validation Scores\")"
   ]
  },
  {
   "cell_type": "markdown",
   "id": "a3088fe4",
   "metadata": {
    "papermill": {
     "duration": 0.060432,
     "end_time": "2024-09-15T22:30:36.864819",
     "exception": false,
     "start_time": "2024-09-15T22:30:36.804387",
     "status": "completed"
    },
    "tags": []
   },
   "source": [
    "<a id=\"33\"></a><br>\n",
    "## Ensemble Modeling"
   ]
  },
  {
   "cell_type": "code",
   "execution_count": 84,
   "id": "c19417b0",
   "metadata": {
    "execution": {
     "iopub.execute_input": "2024-09-15T22:30:36.989264Z",
     "iopub.status.busy": "2024-09-15T22:30:36.988414Z",
     "iopub.status.idle": "2024-09-15T22:30:37.765365Z",
     "shell.execute_reply": "2024-09-15T22:30:37.764020Z"
    },
    "papermill": {
     "duration": 0.841938,
     "end_time": "2024-09-15T22:30:37.768121",
     "exception": false,
     "start_time": "2024-09-15T22:30:36.926183",
     "status": "completed"
    },
    "tags": []
   },
   "outputs": [
    {
     "name": "stdout",
     "output_type": "stream",
     "text": [
      "0.8367346938775511\n"
     ]
    }
   ],
   "source": [
    "votingC = VotingClassifier(estimators = [(\"dt\",best_estimators[0]),\n",
    "                                        (\"rfc\",best_estimators[2])],\n",
    "                                        voting = \"soft\", n_jobs = -1)\n",
    "votingC = votingC.fit(x_train, y_train)\n",
    "print(accuracy_score(votingC.predict(x_test),y_test))"
   ]
  },
  {
   "cell_type": "markdown",
   "id": "0def4fe5",
   "metadata": {
    "papermill": {
     "duration": 0.061698,
     "end_time": "2024-09-15T22:30:37.891555",
     "exception": false,
     "start_time": "2024-09-15T22:30:37.829857",
     "status": "completed"
    },
    "tags": []
   },
   "source": [
    "<a id=\"34\"></a><br>\n",
    "## Prediction and Submission"
   ]
  },
  {
   "cell_type": "code",
   "execution_count": 85,
   "id": "913ce136",
   "metadata": {
    "execution": {
     "iopub.execute_input": "2024-09-15T22:30:38.014869Z",
     "iopub.status.busy": "2024-09-15T22:30:38.014479Z",
     "iopub.status.idle": "2024-09-15T22:30:38.067553Z",
     "shell.execute_reply": "2024-09-15T22:30:38.066356Z"
    },
    "papermill": {
     "duration": 0.118502,
     "end_time": "2024-09-15T22:30:38.070637",
     "exception": false,
     "start_time": "2024-09-15T22:30:37.952135",
     "status": "completed"
    },
    "tags": []
   },
   "outputs": [
    {
     "name": "stdout",
     "output_type": "stream",
     "text": [
      "     PassengerId  Survived\n",
      "0            892       0.0\n",
      "1            893       1.0\n",
      "2            894       0.0\n",
      "3            895       0.0\n",
      "4            896       1.0\n",
      "..           ...       ...\n",
      "413         1305       0.0\n",
      "414         1306       1.0\n",
      "415         1307       0.0\n",
      "416         1308       0.0\n",
      "417         1309       1.0\n",
      "\n",
      "[418 rows x 2 columns]\n"
     ]
    }
   ],
   "source": [
    "test_survived=pd.Series(votingC.predict(test),name=\"Survived\")\n",
    "results=pd.concat([test_PassengerId,test_survived],axis=1)\n",
    "print(results)\n"
   ]
  },
  {
   "cell_type": "code",
   "execution_count": null,
   "id": "eb0f7198",
   "metadata": {
    "papermill": {
     "duration": 0.062345,
     "end_time": "2024-09-15T22:30:38.197414",
     "exception": false,
     "start_time": "2024-09-15T22:30:38.135069",
     "status": "completed"
    },
    "tags": []
   },
   "outputs": [],
   "source": []
  }
 ],
 "metadata": {
  "kaggle": {
   "accelerator": "none",
   "dataSources": [
    {
     "databundleVersionId": 26502,
     "sourceId": 3136,
     "sourceType": "competition"
    }
   ],
   "dockerImageVersionId": 30746,
   "isGpuEnabled": false,
   "isInternetEnabled": false,
   "language": "python",
   "sourceType": "notebook"
  },
  "kernelspec": {
   "display_name": "Python 3",
   "language": "python",
   "name": "python3"
  },
  "language_info": {
   "codemirror_mode": {
    "name": "ipython",
    "version": 3
   },
   "file_extension": ".py",
   "mimetype": "text/x-python",
   "name": "python",
   "nbconvert_exporter": "python",
   "pygments_lexer": "ipython3",
   "version": "3.10.13"
  },
  "papermill": {
   "default_parameters": {},
   "duration": 145.502208,
   "end_time": "2024-09-15T22:30:40.882596",
   "environment_variables": {},
   "exception": null,
   "input_path": "__notebook__.ipynb",
   "output_path": "__notebook__.ipynb",
   "parameters": {},
   "start_time": "2024-09-15T22:28:15.380388",
   "version": "2.5.0"
  }
 },
 "nbformat": 4,
 "nbformat_minor": 5
}
